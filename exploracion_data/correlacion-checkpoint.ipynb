{
 "cells": [
  {
   "cell_type": "code",
   "execution_count": 1,
   "metadata": {},
   "outputs": [
    {
     "ename": "ModuleNotFoundError",
     "evalue": "No module named 'utils.bq_conn'",
     "output_type": "error",
     "traceback": [
      "\u001b[0;31m---------------------------------------------------------------------------\u001b[0m",
      "\u001b[0;31mModuleNotFoundError\u001b[0m                       Traceback (most recent call last)",
      "\u001b[0;32m/var/folders/b_/9gjbt5hx7b71v8dgpt18f8340000gn/T/ipykernel_5641/3867756684.py\u001b[0m in \u001b[0;36m<cell line: 21>\u001b[0;34m()\u001b[0m\n\u001b[1;32m     19\u001b[0m \u001b[0;34m\u001b[0m\u001b[0m\n\u001b[1;32m     20\u001b[0m \u001b[0;31m# BIG QUERY\u001b[0m\u001b[0;34m\u001b[0m\u001b[0;34m\u001b[0m\u001b[0m\n\u001b[0;32m---> 21\u001b[0;31m \u001b[0;32mfrom\u001b[0m \u001b[0mutils\u001b[0m\u001b[0;34m.\u001b[0m\u001b[0mbq_conn\u001b[0m \u001b[0;32mimport\u001b[0m \u001b[0mbq_conn_file\u001b[0m\u001b[0;34m\u001b[0m\u001b[0;34m\u001b[0m\u001b[0m\n\u001b[0m\u001b[1;32m     22\u001b[0m \u001b[0;31m# %%\u001b[0m\u001b[0;34m\u001b[0m\u001b[0;34m\u001b[0m\u001b[0m\n\u001b[1;32m     23\u001b[0m \u001b[0mbq_client\u001b[0m \u001b[0;34m=\u001b[0m \u001b[0mbq_conn_file\u001b[0m\u001b[0;34m(\u001b[0m\u001b[0mproject_id\u001b[0m\u001b[0;34m=\u001b[0m\u001b[0;34m\"dsa-miad-365616\"\u001b[0m\u001b[0;34m)\u001b[0m\u001b[0;34m\u001b[0m\u001b[0;34m\u001b[0m\u001b[0m\n",
      "\u001b[0;31mModuleNotFoundError\u001b[0m: No module named 'utils.bq_conn'"
     ]
    }
   ],
   "source": [
    "import os\n",
    "import pathlib\n",
    "import sys\n",
    "\n",
    "# PROCESAMIENTO\n",
    "from scipy import linalg\n",
    "import numpy as np\n",
    "from scipy import linalg\n",
    "from sklearn.decomposition import PCA\n",
    "import pandas as pd\n",
    "\n",
    "# GRAFICACION\n",
    "import seaborn as sns\n",
    "import matplotlib.pyplot as plt\n",
    "\n",
    "\n",
    "sys.path.append(os.path.join(pathlib.Path(os.getcwd()).parent))\n",
    "from datetime import datetime\n",
    "\n",
    "# BIG QUERY\n",
    "from utils.bq_conn import bq_conn_file\n",
    "# %%\n",
    "bq_client = bq_conn_file(project_id=\"dsa-miad-365616\")\n"
   ]
  },
  {
   "cell_type": "code",
   "execution_count": null,
   "metadata": {},
   "outputs": [],
   "source": [
    "query = '''\n",
    "SELECT\n",
    "    *\n",
    "FROM `Proyecto.DatosSecopI`\n",
    "ORDER BY anno_cargue_secop DESC\n",
    "'''\n",
    "secop_I = bq_client.execute_query(query=query)\n",
    "secop_I.head(3)"
   ]
  },
  {
   "cell_type": "code",
   "execution_count": null,
   "metadata": {},
   "outputs": [],
   "source": [
    "query = '''\n",
    "SELECT\n",
    "    *\n",
    "FROM `Proyecto.DatosSecopII`\n",
    "ORDER BY estado_contrato DESC\n",
    "'''\n",
    "secop_II = bq_client.execute_query(query=query)\n",
    "secop_II.head(3)"
   ]
  },
  {
   "cell_type": "code",
   "execution_count": null,
   "metadata": {},
   "outputs": [],
   "source": [
    "secop_I.columns"
   ]
  },
  {
   "cell_type": "code",
   "execution_count": null,
   "metadata": {},
   "outputs": [],
   "source": [
    "baseI=secop_I[['uid', 'anno_cargue_secop', 'modalidad_de_contratacion',\n",
    "       'estado_del_proceso', 'tipo_de_contrato', 'departamento_ejecucion', 'nombre_grupo', \n",
    "       'nombre_familia', 'id_clase', 'nombre_clase', 'id_adjudicacion','identificacion_del_contratista',\n",
    "       'nom_razon_social_contratista','identific_representante_legal',\n",
    "       'dias_ejec_final_contrato', 'prorrogado','tiempo_adiciones_en_dias', 'cuantia_contrato', 'con_adicion_pptal',\n",
    "       'valor_total_de_adiciones', 'valor_contrato_con_adiciones', 'moneda',\n",
    "       'objeto_del_contrato_a_la', 'ruta_proceso_en_secop_i']]"
   ]
  },
  {
   "cell_type": "code",
   "execution_count": null,
   "metadata": {},
   "outputs": [],
   "source": [
    "secop_II.columns"
   ]
  },
  {
   "cell_type": "code",
   "execution_count": null,
   "metadata": {},
   "outputs": [],
   "source": [
    "baseII=secop_II[[\"estado_contrato\", \"tipo_de_contrato\", \"modalidad_de_contratacion\", \"justificacion_modalidad_de\", \"destino_gasto\", \"nombre_representante_legal\", \"identificaci_n_representante_legal\", \"objeto_del_contrato\", \"prorrogado\",\"dias_adicionados\"]]"
   ]
  },
  {
   "cell_type": "code",
   "execution_count": null,
   "metadata": {},
   "outputs": [],
   "source": [
    "baseII.info()"
   ]
  },
  {
   "cell_type": "code",
   "execution_count": null,
   "metadata": {},
   "outputs": [],
   "source": [
    "baseI.info()"
   ]
  },
  {
   "cell_type": "code",
   "execution_count": null,
   "metadata": {
    "scrolled": true
   },
   "outputs": [],
   "source": [
    "n = baseI.isna()== True \n",
    "baseI = baseI.fillna(0)\n",
    "baseI.info()"
   ]
  },
  {
   "cell_type": "code",
   "execution_count": null,
   "metadata": {},
   "outputs": [],
   "source": [
    "n = baseII.isna()== True \n",
    "baseII = baseII.fillna(0)\n",
    "baseII.info()"
   ]
  },
  {
   "cell_type": "markdown",
   "metadata": {},
   "source": [
    "## MODELOS DE CORRELACIÓN DE VARIABLES CATEGÓRICAS PARA SECOP I "
   ]
  },
  {
   "cell_type": "markdown",
   "metadata": {},
   "source": [
    "### MODELO GET_DUMMIES"
   ]
  },
  {
   "cell_type": "code",
   "execution_count": null,
   "metadata": {},
   "outputs": [],
   "source": [
    "dataI = pd.get_dummies(baseI)\n",
    "\n",
    "# calcular la matriz de correlación de Pearson\n",
    "correlation_matrixI = dataI.corr(method='pearson')\n",
    "\n",
    "# imprimir matriz de correlación\n",
    "sns.heatmap(correlation_matrixI, vmin=-1, vmax=1, annot=True)"
   ]
  },
  {
   "cell_type": "markdown",
   "metadata": {},
   "source": [
    "### MODELO FACTORIZACIÓN DE ATRIBUTOS"
   ]
  },
  {
   "cell_type": "code",
   "execution_count": null,
   "metadata": {},
   "outputs": [],
   "source": [
    "# Codificación de las variables categoricas\n",
    "baseI['estado_del_proceso'] = pd.factorize(baseI.estado_contrato)[0]\n",
    "baseI['tipo_de_contrato'] = pd.factorize(baseI.tipo_de_contrato)[0]\n",
    "baseI['modalidad_de_contratacion'] = pd.factorize(baseI.modalidad_de_contratacion)[0]\n",
    "baseI['departamento_ejecucion'] = pd.factorize(baseI.departamento_ejecucion)[0]\n",
    "baseI['nombre_grupo'] = pd.factorize(baseI.nombre_grupo)[0]\n",
    "baseI['nombre_familia'] = pd.factorize(baseI.nombre_familia)[0]\n",
    "baseI['nombre_clase'] = pd.factorize(baseI.nombre_clase)[0]\n",
    "baseI['nom_razon_social_contratista'] = pd.factorize(baseI.nom_razon_social_contratista)[0]\n",
    "baseI['identificacion_del_contratista'] = pd.factorize(baseI.identificacion_del_contratista)[0]\n",
    "baseI['objeto_del_contrato_a_la'] = pd.factorize(baseI.objeto_del_contrato_a_la)[0]\n",
    "baseI['identific_representante_legal'] = pd.factorize(baseI.identific_representante_legal)[0]\n",
    "baseI['moneda'] = pd.factorize(baseI.moneda)[0]\n",
    "baseI['id_adjudicacion'] = pd.factorize(baseI.id_adjudicacion)[0]"
   ]
  },
  {
   "cell_type": "code",
   "execution_count": null,
   "metadata": {},
   "outputs": [],
   "source": [
    "baseI"
   ]
  },
  {
   "cell_type": "code",
   "execution_count": null,
   "metadata": {},
   "outputs": [],
   "source": [
    "sns.heatmap(baseI.corr(), vmin=-1, vmax=1, annot=True)"
   ]
  },
  {
   "cell_type": "markdown",
   "metadata": {},
   "source": [
    "En el anterior mapa de calor no encontramos, que todas las variables son independientes, con excepción de el nombre y la identificación del contratista, aunque existe cierta relación objetiva (>85%) entr el objeto del contrato y el estaod del mismo. Para nuestra variable de interés que es la catidad de dîas adicionados no parece haber una verdadera relación entre esta y las demás variables. Por lo que sin ser concluyente, puede decirse que no parecería haber una dependencia entre las prórrogas y la mayoría de los atributos de los contratos.\n",
    "\n",
    "No obstante la factorización, no siempre es la mejor opción para verificar correlación entre variable categóricas. Por lo cual deben evaluarse nuevas formas de evaluación de la dependencia o no entre las variables del contrato y su prorrogación. \n"
   ]
  },
  {
   "cell_type": "markdown",
   "metadata": {},
   "source": [
    "### MODELO DE CLASIFICACIÓN POR EIGENVECTORES"
   ]
  },
  {
   "cell_type": "code",
   "execution_count": null,
   "metadata": {},
   "outputs": [],
   "source": [
    "S = baseI.cov()\n",
    "eig_val, eig_vec = np.linalg.eig(S)\n",
    "eig_val\n",
    "\n",
    "eig_val_diag = np.diag(eig_val)\n",
    "eig_val"
   ]
  },
  {
   "cell_type": "code",
   "execution_count": null,
   "metadata": {},
   "outputs": [],
   "source": [
    "vector = eig_val/sum(eig_val)\n",
    "vector"
   ]
  },
  {
   "cell_type": "code",
   "execution_count": null,
   "metadata": {},
   "outputs": [],
   "source": [
    "eigenv=pd.DataFrame(eig_vec.dot(eig_val_diag).dot(eig_vec.T), columns= S.columns, index= S.index)"
   ]
  },
  {
   "cell_type": "code",
   "execution_count": null,
   "metadata": {},
   "outputs": [],
   "source": [
    "sns.pairplot(eigenv)"
   ]
  },
  {
   "cell_type": "code",
   "execution_count": null,
   "metadata": {},
   "outputs": [],
   "source": [
    "X = baseI[['estado_contrato','tipo_de_contrato', 'modalidad_de_contratacion','justificacion_modalidad_de','destino_gasto', 'nombre_representante_legal', 'identificaci_n_representante_legal', 'objeto_del_contrato','prorrogado']]\n",
    "y = (baseI.dias_adicionados)"
   ]
  },
  {
   "cell_type": "code",
   "execution_count": null,
   "metadata": {},
   "outputs": [],
   "source": [
    "pca = PCA(n_components=4)\n",
    ">>> pca.fit(X)"
   ]
  },
  {
   "cell_type": "markdown",
   "metadata": {},
   "source": [
    "## MODELOS DE CORRELACIÓN DE VARIABLES CATEGÓRICAS PARA SECOP II"
   ]
  },
  {
   "cell_type": "markdown",
   "metadata": {},
   "source": [
    "### MODELO GET_DUMMIES"
   ]
  },
  {
   "cell_type": "code",
   "execution_count": null,
   "metadata": {},
   "outputs": [],
   "source": [
    "dataII = pd.get_dummies(baseII)\n",
    "\n",
    "# calcular la matriz de correlación de Pearson\n",
    "correlation_matrixII = dataII.corr(method='pearson')\n",
    "\n",
    "# Graficar matriz de correlación\n",
    "sns.heatmap(correlation_matrixII, vmin=-1, vmax=1, annot=True)"
   ]
  },
  {
   "cell_type": "markdown",
   "metadata": {},
   "source": [
    "### MODELO FACTORIZACIÓN DE ATRIBUTOS"
   ]
  },
  {
   "cell_type": "code",
   "execution_count": null,
   "metadata": {},
   "outputs": [],
   "source": [
    "# Codificación de las variables categoricas\n",
    "baseII['estado_contrato'] = pd.factorize(baseII.estado_contrato)[0]\n",
    "baseII['tipo_de_contrato'] = pd.factorize(baseII.tipo_de_contrato)[0]\n",
    "baseII['modalidad_de_contratacion'] = pd.factorize(baseII.modalidad_de_contratacion)[0]\n",
    "baseII['justificacion_modalidad_de'] = pd.factorize(baseII.justificacion_modalidad_de)[0]\n",
    "baseII['destino_gasto'] = pd.factorize(baseII.destino_gasto)[0]\n",
    "baseII['nombre_representante_legal'] = pd.factorize(baseII.nombre_representante_legal)[0]\n",
    "baseII['objeto_del_contrato'] = pd.factorize(baseII.objeto_del_contrato)[0]\n",
    "baseII['identificaci_n_representante_legal'] = pd.factorize(baseII.identificaci_n_representante_legal)[0]"
   ]
  },
  {
   "cell_type": "code",
   "execution_count": null,
   "metadata": {},
   "outputs": [],
   "source": [
    "baseII"
   ]
  },
  {
   "cell_type": "code",
   "execution_count": null,
   "metadata": {},
   "outputs": [],
   "source": [
    "sns.heatmap(baseII.corr(), vmin=-1, vmax=1, annot=True)"
   ]
  },
  {
   "cell_type": "markdown",
   "metadata": {},
   "source": [
    "Efectuando la selección de atributos principales encontramos que los eigenvalores diagonales de la matriz de covarianzas, muestra importancia superior en el atriubuto \"destino del gasto\" como componente principal de la matriz para explicar los otros atributos. "
   ]
  },
  {
   "cell_type": "code",
   "execution_count": null,
   "metadata": {
    "scrolled": true
   },
   "outputs": [],
   "source": [
    "fig, ax = plt.subplots()    \n",
    "ax.plot(pca.explained_variance_)\n",
    "ax.xaxis.set_major_locator\n",
    "ax.set_xlabel('Principal Component')\n",
    "ax.set_ylabel('Eigenvalue')\n",
    "plt.xticks(np.arange(9), np.arange(1, 10))\n",
    "ax.title.set_text('Componentes principales')\n",
    "plt.show()\n"
   ]
  },
  {
   "cell_type": "code",
   "execution_count": null,
   "metadata": {},
   "outputs": [],
   "source": [
    "profile = ProfileReport(baseII, title = \"Profiling Report\", explorative = True)\n",
    "profile.to_widgets()"
   ]
  }
 ],
 "metadata": {
  "kernelspec": {
   "display_name": "Python 3 (ipykernel)",
   "language": "python",
   "name": "python3"
  },
  "language_info": {
   "codemirror_mode": {
    "name": "ipython",
    "version": 3
   },
   "file_extension": ".py",
   "mimetype": "text/x-python",
   "name": "python",
   "nbconvert_exporter": "python",
   "pygments_lexer": "ipython3",
   "version": "3.10.11"
  }
 },
 "nbformat": 4,
 "nbformat_minor": 2
}
