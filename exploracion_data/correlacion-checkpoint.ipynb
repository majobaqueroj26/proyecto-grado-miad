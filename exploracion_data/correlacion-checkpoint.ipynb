{
 "cells": [
  {
   "cell_type": "code",
   "execution_count": 1,
   "metadata": {},
   "outputs": [],
   "source": [
    "import os\n",
    "import pathlib\n",
    "import sys\n",
    "\n",
    "# PROCESAMIENTO\n",
    "from scipy import linalg\n",
    "import numpy as np\n",
    "from scipy import linalg\n",
    "from sklearn.decomposition import PCA\n",
    "import pandas as pd\n",
    "\n",
    "# GRAFICACION\n",
    "import seaborn as sns\n",
    "import matplotlib.pyplot as plt\n",
    "\n",
    "\n",
    "sys.path.append(os.path.join(pathlib.Path(os.getcwd()).parent))\n",
    "from datetime import datetime\n",
    "\n",
    "# BIG QUERY\n",
    "from utils.bq_conn import bq_conn_file\n",
    "# %%\n",
    "bq_client = bq_conn_file(project_id=\"dsa-miad-365616\")\n"
   ]
  },
  {
   "cell_type": "code",
   "execution_count": 2,
   "metadata": {},
   "outputs": [
    {
     "data": {
      "text/html": [
       "<div>\n",
       "<style scoped>\n",
       "    .dataframe tbody tr th:only-of-type {\n",
       "        vertical-align: middle;\n",
       "    }\n",
       "\n",
       "    .dataframe tbody tr th {\n",
       "        vertical-align: top;\n",
       "    }\n",
       "\n",
       "    .dataframe thead th {\n",
       "        text-align: right;\n",
       "    }\n",
       "</style>\n",
       "<table border=\"1\" class=\"dataframe\">\n",
       "  <thead>\n",
       "    <tr style=\"text-align: right;\">\n",
       "      <th></th>\n",
       "      <th>uid</th>\n",
       "      <th>anno_cargue_secop</th>\n",
       "      <th>id_modalidad</th>\n",
       "      <th>modalidad_de_contratacion</th>\n",
       "      <th>estado_del_proceso</th>\n",
       "      <th>id_objeto_a_contratar</th>\n",
       "      <th>detalle_del_objeto_a_contratar</th>\n",
       "      <th>tipo_de_contrato</th>\n",
       "      <th>municipio_de_obtencion</th>\n",
       "      <th>municipios_ejecucion_</th>\n",
       "      <th>...</th>\n",
       "      <th>rango_de_ejec_del_contrato</th>\n",
       "      <th>prorrogado</th>\n",
       "      <th>tiempo_adiciones_en_dias</th>\n",
       "      <th>cuantia_contrato</th>\n",
       "      <th>con_adicion_pptal</th>\n",
       "      <th>valor_total_de_adiciones</th>\n",
       "      <th>valor_contrato_con_adiciones</th>\n",
       "      <th>moneda</th>\n",
       "      <th>objeto_del_contrato_a_la</th>\n",
       "      <th>ruta_proceso_en_secop_i</th>\n",
       "    </tr>\n",
       "  </thead>\n",
       "  <tbody>\n",
       "    <tr>\n",
       "      <th>0</th>\n",
       "      <td>191389136418143424</td>\n",
       "      <td>2019</td>\n",
       "      <td>13</td>\n",
       "      <td>contratacion minima cuantia</td>\n",
       "      <td>celebrado</td>\n",
       "      <td>50000000</td>\n",
       "      <td>contratar servicio suministro elementos materi...</td>\n",
       "      <td>suministro</td>\n",
       "      <td>facatativa</td>\n",
       "      <td>facatativa</td>\n",
       "      <td>...</td>\n",
       "      <td>D</td>\n",
       "      <td>0</td>\n",
       "      <td>0</td>\n",
       "      <td>50000000</td>\n",
       "      <td>0</td>\n",
       "      <td>0</td>\n",
       "      <td>50000000</td>\n",
       "      <td>peso colombiano</td>\n",
       "      <td>contratar compra elementos materia prima para ...</td>\n",
       "      <td>{'url': 'https://www.contratos.gov.co/consulta...</td>\n",
       "    </tr>\n",
       "    <tr>\n",
       "      <th>1</th>\n",
       "      <td>1912101041779226352</td>\n",
       "      <td>2019</td>\n",
       "      <td>12</td>\n",
       "      <td>contratacion directa ley de</td>\n",
       "      <td>celebrado</td>\n",
       "      <td>53000000</td>\n",
       "      <td>adquisicion uniformes para dotar personal cuer...</td>\n",
       "      <td>prestacion de servicios</td>\n",
       "      <td>bogota</td>\n",
       "      <td>bogota</td>\n",
       "      <td>...</td>\n",
       "      <td>D</td>\n",
       "      <td>1</td>\n",
       "      <td>30</td>\n",
       "      <td>22980096902</td>\n",
       "      <td>0</td>\n",
       "      <td>0</td>\n",
       "      <td>22980096902</td>\n",
       "      <td>peso colombiano</td>\n",
       "      <td>adquisicion uniformes para dotar personal cuer...</td>\n",
       "      <td>{'url': 'https://www.contratos.gov.co/consulta...</td>\n",
       "    </tr>\n",
       "    <tr>\n",
       "      <th>2</th>\n",
       "      <td>1912101443259265538</td>\n",
       "      <td>2019</td>\n",
       "      <td>12</td>\n",
       "      <td>contratacion directa ley de</td>\n",
       "      <td>celebrado</td>\n",
       "      <td>55000000</td>\n",
       "      <td>contratar diseno produccion tarjetas presentac...</td>\n",
       "      <td>prestacion de servicios</td>\n",
       "      <td>bogota</td>\n",
       "      <td>bogota</td>\n",
       "      <td>...</td>\n",
       "      <td>D</td>\n",
       "      <td>1</td>\n",
       "      <td>40</td>\n",
       "      <td>35998452</td>\n",
       "      <td>0</td>\n",
       "      <td>0</td>\n",
       "      <td>35998452</td>\n",
       "      <td>peso colombiano</td>\n",
       "      <td>contratar diseno produccion tarjetas presentac...</td>\n",
       "      <td>{'url': 'https://www.contratos.gov.co/consulta...</td>\n",
       "    </tr>\n",
       "  </tbody>\n",
       "</table>\n",
       "<p>3 rows × 38 columns</p>\n",
       "</div>"
      ],
      "text/plain": [
       "                   uid  anno_cargue_secop  id_modalidad   \n",
       "0   191389136418143424               2019            13  \\\n",
       "1  1912101041779226352               2019            12   \n",
       "2  1912101443259265538               2019            12   \n",
       "\n",
       "     modalidad_de_contratacion estado_del_proceso  id_objeto_a_contratar   \n",
       "0  contratacion minima cuantia          celebrado               50000000  \\\n",
       "1  contratacion directa ley de          celebrado               53000000   \n",
       "2  contratacion directa ley de          celebrado               55000000   \n",
       "\n",
       "                      detalle_del_objeto_a_contratar         tipo_de_contrato   \n",
       "0  contratar servicio suministro elementos materi...               suministro  \\\n",
       "1  adquisicion uniformes para dotar personal cuer...  prestacion de servicios   \n",
       "2  contratar diseno produccion tarjetas presentac...  prestacion de servicios   \n",
       "\n",
       "  municipio_de_obtencion municipios_ejecucion_  ...   \n",
       "0             facatativa            facatativa  ...  \\\n",
       "1                 bogota                bogota  ...   \n",
       "2                 bogota                bogota  ...   \n",
       "\n",
       "  rango_de_ejec_del_contrato prorrogado tiempo_adiciones_en_dias   \n",
       "0                          D          0                        0  \\\n",
       "1                          D          1                       30   \n",
       "2                          D          1                       40   \n",
       "\n",
       "   cuantia_contrato con_adicion_pptal valor_total_de_adiciones   \n",
       "0          50000000                 0                        0  \\\n",
       "1       22980096902                 0                        0   \n",
       "2          35998452                 0                        0   \n",
       "\n",
       "  valor_contrato_con_adiciones           moneda   \n",
       "0                     50000000  peso colombiano  \\\n",
       "1                  22980096902  peso colombiano   \n",
       "2                     35998452  peso colombiano   \n",
       "\n",
       "                            objeto_del_contrato_a_la   \n",
       "0  contratar compra elementos materia prima para ...  \\\n",
       "1  adquisicion uniformes para dotar personal cuer...   \n",
       "2  contratar diseno produccion tarjetas presentac...   \n",
       "\n",
       "                             ruta_proceso_en_secop_i  \n",
       "0  {'url': 'https://www.contratos.gov.co/consulta...  \n",
       "1  {'url': 'https://www.contratos.gov.co/consulta...  \n",
       "2  {'url': 'https://www.contratos.gov.co/consulta...  \n",
       "\n",
       "[3 rows x 38 columns]"
      ]
     },
     "execution_count": 2,
     "metadata": {},
     "output_type": "execute_result"
    }
   ],
   "source": [
    "query = '''\n",
    "SELECT\n",
    "    *\n",
    "FROM `Proyecto.DatosSecopI`\n",
    "ORDER BY anno_cargue_secop DESC\n",
    "'''\n",
    "secop_I = bq_client.execute_query(query=query)\n",
    "secop_I.head(3)"
   ]
  },
  {
   "cell_type": "code",
   "execution_count": 3,
   "metadata": {},
   "outputs": [
    {
     "data": {
      "text/html": [
       "<div>\n",
       "<style scoped>\n",
       "    .dataframe tbody tr th:only-of-type {\n",
       "        vertical-align: middle;\n",
       "    }\n",
       "\n",
       "    .dataframe tbody tr th {\n",
       "        vertical-align: top;\n",
       "    }\n",
       "\n",
       "    .dataframe thead th {\n",
       "        text-align: right;\n",
       "    }\n",
       "</style>\n",
       "<table border=\"1\" class=\"dataframe\">\n",
       "  <thead>\n",
       "    <tr style=\"text-align: right;\">\n",
       "      <th></th>\n",
       "      <th>rama</th>\n",
       "      <th>entidad_centralizada</th>\n",
       "      <th>proceso_de_compra</th>\n",
       "      <th>id_contrato</th>\n",
       "      <th>estado_contrato</th>\n",
       "      <th>descripcion_del_proceso</th>\n",
       "      <th>tipo_de_contrato</th>\n",
       "      <th>modalidad_de_contratacion</th>\n",
       "      <th>justificacion_modalidad_de</th>\n",
       "      <th>tipodocproveedor</th>\n",
       "      <th>...</th>\n",
       "      <th>valor_pendiente_de_ejecucion</th>\n",
       "      <th>saldo_cdp</th>\n",
       "      <th>urlproceso</th>\n",
       "      <th>destino_gasto</th>\n",
       "      <th>dias_adicionados</th>\n",
       "      <th>nombre_representante_legal</th>\n",
       "      <th>tipo_de_identificaci_n_representante_legal</th>\n",
       "      <th>identificaci_n_representante_legal</th>\n",
       "      <th>objeto_del_contrato</th>\n",
       "      <th>prorrogado</th>\n",
       "    </tr>\n",
       "  </thead>\n",
       "  <tbody>\n",
       "    <tr>\n",
       "      <th>0</th>\n",
       "      <td>corporacion autonoma</td>\n",
       "      <td>descentralizada</td>\n",
       "      <td>CO1BDOS2150366</td>\n",
       "      <td>CO1PCCNTR2897782</td>\n",
       "      <td>terminado</td>\n",
       "      <td>contratar elaboracion avaluos comerciales bien...</td>\n",
       "      <td>prestacion de servicios</td>\n",
       "      <td>licitacion publica</td>\n",
       "      <td>ley de</td>\n",
       "      <td>no definido</td>\n",
       "      <td>...</td>\n",
       "      <td>904400000</td>\n",
       "      <td>1910000000</td>\n",
       "      <td>{'url': 'https://community.secop.gov.co/Public...</td>\n",
       "      <td>funcionamiento</td>\n",
       "      <td>0</td>\n",
       "      <td>wilson suarez merchan</td>\n",
       "      <td>sin descripcion</td>\n",
       "      <td>79382241</td>\n",
       "      <td>contratar elaboracion avaluos comerciales bien...</td>\n",
       "      <td>0</td>\n",
       "    </tr>\n",
       "    <tr>\n",
       "      <th>1</th>\n",
       "      <td>corporacion autonoma</td>\n",
       "      <td>descentralizada</td>\n",
       "      <td>CO1BDOS851907</td>\n",
       "      <td>CO1PCCNTR1050201</td>\n",
       "      <td>terminado</td>\n",
       "      <td>disenar validar instrumento para caracterizaci...</td>\n",
       "      <td>consultoria</td>\n",
       "      <td>concurso de meritos abierto</td>\n",
       "      <td>ley de</td>\n",
       "      <td>no definido</td>\n",
       "      <td>...</td>\n",
       "      <td>242117024</td>\n",
       "      <td>243424903</td>\n",
       "      <td>{'url': 'https://community.secop.gov.co/Public...</td>\n",
       "      <td>inversion</td>\n",
       "      <td>0</td>\n",
       "      <td>sin descripcion</td>\n",
       "      <td>sin descripcion</td>\n",
       "      <td>Sin Descripcion</td>\n",
       "      <td>disenar validar instrumento para caracterizaci...</td>\n",
       "      <td>0</td>\n",
       "    </tr>\n",
       "    <tr>\n",
       "      <th>2</th>\n",
       "      <td>corporacion autonoma</td>\n",
       "      <td>descentralizada</td>\n",
       "      <td>CO1BDOS2737497</td>\n",
       "      <td>CO1PCCNTR3472983</td>\n",
       "      <td>terminado</td>\n",
       "      <td>prestar servicios como profesional ngeniera si...</td>\n",
       "      <td>prestacion de servicios</td>\n",
       "      <td>contratacion directa</td>\n",
       "      <td>serviciosprofesionales</td>\n",
       "      <td>cedula de ciudadania</td>\n",
       "      <td>...</td>\n",
       "      <td>21000000</td>\n",
       "      <td>21000000</td>\n",
       "      <td>{'url': 'https://community.secop.gov.co/Public...</td>\n",
       "      <td>funcionamiento</td>\n",
       "      <td>0</td>\n",
       "      <td>hernan avila puentes</td>\n",
       "      <td>sin descripcion</td>\n",
       "      <td>6010713</td>\n",
       "      <td>prestar servicios como profesional ngeniera si...</td>\n",
       "      <td>0</td>\n",
       "    </tr>\n",
       "  </tbody>\n",
       "</table>\n",
       "<p>3 rows × 31 columns</p>\n",
       "</div>"
      ],
      "text/plain": [
       "                   rama entidad_centralizada proceso_de_compra   \n",
       "0  corporacion autonoma      descentralizada    CO1BDOS2150366  \\\n",
       "1  corporacion autonoma      descentralizada     CO1BDOS851907   \n",
       "2  corporacion autonoma      descentralizada    CO1BDOS2737497   \n",
       "\n",
       "        id_contrato estado_contrato   \n",
       "0  CO1PCCNTR2897782       terminado  \\\n",
       "1  CO1PCCNTR1050201       terminado   \n",
       "2  CO1PCCNTR3472983       terminado   \n",
       "\n",
       "                             descripcion_del_proceso         tipo_de_contrato   \n",
       "0  contratar elaboracion avaluos comerciales bien...  prestacion de servicios  \\\n",
       "1  disenar validar instrumento para caracterizaci...              consultoria   \n",
       "2  prestar servicios como profesional ngeniera si...  prestacion de servicios   \n",
       "\n",
       "     modalidad_de_contratacion justificacion_modalidad_de   \n",
       "0           licitacion publica                     ley de  \\\n",
       "1  concurso de meritos abierto                     ley de   \n",
       "2         contratacion directa     serviciosprofesionales   \n",
       "\n",
       "       tipodocproveedor  ... valor_pendiente_de_ejecucion   saldo_cdp   \n",
       "0           no definido  ...                    904400000  1910000000  \\\n",
       "1           no definido  ...                    242117024   243424903   \n",
       "2  cedula de ciudadania  ...                     21000000    21000000   \n",
       "\n",
       "                                          urlproceso   destino_gasto   \n",
       "0  {'url': 'https://community.secop.gov.co/Public...  funcionamiento  \\\n",
       "1  {'url': 'https://community.secop.gov.co/Public...       inversion   \n",
       "2  {'url': 'https://community.secop.gov.co/Public...  funcionamiento   \n",
       "\n",
       "  dias_adicionados nombre_representante_legal   \n",
       "0                0      wilson suarez merchan  \\\n",
       "1                0            sin descripcion   \n",
       "2                0       hernan avila puentes   \n",
       "\n",
       "   tipo_de_identificaci_n_representante_legal   \n",
       "0                             sin descripcion  \\\n",
       "1                             sin descripcion   \n",
       "2                             sin descripcion   \n",
       "\n",
       "   identificaci_n_representante_legal   \n",
       "0                            79382241  \\\n",
       "1                     Sin Descripcion   \n",
       "2                             6010713   \n",
       "\n",
       "                                 objeto_del_contrato  prorrogado  \n",
       "0  contratar elaboracion avaluos comerciales bien...           0  \n",
       "1  disenar validar instrumento para caracterizaci...           0  \n",
       "2  prestar servicios como profesional ngeniera si...           0  \n",
       "\n",
       "[3 rows x 31 columns]"
      ]
     },
     "execution_count": 3,
     "metadata": {},
     "output_type": "execute_result"
    }
   ],
   "source": [
    "query = '''\n",
    "SELECT\n",
    "    *\n",
    "FROM `Proyecto.DatosSecopII`\n",
    "ORDER BY estado_contrato DESC\n",
    "'''\n",
    "secop_II = bq_client.execute_query(query=query)\n",
    "secop_II.head(3)"
   ]
  },
  {
   "cell_type": "code",
   "execution_count": 4,
   "metadata": {},
   "outputs": [
    {
     "data": {
      "text/plain": [
       "Index(['uid', 'anno_cargue_secop', 'id_modalidad', 'modalidad_de_contratacion',\n",
       "       'estado_del_proceso', 'id_objeto_a_contratar',\n",
       "       'detalle_del_objeto_a_contratar', 'tipo_de_contrato',\n",
       "       'municipio_de_obtencion', 'municipios_ejecucion_',\n",
       "       'departamento_ejecucion', 'numero_de_proceso', 'numero_de_contrato',\n",
       "       'cuantia_proceso', 'id_grupo', 'nombre_grupo', 'id_familia',\n",
       "       'nombre_familia', 'id_clase', 'nombre_clase', 'id_adjudicacion',\n",
       "       'tipo_identifi_del_contratista', 'identificacion_del_contratista',\n",
       "       'nom_razon_social_contratista', 'tipo_doc_representante_legal',\n",
       "       'identific_representante_legal', 'plazo_de_ejec_del_contrato_',\n",
       "       'dias_ejec_final_contrato', 'rango_de_ejec_del_contrato', 'prorrogado',\n",
       "       'tiempo_adiciones_en_dias', 'cuantia_contrato', 'con_adicion_pptal',\n",
       "       'valor_total_de_adiciones', 'valor_contrato_con_adiciones', 'moneda',\n",
       "       'objeto_del_contrato_a_la', 'ruta_proceso_en_secop_i'],\n",
       "      dtype='object')"
      ]
     },
     "execution_count": 4,
     "metadata": {},
     "output_type": "execute_result"
    }
   ],
   "source": [
    "secop_I.columns"
   ]
  },
  {
   "cell_type": "code",
   "execution_count": 5,
   "metadata": {},
   "outputs": [],
   "source": [
    "baseI=secop_I[['uid', 'anno_cargue_secop', 'modalidad_de_contratacion',\n",
    "       'estado_del_proceso', 'tipo_de_contrato', 'departamento_ejecucion', 'nombre_grupo', \n",
    "       'nombre_familia', 'id_clase', 'nombre_clase', 'id_adjudicacion','identificacion_del_contratista',\n",
    "       'nom_razon_social_contratista','identific_representante_legal',\n",
    "       'dias_ejec_final_contrato', 'prorrogado','tiempo_adiciones_en_dias', 'cuantia_contrato', 'con_adicion_pptal',\n",
    "       'valor_total_de_adiciones', 'valor_contrato_con_adiciones', 'moneda',\n",
    "       'objeto_del_contrato_a_la', 'ruta_proceso_en_secop_i']]"
   ]
  },
  {
   "cell_type": "code",
   "execution_count": 6,
   "metadata": {},
   "outputs": [
    {
     "data": {
      "text/plain": [
       "Index(['rama', 'entidad_centralizada', 'proceso_de_compra', 'id_contrato',\n",
       "       'estado_contrato', 'descripcion_del_proceso', 'tipo_de_contrato',\n",
       "       'modalidad_de_contratacion', 'justificacion_modalidad_de',\n",
       "       'tipodocproveedor', 'documento_proveedor', 'proveedor_adjudicado',\n",
       "       'es_grupo', 'liquidaci_n', 'obligaciones_postconsumo', 'reversion',\n",
       "       'valor_del_contrato', 'valor_de_pago_adelantado', 'valor_facturado',\n",
       "       'valor_pendiente_de_pago', 'valor_pagado',\n",
       "       'valor_pendiente_de_ejecucion', 'saldo_cdp', 'urlproceso',\n",
       "       'destino_gasto', 'dias_adicionados', 'nombre_representante_legal',\n",
       "       'tipo_de_identificaci_n_representante_legal',\n",
       "       'identificaci_n_representante_legal', 'objeto_del_contrato',\n",
       "       'prorrogado'],\n",
       "      dtype='object')"
      ]
     },
     "execution_count": 6,
     "metadata": {},
     "output_type": "execute_result"
    }
   ],
   "source": [
    "secop_II.columns"
   ]
  },
  {
   "cell_type": "code",
   "execution_count": 7,
   "metadata": {},
   "outputs": [],
   "source": [
    "baseII=secop_II[[\"estado_contrato\", \"tipo_de_contrato\", \"modalidad_de_contratacion\", \"justificacion_modalidad_de\", \"destino_gasto\", \"nombre_representante_legal\", \"identificaci_n_representante_legal\", \"objeto_del_contrato\", \"prorrogado\",\"dias_adicionados\"]]"
   ]
  },
  {
   "cell_type": "code",
   "execution_count": 8,
   "metadata": {},
   "outputs": [
    {
     "name": "stdout",
     "output_type": "stream",
     "text": [
      "<class 'pandas.core.frame.DataFrame'>\n",
      "RangeIndex: 805 entries, 0 to 804\n",
      "Data columns (total 10 columns):\n",
      " #   Column                              Non-Null Count  Dtype \n",
      "---  ------                              --------------  ----- \n",
      " 0   estado_contrato                     805 non-null    object\n",
      " 1   tipo_de_contrato                    805 non-null    object\n",
      " 2   modalidad_de_contratacion           805 non-null    object\n",
      " 3   justificacion_modalidad_de          786 non-null    object\n",
      " 4   destino_gasto                       805 non-null    object\n",
      " 5   nombre_representante_legal          805 non-null    object\n",
      " 6   identificaci_n_representante_legal  805 non-null    object\n",
      " 7   objeto_del_contrato                 782 non-null    object\n",
      " 8   prorrogado                          805 non-null    Int64 \n",
      " 9   dias_adicionados                    805 non-null    Int64 \n",
      "dtypes: Int64(2), object(8)\n",
      "memory usage: 64.6+ KB\n"
     ]
    }
   ],
   "source": [
    "baseII.info()"
   ]
  },
  {
   "cell_type": "code",
   "execution_count": 9,
   "metadata": {},
   "outputs": [
    {
     "name": "stdout",
     "output_type": "stream",
     "text": [
      "<class 'pandas.core.frame.DataFrame'>\n",
      "RangeIndex: 26553 entries, 0 to 26552\n",
      "Data columns (total 24 columns):\n",
      " #   Column                          Non-Null Count  Dtype \n",
      "---  ------                          --------------  ----- \n",
      " 0   uid                             26553 non-null  Int64 \n",
      " 1   anno_cargue_secop               26553 non-null  Int64 \n",
      " 2   modalidad_de_contratacion       26553 non-null  object\n",
      " 3   estado_del_proceso              26553 non-null  object\n",
      " 4   tipo_de_contrato                26553 non-null  object\n",
      " 5   departamento_ejecucion          26553 non-null  object\n",
      " 6   nombre_grupo                    26553 non-null  object\n",
      " 7   nombre_familia                  26553 non-null  object\n",
      " 8   id_clase                        26553 non-null  object\n",
      " 9   nombre_clase                    26553 non-null  object\n",
      " 10  id_adjudicacion                 26553 non-null  object\n",
      " 11  identificacion_del_contratista  26553 non-null  object\n",
      " 12  nom_razon_social_contratista    26553 non-null  object\n",
      " 13  identific_representante_legal   26547 non-null  object\n",
      " 14  dias_ejec_final_contrato        26553 non-null  Int64 \n",
      " 15  prorrogado                      26553 non-null  Int64 \n",
      " 16  tiempo_adiciones_en_dias        26553 non-null  Int64 \n",
      " 17  cuantia_contrato                26553 non-null  Int64 \n",
      " 18  con_adicion_pptal               26553 non-null  Int64 \n",
      " 19  valor_total_de_adiciones        26553 non-null  Int64 \n",
      " 20  valor_contrato_con_adiciones    26553 non-null  Int64 \n",
      " 21  moneda                          26553 non-null  object\n",
      " 22  objeto_del_contrato_a_la        26553 non-null  object\n",
      " 23  ruta_proceso_en_secop_i         26553 non-null  object\n",
      "dtypes: Int64(9), object(15)\n",
      "memory usage: 5.1+ MB\n"
     ]
    }
   ],
   "source": [
    "baseI.info()"
   ]
  },
  {
   "cell_type": "code",
   "execution_count": 10,
   "metadata": {
    "scrolled": true
   },
   "outputs": [
    {
     "name": "stdout",
     "output_type": "stream",
     "text": [
      "<class 'pandas.core.frame.DataFrame'>\n",
      "RangeIndex: 26553 entries, 0 to 26552\n",
      "Data columns (total 24 columns):\n",
      " #   Column                          Non-Null Count  Dtype \n",
      "---  ------                          --------------  ----- \n",
      " 0   uid                             26553 non-null  Int64 \n",
      " 1   anno_cargue_secop               26553 non-null  Int64 \n",
      " 2   modalidad_de_contratacion       26553 non-null  object\n",
      " 3   estado_del_proceso              26553 non-null  object\n",
      " 4   tipo_de_contrato                26553 non-null  object\n",
      " 5   departamento_ejecucion          26553 non-null  object\n",
      " 6   nombre_grupo                    26553 non-null  object\n",
      " 7   nombre_familia                  26553 non-null  object\n",
      " 8   id_clase                        26553 non-null  object\n",
      " 9   nombre_clase                    26553 non-null  object\n",
      " 10  id_adjudicacion                 26553 non-null  object\n",
      " 11  identificacion_del_contratista  26553 non-null  object\n",
      " 12  nom_razon_social_contratista    26553 non-null  object\n",
      " 13  identific_representante_legal   26553 non-null  object\n",
      " 14  dias_ejec_final_contrato        26553 non-null  Int64 \n",
      " 15  prorrogado                      26553 non-null  Int64 \n",
      " 16  tiempo_adiciones_en_dias        26553 non-null  Int64 \n",
      " 17  cuantia_contrato                26553 non-null  Int64 \n",
      " 18  con_adicion_pptal               26553 non-null  Int64 \n",
      " 19  valor_total_de_adiciones        26553 non-null  Int64 \n",
      " 20  valor_contrato_con_adiciones    26553 non-null  Int64 \n",
      " 21  moneda                          26553 non-null  object\n",
      " 22  objeto_del_contrato_a_la        26553 non-null  object\n",
      " 23  ruta_proceso_en_secop_i         26553 non-null  object\n",
      "dtypes: Int64(9), object(15)\n",
      "memory usage: 5.1+ MB\n"
     ]
    }
   ],
   "source": [
    "n = baseI.isna()== True \n",
    "baseI = baseI.fillna(0)\n",
    "baseI.info()"
   ]
  },
  {
   "cell_type": "code",
   "execution_count": 11,
   "metadata": {},
   "outputs": [
    {
     "name": "stdout",
     "output_type": "stream",
     "text": [
      "<class 'pandas.core.frame.DataFrame'>\n",
      "RangeIndex: 805 entries, 0 to 804\n",
      "Data columns (total 10 columns):\n",
      " #   Column                              Non-Null Count  Dtype \n",
      "---  ------                              --------------  ----- \n",
      " 0   estado_contrato                     805 non-null    object\n",
      " 1   tipo_de_contrato                    805 non-null    object\n",
      " 2   modalidad_de_contratacion           805 non-null    object\n",
      " 3   justificacion_modalidad_de          805 non-null    object\n",
      " 4   destino_gasto                       805 non-null    object\n",
      " 5   nombre_representante_legal          805 non-null    object\n",
      " 6   identificaci_n_representante_legal  805 non-null    object\n",
      " 7   objeto_del_contrato                 805 non-null    object\n",
      " 8   prorrogado                          805 non-null    Int64 \n",
      " 9   dias_adicionados                    805 non-null    Int64 \n",
      "dtypes: Int64(2), object(8)\n",
      "memory usage: 64.6+ KB\n"
     ]
    }
   ],
   "source": [
    "n = baseII.isna()== True \n",
    "baseII = baseII.fillna(0)\n",
    "baseII.info()"
   ]
  },
  {
   "cell_type": "markdown",
   "metadata": {},
   "source": [
    "## MODELOS DE CORRELACIÓN DE VARIABLES CATEGÓRICAS PARA SECOP I "
   ]
  },
  {
   "cell_type": "markdown",
   "metadata": {},
   "source": [
    "### MODELO GET_DUMMIES"
   ]
  },
  {
   "cell_type": "code",
   "execution_count": null,
   "metadata": {},
   "outputs": [],
   "source": [
    "dataI = pd.get_dummies(baseI)\n",
    "\n",
    "# calcular la matriz de correlación de Pearson\n",
    "correlation_matrixI = dataI.corr(method='pearson')\n",
    "\n",
    "# imprimir matriz de correlación\n",
    "sns.heatmap(correlation_matrixI, vmin=-1, vmax=1, annot=True)"
   ]
  },
  {
   "cell_type": "markdown",
   "metadata": {},
   "source": [
    "### MODELO FACTORIZACIÓN DE ATRIBUTOS"
   ]
  },
  {
   "cell_type": "code",
   "execution_count": null,
   "metadata": {},
   "outputs": [],
   "source": [
    "# Codificación de las variables categoricas\n",
    "baseI['estado_del_proceso'] = pd.factorize(baseI.estado_contrato)[0]\n",
    "baseI['tipo_de_contrato'] = pd.factorize(baseI.tipo_de_contrato)[0]\n",
    "baseI['modalidad_de_contratacion'] = pd.factorize(baseI.modalidad_de_contratacion)[0]\n",
    "baseI['departamento_ejecucion'] = pd.factorize(baseI.departamento_ejecucion)[0]\n",
    "baseI['nombre_grupo'] = pd.factorize(baseI.nombre_grupo)[0]\n",
    "baseI['nombre_familia'] = pd.factorize(baseI.nombre_familia)[0]\n",
    "baseI['nombre_clase'] = pd.factorize(baseI.nombre_clase)[0]\n",
    "baseI['nom_razon_social_contratista'] = pd.factorize(baseI.nom_razon_social_contratista)[0]\n",
    "baseI['identificacion_del_contratista'] = pd.factorize(baseI.identificacion_del_contratista)[0]\n",
    "baseI['objeto_del_contrato_a_la'] = pd.factorize(baseI.objeto_del_contrato_a_la)[0]\n",
    "baseI['identific_representante_legal'] = pd.factorize(baseI.identific_representante_legal)[0]\n",
    "baseI['moneda'] = pd.factorize(baseI.moneda)[0]\n",
    "baseI['id_adjudicacion'] = pd.factorize(baseI.id_adjudicacion)[0]"
   ]
  },
  {
   "cell_type": "code",
   "execution_count": null,
   "metadata": {},
   "outputs": [],
   "source": [
    "baseI"
   ]
  },
  {
   "cell_type": "code",
   "execution_count": null,
   "metadata": {},
   "outputs": [],
   "source": [
    "sns.heatmap(baseI.corr(), vmin=-1, vmax=1, annot=True)"
   ]
  },
  {
   "cell_type": "markdown",
   "metadata": {},
   "source": [
    "En el anterior mapa de calor no encontramos, que todas las variables son independientes, con excepción de el nombre y la identificación del contratista, aunque existe cierta relación objetiva (>85%) entr el objeto del contrato y el estaod del mismo. Para nuestra variable de interés que es la catidad de dîas adicionados no parece haber una verdadera relación entre esta y las demás variables. Por lo que sin ser concluyente, puede decirse que no parecería haber una dependencia entre las prórrogas y la mayoría de los atributos de los contratos.\n",
    "\n",
    "No obstante la factorización, no siempre es la mejor opción para verificar correlación entre variable categóricas. Por lo cual deben evaluarse nuevas formas de evaluación de la dependencia o no entre las variables del contrato y su prorrogación. \n"
   ]
  },
  {
   "cell_type": "markdown",
   "metadata": {},
   "source": [
    "### MODELO DE CLASIFICACIÓN POR EIGENVECTORES"
   ]
  },
  {
   "cell_type": "code",
   "execution_count": null,
   "metadata": {},
   "outputs": [],
   "source": [
    "S = baseI.cov()\n",
    "eig_val, eig_vec = np.linalg.eig(S)\n",
    "eig_val\n",
    "\n",
    "eig_val_diag = np.diag(eig_val)\n",
    "eig_val"
   ]
  },
  {
   "cell_type": "code",
   "execution_count": null,
   "metadata": {},
   "outputs": [],
   "source": [
    "vector = eig_val/sum(eig_val)\n",
    "vector"
   ]
  },
  {
   "cell_type": "code",
   "execution_count": null,
   "metadata": {},
   "outputs": [],
   "source": [
    "eigenv=pd.DataFrame(eig_vec.dot(eig_val_diag).dot(eig_vec.T), columns= S.columns, index= S.index)"
   ]
  },
  {
   "cell_type": "code",
   "execution_count": null,
   "metadata": {},
   "outputs": [],
   "source": [
    "sns.pairplot(eigenv)"
   ]
  },
  {
   "cell_type": "code",
   "execution_count": null,
   "metadata": {},
   "outputs": [],
   "source": [
    "X = baseI[['estado_contrato','tipo_de_contrato', 'modalidad_de_contratacion','justificacion_modalidad_de','destino_gasto', 'nombre_representante_legal', 'identificaci_n_representante_legal', 'objeto_del_contrato','prorrogado']]\n",
    "y = (baseI.dias_adicionados)"
   ]
  },
  {
   "cell_type": "code",
   "execution_count": null,
   "metadata": {},
   "outputs": [],
   "source": [
    "pca = PCA(n_components=4)\n",
    ">>> pca.fit(X)"
   ]
  },
  {
   "cell_type": "markdown",
   "metadata": {},
   "source": [
    "## MODELOS DE CORRELACIÓN DE VARIABLES CATEGÓRICAS PARA SECOP II"
   ]
  },
  {
   "cell_type": "markdown",
   "metadata": {},
   "source": [
    "### MODELO GET_DUMMIES"
   ]
  },
  {
   "cell_type": "code",
   "execution_count": null,
   "metadata": {},
   "outputs": [],
   "source": [
    "dataII = pd.get_dummies(baseII)\n",
    "\n",
    "# calcular la matriz de correlación de Pearson\n",
    "correlation_matrixII = dataII.corr(method='pearson')\n",
    "\n",
    "# Graficar matriz de correlación\n",
    "sns.heatmap(correlation_matrixII, vmin=-1, vmax=1, annot=True)"
   ]
  },
  {
   "cell_type": "markdown",
   "metadata": {},
   "source": [
    "### MODELO FACTORIZACIÓN DE ATRIBUTOS"
   ]
  },
  {
   "cell_type": "code",
   "execution_count": null,
   "metadata": {},
   "outputs": [],
   "source": [
    "# Codificación de las variables categoricas\n",
    "baseII['estado_contrato'] = pd.factorize(baseII.estado_contrato)[0]\n",
    "baseII['tipo_de_contrato'] = pd.factorize(baseII.tipo_de_contrato)[0]\n",
    "baseII['modalidad_de_contratacion'] = pd.factorize(baseII.modalidad_de_contratacion)[0]\n",
    "baseII['justificacion_modalidad_de'] = pd.factorize(baseII.justificacion_modalidad_de)[0]\n",
    "baseII['destino_gasto'] = pd.factorize(baseII.destino_gasto)[0]\n",
    "baseII['nombre_representante_legal'] = pd.factorize(baseII.nombre_representante_legal)[0]\n",
    "baseII['objeto_del_contrato'] = pd.factorize(baseII.objeto_del_contrato)[0]\n",
    "baseII['identificaci_n_representante_legal'] = pd.factorize(baseII.identificaci_n_representante_legal)[0]"
   ]
  },
  {
   "cell_type": "code",
   "execution_count": null,
   "metadata": {},
   "outputs": [],
   "source": [
    "baseII"
   ]
  },
  {
   "cell_type": "code",
   "execution_count": null,
   "metadata": {},
   "outputs": [],
   "source": [
    "sns.heatmap(baseII.corr(), vmin=-1, vmax=1, annot=True)"
   ]
  },
  {
   "cell_type": "markdown",
   "metadata": {},
   "source": [
    "Efectuando la selección de atributos principales encontramos que los eigenvalores diagonales de la matriz de covarianzas, muestra importancia superior en el atriubuto \"destino del gasto\" como componente principal de la matriz para explicar los otros atributos. "
   ]
  },
  {
   "cell_type": "code",
   "execution_count": null,
   "metadata": {
    "scrolled": true
   },
   "outputs": [],
   "source": [
    "fig, ax = plt.subplots()    \n",
    "ax.plot(pca.explained_variance_)\n",
    "ax.xaxis.set_major_locator\n",
    "ax.set_xlabel('Principal Component')\n",
    "ax.set_ylabel('Eigenvalue')\n",
    "plt.xticks(np.arange(9), np.arange(1, 10))\n",
    "ax.title.set_text('Componentes principales')\n",
    "plt.show()\n"
   ]
  },
  {
   "cell_type": "code",
   "execution_count": null,
   "metadata": {},
   "outputs": [],
   "source": [
    "profile = ProfileReport(baseII, title = \"Profiling Report\", explorative = True)\n",
    "profile.to_widgets()"
   ]
  }
 ],
 "metadata": {
  "kernelspec": {
   "display_name": "Python 3 (ipykernel)",
   "language": "python",
   "name": "python3"
  },
  "language_info": {
   "codemirror_mode": {
    "name": "ipython",
    "version": 3
   },
   "file_extension": ".py",
   "mimetype": "text/x-python",
   "name": "python",
   "nbconvert_exporter": "python",
   "pygments_lexer": "ipython3",
   "version": "3.10.11"
  }
 },
 "nbformat": 4,
 "nbformat_minor": 2
}
