{
 "cells": [
  {
   "cell_type": "code",
   "execution_count": 2,
   "metadata": {},
   "outputs": [
    {
     "ename": "ModuleNotFoundError",
     "evalue": "No module named 'utils.bq_conn'",
     "output_type": "error",
     "traceback": [
      "\u001b[0;31m---------------------------------------------------------------------------\u001b[0m",
      "\u001b[0;31mModuleNotFoundError\u001b[0m                       Traceback (most recent call last)",
      "\u001b[0;32m/var/folders/b_/9gjbt5hx7b71v8dgpt18f8340000gn/T/ipykernel_2028/2730271233.py\u001b[0m in \u001b[0;36m<cell line: 12>\u001b[0;34m()\u001b[0m\n\u001b[1;32m     10\u001b[0m \u001b[0;32mfrom\u001b[0m \u001b[0mdatetime\u001b[0m \u001b[0;32mimport\u001b[0m \u001b[0mdatetime\u001b[0m\u001b[0;34m\u001b[0m\u001b[0;34m\u001b[0m\u001b[0m\n\u001b[1;32m     11\u001b[0m \u001b[0;34m\u001b[0m\u001b[0m\n\u001b[0;32m---> 12\u001b[0;31m \u001b[0;32mfrom\u001b[0m \u001b[0mutils\u001b[0m\u001b[0;34m.\u001b[0m\u001b[0mbq_conn\u001b[0m \u001b[0;32mimport\u001b[0m \u001b[0mbq_conn_file\u001b[0m\u001b[0;34m\u001b[0m\u001b[0;34m\u001b[0m\u001b[0m\n\u001b[0m\u001b[1;32m     13\u001b[0m \u001b[0;31m# %%\u001b[0m\u001b[0;34m\u001b[0m\u001b[0;34m\u001b[0m\u001b[0m\n\u001b[1;32m     14\u001b[0m \u001b[0mbq_client\u001b[0m \u001b[0;34m=\u001b[0m \u001b[0mbq_conn_file\u001b[0m\u001b[0;34m(\u001b[0m\u001b[0mproject_id\u001b[0m\u001b[0;34m=\u001b[0m\u001b[0;34m\"dsa-miad-365616\"\u001b[0m\u001b[0;34m)\u001b[0m\u001b[0;34m\u001b[0m\u001b[0;34m\u001b[0m\u001b[0m\n",
      "\u001b[0;31mModuleNotFoundError\u001b[0m: No module named 'utils.bq_conn'"
     ]
    }
   ],
   "source": [
    "import os\n",
    "import pathlib\n",
    "import sys\n",
    "import matplotlib.pyplot as plt\n",
    "from scipy import linalg\n",
    "\n",
    "\n",
    "sys.path.append(os.path.join(pathlib.Path(os.getcwd()).parent))\n",
    "import pandas as pd\n",
    "from datetime import datetime\n",
    "\n",
    "from utils.bq_conn import bq_conn_file\n",
    "# %%\n",
    "bq_client = bq_conn_file(project_id=\"dsa-miad-365616\")"
   ]
  },
  {
   "cell_type": "code",
   "execution_count": null,
   "metadata": {},
   "outputs": [],
   "source": [
    "query = '''\n",
    "SELECT\n",
    "    *\n",
    "FROM `Proyecto.DatosSecopII`\n",
    "ORDER BY estado_contrato DESC\n",
    "'''\n",
    "secop_II = bq_client.execute_query(query=query)\n",
    "secop_II.head(3)"
   ]
  },
  {
   "cell_type": "code",
   "execution_count": null,
   "metadata": {},
   "outputs": [],
   "source": [
    "query = '''\n",
    "SELECT\n",
    "    *\n",
    "FROM `Proyecto.DatosSecopII`\n",
    "ORDER BY estado_contrato DESC\n",
    "'''\n",
    "secop_I = bq_client.execute_query(query=query)\n",
    "secop_I.head(3)"
   ]
  },
  {
   "cell_type": "code",
   "execution_count": null,
   "metadata": {},
   "outputs": [],
   "source": [
    "secop_I.columns"
   ]
  },
  {
   "cell_type": "code",
   "execution_count": null,
   "metadata": {},
   "outputs": [],
   "source": [
    "base=secop_I[[\"estado_contrato\", \"tipo_de_contrato\", \"modalidad_de_contratacion\", \"justificacion_modalidad_de\", \"destino_gasto\", \"nombre_representante_legal\", \"identificaci_n_representante_legal\", \"objeto_del_contrato\", \"prorrogado\",\"dias_adicionados\"]]"
   ]
  },
  {
   "cell_type": "code",
   "execution_count": null,
   "metadata": {},
   "outputs": [],
   "source": [
    "base.info()"
   ]
  },
  {
   "cell_type": "code",
   "execution_count": null,
   "metadata": {},
   "outputs": [],
   "source": [
    "n = base.isna()== True \n",
    "base = base.fillna(0)\n",
    "base.info()"
   ]
  },
  {
   "attachments": {},
   "cell_type": "markdown",
   "metadata": {},
   "source": [
    "data_numeric = pd.get_dummies(base)\n",
    "\n",
    "# calcular la matriz de correlación de Pearson\n",
    "correlation_matrix = data_numeric.corr(method='pearson')\n",
    "\n",
    "# imprimir matriz de correlación\n",
    "print(correlation_matrix)"
   ]
  },
  {
   "cell_type": "code",
   "execution_count": null,
   "metadata": {},
   "outputs": [],
   "source": [
    "# Codificación de las variables categoricas\n",
    "base['estado_contrato'] = pd.factorize(base.estado_contrato)[0]\n",
    "base['tipo_de_contrato'] = pd.factorize(base.tipo_de_contrato)[0]\n",
    "base['modalidad_de_contratacion'] = pd.factorize(base.modalidad_de_contratacion)[0]\n",
    "base['justificacion_modalidad_de'] = pd.factorize(base.justificacion_modalidad_de)[0]\n",
    "base['destino_gasto'] = pd.factorize(base.destino_gasto)[0]\n",
    "base['nombre_representante_legal'] = pd.factorize(base.nombre_representante_legal)[0]\n",
    "base['objeto_del_contrato'] = pd.factorize(base.objeto_del_contrato)[0]\n",
    "base['identificaci_n_representante_legal'] = pd.factorize(base.identificaci_n_representante_legal)[0]\n"
   ]
  },
  {
   "cell_type": "code",
   "execution_count": null,
   "metadata": {},
   "outputs": [],
   "source": [
    "base"
   ]
  },
  {
   "cell_type": "code",
   "execution_count": null,
   "metadata": {},
   "outputs": [],
   "source": [
    "import seaborn as sns\n",
    "import numpy as np\n",
    "sns.heatmap(base.corr(), vmin=-1, vmax=1, annot=True)\n"
   ]
  },
  {
   "cell_type": "markdown",
   "metadata": {},
   "source": [
    "En el anterior mapa de calor no encontramos, que todas las variables son independientes, con excepción de el nombre y la identificación del contratista, aunque existe cierta relación objetiva (>85%) entr el objeto del contrato y el estaod del mismo. Para nuestra variable de interés que es la catidad de dîas adicionados no parece haber una verdadera relación entre esta y las demás variables. Por lo que sin ser concluyente, puede decirse que no parecería haber una dependencia entre las prórrogas y la mayoría de los atributos de los contratos.\n",
    "\n",
    "No obstante la factorización, no siempre es la mejor opción para verificar correlación entre variable categóricas. Por lo cual deben evaluarse nuevas formas de evaluación de la dependencia o no entre las variables del contrato y su prorrogación. \n"
   ]
  },
  {
   "cell_type": "code",
   "execution_count": null,
   "metadata": {},
   "outputs": [],
   "source": [
    "S = base.cov()\n",
    "eig_val, eig_vec = np.linalg.eig(S)\n",
    "eig_val\n",
    "\n",
    "eig_val_diag = np.diag(eig_val)\n",
    "eig_val"
   ]
  },
  {
   "cell_type": "code",
   "execution_count": null,
   "metadata": {},
   "outputs": [],
   "source": [
    "vector = eig_val/sum(eig_val)\n",
    "vector"
   ]
  },
  {
   "cell_type": "markdown",
   "metadata": {},
   "source": [
    "Efectuando la selección de atributos principales encontramos que los eigenvalores diagonales de la matriz de covarianzas, muestra importancia superior en el atriubuto \"destino del gasto\" como componente principal de la matriz para explicar los otros atributos. "
   ]
  },
  {
   "cell_type": "code",
   "execution_count": null,
   "metadata": {},
   "outputs": [],
   "source": [
    "eigenv=pd.DataFrame(eig_vec.dot(eig_val_diag).dot(eig_vec.T), columns= S.columns, index= S.index)"
   ]
  },
  {
   "cell_type": "code",
   "execution_count": null,
   "metadata": {},
   "outputs": [],
   "source": [
    "sns.pairplot(eigenv)"
   ]
  },
  {
   "cell_type": "code",
   "execution_count": null,
   "metadata": {},
   "outputs": [],
   "source": [
    "import pandas as pd\n",
    "import numpy as np\n",
    "import matplotlib.pyplot as plt\n",
    "from scipy import linalg\n",
    "from pandas_profiling import ProfileReport\n",
    "from sklearn.decomposition import PCA"
   ]
  },
  {
   "cell_type": "code",
   "execution_count": null,
   "metadata": {},
   "outputs": [],
   "source": [
    "X = base[['estado_contrato','tipo_de_contrato', 'modalidad_de_contratacion','justificacion_modalidad_de','destino_gasto', 'nombre_representante_legal', 'identificaci_n_representante_legal', 'objeto_del_contrato','prorrogado']]\n",
    "y = (base.dias_adicionados)"
   ]
  },
  {
   "cell_type": "code",
   "execution_count": null,
   "metadata": {},
   "outputs": [],
   "source": [
    "pca = PCA(n_components=4)\n",
    ">>> pca.fit(X)"
   ]
  },
  {
   "cell_type": "code",
   "execution_count": null,
   "metadata": {
    "scrolled": true
   },
   "outputs": [],
   "source": [
    "fig, ax = plt.subplots()    \n",
    "ax.plot(pca.explained_variance_)\n",
    "ax.xaxis.set_major_locator\n",
    "ax.set_xlabel('Principal Component')\n",
    "ax.set_ylabel('Eigenvalue')\n",
    "plt.xticks(np.arange(9), np.arange(1, 10))\n",
    "ax.title.set_text('Componentes principales')\n",
    "plt.show()\n"
   ]
  },
  {
   "cell_type": "code",
   "execution_count": null,
   "metadata": {},
   "outputs": [],
   "source": [
    "profile = ProfileReport(base, title = \"Profiling Report\", explorative = True)\n",
    "profile.to_widgets()"
   ]
  }
 ],
 "metadata": {
  "kernelspec": {
   "display_name": "prueba",
   "language": "python",
   "name": "python3"
  },
  "language_info": {
   "codemirror_mode": {
    "name": "ipython",
    "version": 3
   },
   "file_extension": ".py",
   "mimetype": "text/x-python",
   "name": "python",
   "nbconvert_exporter": "python",
   "pygments_lexer": "ipython3",
   "version": "3.10.11"
  }
 },
 "nbformat": 4,
 "nbformat_minor": 2
}
