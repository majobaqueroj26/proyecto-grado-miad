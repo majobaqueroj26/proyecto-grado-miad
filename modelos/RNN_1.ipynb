{
 "cells": [
  {
   "cell_type": "code",
   "execution_count": null,
   "outputs": [],
   "source": [
    "import tensorflow as tf\n",
    "from tensorflow import keras\n",
    "from tensorflow.keras import layers\n",
    "from sklearn.preprocessing import normalize\n",
    "\n",
    "\n",
    "import os\n",
    "import pathlib\n",
    "import sys\n",
    "import matplotlib.pyplot as plt\n",
    "from scipy import linalg\n",
    "\n",
    "\n",
    "sys.path.append(os.path.join(pathlib.Path(os.getcwd()).parent))\n",
    "import pandas as pd\n",
    "import numpy as np\n",
    "import matplotlib.pyplot as plt\n",
    "from datetime import datetime\n",
    "\n",
    "from utils.bq_conn import bq_conn_file\n",
    "# %%\n",
    "bq_client = bq_conn_file(project_id=\"dsa-miad-365616\")"
   ],
   "metadata": {
    "collapsed": false
   }
  },
  {
   "cell_type": "code",
   "execution_count": null,
   "outputs": [],
   "source": [
    "pd.options.display.max_columns = None\n",
    "\n",
    "query = '''\n",
    "SELECT\n",
    "    *\n",
    "FROM `Proyecto.DatosSecopI`\n",
    "ORDER BY anno_cargue_secop DESC\n",
    "'''\n",
    "bq_client = bq_conn_file(project_id=\"dsa-miad-365616\")\n",
    "secop_I = bq_client.execute_query(query=query)\n",
    "print(f\"El número de filas del dataset: {secop_I.shape[0]}\\nEl número de columnas del dataset: {secop_I.shape[1]}\")\n",
    "secop_I.head(5)\n",
    "\n",
    "\n",
    "\n"
   ],
   "metadata": {
    "collapsed": false
   }
  },
  {
   "cell_type": "code",
   "execution_count": null,
   "outputs": [],
   "source": [
    "secopI_filter = secop_I[\n",
    "    ['id_modalidad', 'estado_del_proceso', 'id_objeto_a_contratar', 'tipo_de_contrato', 'departamento_ejecucion',\n",
    "     'municipios_ejecucion_', 'cuantia_proceso', 'id_grupo',\n",
    "     'id_familia', 'id_clase', 'plazo_de_ejec_del_contrato_', 'tiempo_adiciones_en_dias', 'dias_ejec_final_contrato']]\n",
    "\n",
    "secopI_filter\n",
    "secopI_filter.columns\n",
    "base = secopI_filter\n",
    "n = base.isna() == True\n",
    "base = base.fillna(0)\n",
    "base.info()\n"
   ],
   "metadata": {
    "collapsed": false
   }
  },
  {
   "cell_type": "code",
   "execution_count": null,
   "outputs": [],
   "source": [
    "# Codificación de las variables categoricas\n",
    "base['estado_del_proceso'] = pd.factorize(base.estado_del_proceso)[0]\n",
    "base['tipo_de_contrato'] = pd.factorize(base.tipo_de_contrato)[0]\n",
    "base['departamento_ejecucion'] = pd.factorize(base.departamento_ejecucion)[0]\n",
    "base['municipios_ejecucion_'] = pd.factorize(base.municipios_ejecucion_)[0]\n",
    "base['id_grupo'] = pd.factorize(base.id_grupo)[0]\n",
    "base['id_familia'] = pd.factorize(base.id_familia)[0]\n",
    "base['id_clase'] = pd.factorize(base.id_clase)[0]\n",
    "base['plazo_de_ejec_del_contrato_'] = pd.factorize(base.plazo_de_ejec_del_contrato_)[0]"
   ],
   "metadata": {
    "collapsed": false
   }
  },
  {
   "cell_type": "code",
   "execution_count": null,
   "outputs": [],
   "source": [
    "df = base\n",
    "df.info()"
   ],
   "metadata": {
    "collapsed": false
   }
  },
  {
   "cell_type": "code",
   "execution_count": null,
   "outputs": [],
   "source": [
    "from sklearn.model_selection import train_test_split\n",
    "\n",
    "y_total = df.loc[:, df.columns == \"tiempo_adiciones_en_dias\"]\n",
    "X_total = df.loc[:, df.columns != \"tiempo_adiciones_en_dias\"]\n",
    "y_total = y_total.reset_index(drop=True)\n",
    "\n",
    "# Reparto de datos en train y test\n",
    "y_totalf = y_total.tiempo_adiciones_en_dias.tolist()\n",
    "X_train, X_test, y_train, y_test = train_test_split(X_total, y_totalf, test_size=0.33, random_state=1)\n"
   ],
   "metadata": {
    "collapsed": false
   }
  },
  {
   "cell_type": "code",
   "execution_count": null,
   "outputs": [],
   "source": [
    "import seaborn as sns\n",
    "sns.heatmap(X_total[[\"id_modalidad\", \"id_objeto_a_contratar\", \"estado_del_proceso\", \"tipo_de_contrato\", \"departamento_ejecucion\",\"municipios_ejecucion_\",\"cuantia_proceso\",\"id_grupo\",\"id_familia\", \"id_clase\",\"plazo_de_ejec_del_contrato_\", \"dias_ejec_final_contrato\" ]].corr(), vmin=-1, vmax=1, annot=False)\n"
   ],
   "metadata": {
    "collapsed": false
   }
  },
  {
   "cell_type": "code",
   "execution_count": null,
   "outputs": [],
   "source": [
    "train_dataset = df.sample(frac=0.8,random_state=0)\n",
    "test_dataset = df.drop(train_dataset.index)"
   ],
   "metadata": {
    "collapsed": false
   }
  },
  {
   "cell_type": "code",
   "execution_count": null,
   "outputs": [],
   "source": [
    "train_stats = train_dataset.describe()\n",
    "train_stats.pop(\"dias_ejec_final_contrato\")\n",
    "train_stats = train_stats.transpose()\n",
    "train_stats\n"
   ],
   "metadata": {
    "collapsed": false
   }
  },
  {
   "cell_type": "code",
   "execution_count": null,
   "outputs": [],
   "source": [
    "train_labels = train_dataset.pop('dias_ejec_final_contrato')\n",
    "test_labels = test_dataset.pop('dias_ejec_final_contrato')"
   ],
   "metadata": {
    "collapsed": false
   }
  },
  {
   "cell_type": "code",
   "execution_count": null,
   "outputs": [],
   "source": [
    "def norm(x):\n",
    "  return (x - train_stats['mean']) / train_stats['std']\n",
    "normed_train_data = norm(train_dataset)\n",
    "normed_test_data = norm(test_dataset)"
   ],
   "metadata": {
    "collapsed": false
   }
  },
  {
   "cell_type": "code",
   "execution_count": 189,
   "outputs": [],
   "source": [
    "def build_model ():\n",
    "  model = keras.Sequential([\n",
    "    layers.Dense(13, activation='relu', input_shape=[len(train_dataset.keys())]),\n",
    "    layers.Dense(6, activation='linear'),\n",
    "    layers.Dense(1)\n",
    "  ])\n",
    "  optimizer = tf.keras.optimizers.RMSprop(0.001)\n",
    "\n",
    "  model.compile(loss='mse',\n",
    "                optimizer=optimizer,\n",
    "                metrics=['r_square','mae', 'mse'])\n",
    "  return model"
   ],
   "metadata": {
    "collapsed": false,
    "ExecuteTime": {
     "end_time": "2023-05-11T04:25:06.669258Z",
     "start_time": "2023-05-11T04:25:06.648765Z"
    }
   }
  },
  {
   "cell_type": "code",
   "execution_count": 190,
   "outputs": [
    {
     "name": "stderr",
     "output_type": "stream",
     "text": [
      "WARNING:absl:At this time, the v2.11+ optimizer `tf.keras.optimizers.RMSprop` runs slowly on M1/M2 Macs, please use the legacy Keras optimizer instead, located at `tf.keras.optimizers.legacy.RMSprop`.\n",
      "WARNING:absl:There is a known slowdown when using v2.11+ Keras optimizers on M1/M2 Macs. Falling back to the legacy Keras optimizer, i.e., `tf.keras.optimizers.legacy.RMSprop`.\n"
     ]
    }
   ],
   "source": [
    "model = build_model()"
   ],
   "metadata": {
    "collapsed": false,
    "ExecuteTime": {
     "end_time": "2023-05-11T04:25:07.538674Z",
     "start_time": "2023-05-11T04:25:07.502873Z"
    }
   }
  },
  {
   "cell_type": "code",
   "execution_count": 191,
   "outputs": [
    {
     "name": "stdout",
     "output_type": "stream",
     "text": [
      "Model: \"sequential_19\"\n",
      "_________________________________________________________________\n",
      " Layer (type)                Output Shape              Param #   \n",
      "=================================================================\n",
      " dense_44 (Dense)            (None, 13)                169       \n",
      "                                                                 \n",
      " dense_45 (Dense)            (None, 6)                 84        \n",
      "                                                                 \n",
      " dense_46 (Dense)            (None, 1)                 7         \n",
      "                                                                 \n",
      "=================================================================\n",
      "Total params: 260 (1.02 KB)\n",
      "Trainable params: 260 (1.02 KB)\n",
      "Non-trainable params: 0 (0.00 Byte)\n",
      "_________________________________________________________________\n"
     ]
    }
   ],
   "source": [
    "model.summary()"
   ],
   "metadata": {
    "collapsed": false,
    "ExecuteTime": {
     "end_time": "2023-05-11T04:25:07.896959Z",
     "start_time": "2023-05-11T04:25:07.882605Z"
    }
   }
  },
  {
   "cell_type": "code",
   "execution_count": 192,
   "outputs": [],
   "source": [
    "train_data = np.asarray(normed_train_data).astype(np.float32)\n",
    "test_data = np.asarray(normed_test_data).astype(np.float32)\n"
   ],
   "metadata": {
    "collapsed": false,
    "ExecuteTime": {
     "end_time": "2023-05-11T04:25:08.233529Z",
     "start_time": "2023-05-11T04:25:08.204077Z"
    }
   }
  },
  {
   "cell_type": "code",
   "execution_count": 193,
   "outputs": [
    {
     "name": "stdout",
     "output_type": "stream",
     "text": [
      "664/664 [==============================] - 0s 455us/step\n"
     ]
    },
    {
     "data": {
      "text/plain": "array([[-2.2749965 ],\n       [-0.63831735],\n       [-1.9930212 ],\n       ...,\n       [-1.0514238 ],\n       [ 0.02967399],\n       [ 0.16591159]], dtype=float32)"
     },
     "execution_count": 193,
     "metadata": {},
     "output_type": "execute_result"
    }
   ],
   "source": [
    "example_batch = np.array(train_data[:])\n",
    "example_result = model.predict(example_batch)\n",
    "example_result"
   ],
   "metadata": {
    "collapsed": false,
    "ExecuteTime": {
     "end_time": "2023-05-11T04:25:08.879010Z",
     "start_time": "2023-05-11T04:25:08.390995Z"
    }
   }
  },
  {
   "cell_type": "code",
   "execution_count": 194,
   "outputs": [
    {
     "ename": "TypeError",
     "evalue": "in user code:\n\n    File \"/Users/marioriveravargas/miniconda3/envs/proyecto_miad/bin/lib/python3.10/site-packages/keras/src/engine/training.py\", line 1338, in train_function  *\n        return step_function(self, iterator)\n    File \"/Users/marioriveravargas/miniconda3/envs/proyecto_miad/bin/lib/python3.10/site-packages/keras/src/engine/training.py\", line 1322, in step_function  **\n        outputs = model.distribute_strategy.run(run_step, args=(data,))\n    File \"/Users/marioriveravargas/miniconda3/envs/proyecto_miad/bin/lib/python3.10/site-packages/keras/src/engine/training.py\", line 1303, in run_step  **\n        outputs = model.train_step(data)\n    File \"/Users/marioriveravargas/miniconda3/envs/proyecto_miad/bin/lib/python3.10/site-packages/keras/src/engine/training.py\", line 1085, in train_step\n        return self.compute_metrics(x, y, y_pred, sample_weight)\n    File \"/Users/marioriveravargas/miniconda3/envs/proyecto_miad/bin/lib/python3.10/site-packages/keras/src/engine/training.py\", line 1179, in compute_metrics\n        self.compiled_metrics.update_state(y, y_pred, sample_weight)\n    File \"/Users/marioriveravargas/miniconda3/envs/proyecto_miad/bin/lib/python3.10/site-packages/keras/src/engine/compile_utils.py\", line 605, in update_state\n        metric_obj.update_state(y_t, y_p, sample_weight=mask)\n    File \"/Users/marioriveravargas/miniconda3/envs/proyecto_miad/bin/lib/python3.10/site-packages/keras/src/utils/metrics_utils.py\", line 77, in decorated\n        update_op = update_state_fn(*args, **kwargs)\n    File \"/Users/marioriveravargas/miniconda3/envs/proyecto_miad/bin/lib/python3.10/site-packages/keras/src/metrics/base_metric.py\", line 140, in update_state_fn\n        return ag_update_state(*args, **kwargs)\n    File \"/Users/marioriveravargas/miniconda3/envs/proyecto_miad/bin/lib/python3.10/site-packages/keras/src/metrics/base_metric.py\", line 723, in update_state  **\n        matches = ag_fn(y_true, y_pred, **self._fn_kwargs)\n\n    TypeError: 'str' object is not callable\n",
     "output_type": "error",
     "traceback": [
      "\u001B[0;31m---------------------------------------------------------------------------\u001B[0m",
      "\u001B[0;31mTypeError\u001B[0m                                 Traceback (most recent call last)",
      "Cell \u001B[0;32mIn[194], line 12\u001B[0m\n\u001B[1;32m      9\u001B[0m train_data \u001B[38;5;241m=\u001B[39m K\u001B[38;5;241m.\u001B[39mcast_to_floatx(train_data)\n\u001B[1;32m     10\u001B[0m train_labels \u001B[38;5;241m=\u001B[39m K\u001B[38;5;241m.\u001B[39mcast_to_floatx(train_labels)\n\u001B[0;32m---> 12\u001B[0m history \u001B[38;5;241m=\u001B[39m \u001B[43mmodel\u001B[49m\u001B[38;5;241;43m.\u001B[39;49m\u001B[43mfit\u001B[49m\u001B[43m(\u001B[49m\n\u001B[1;32m     13\u001B[0m \u001B[43m   \u001B[49m\u001B[43mtrain_data\u001B[49m\u001B[43m,\u001B[49m\n\u001B[1;32m     14\u001B[0m \u001B[43m    \u001B[49m\u001B[43mtrain_labels\u001B[49m\u001B[43m,\u001B[49m\n\u001B[1;32m     15\u001B[0m \u001B[43m  \u001B[49m\u001B[43mepochs\u001B[49m\u001B[38;5;241;43m=\u001B[39;49m\u001B[43mEPOCHS\u001B[49m\u001B[43m,\u001B[49m\u001B[43m \u001B[49m\u001B[43mvalidation_split\u001B[49m\u001B[43m \u001B[49m\u001B[38;5;241;43m=\u001B[39;49m\u001B[43m \u001B[49m\u001B[38;5;241;43m0.2\u001B[39;49m\u001B[43m,\u001B[49m\u001B[43m \u001B[49m\u001B[43mverbose\u001B[49m\u001B[38;5;241;43m=\u001B[39;49m\u001B[38;5;241;43m0\u001B[39;49m\u001B[43m,\u001B[49m\n\u001B[1;32m     16\u001B[0m \u001B[43m  \u001B[49m\u001B[43mcallbacks\u001B[49m\u001B[38;5;241;43m=\u001B[39;49m\u001B[43m[\u001B[49m\u001B[43mPrintDot\u001B[49m\u001B[43m(\u001B[49m\u001B[43m)\u001B[49m\u001B[43m]\u001B[49m\u001B[43m)\u001B[49m\n",
      "File \u001B[0;32m~/miniconda3/envs/proyecto_miad/bin/lib/python3.10/site-packages/keras/src/utils/traceback_utils.py:70\u001B[0m, in \u001B[0;36mfilter_traceback.<locals>.error_handler\u001B[0;34m(*args, **kwargs)\u001B[0m\n\u001B[1;32m     67\u001B[0m     filtered_tb \u001B[38;5;241m=\u001B[39m _process_traceback_frames(e\u001B[38;5;241m.\u001B[39m__traceback__)\n\u001B[1;32m     68\u001B[0m     \u001B[38;5;66;03m# To get the full stack trace, call:\u001B[39;00m\n\u001B[1;32m     69\u001B[0m     \u001B[38;5;66;03m# `tf.debugging.disable_traceback_filtering()`\u001B[39;00m\n\u001B[0;32m---> 70\u001B[0m     \u001B[38;5;28;01mraise\u001B[39;00m e\u001B[38;5;241m.\u001B[39mwith_traceback(filtered_tb) \u001B[38;5;28;01mfrom\u001B[39;00m \u001B[38;5;28;01mNone\u001B[39;00m\n\u001B[1;32m     71\u001B[0m \u001B[38;5;28;01mfinally\u001B[39;00m:\n\u001B[1;32m     72\u001B[0m     \u001B[38;5;28;01mdel\u001B[39;00m filtered_tb\n",
      "File \u001B[0;32m/var/folders/b_/9gjbt5hx7b71v8dgpt18f8340000gn/T/__autograph_generated_file6gqik3ly.py:15\u001B[0m, in \u001B[0;36mouter_factory.<locals>.inner_factory.<locals>.tf__train_function\u001B[0;34m(iterator)\u001B[0m\n\u001B[1;32m     13\u001B[0m \u001B[38;5;28;01mtry\u001B[39;00m:\n\u001B[1;32m     14\u001B[0m     do_return \u001B[38;5;241m=\u001B[39m \u001B[38;5;28;01mTrue\u001B[39;00m\n\u001B[0;32m---> 15\u001B[0m     retval_ \u001B[38;5;241m=\u001B[39m ag__\u001B[38;5;241m.\u001B[39mconverted_call(ag__\u001B[38;5;241m.\u001B[39mld(step_function), (ag__\u001B[38;5;241m.\u001B[39mld(\u001B[38;5;28mself\u001B[39m), ag__\u001B[38;5;241m.\u001B[39mld(iterator)), \u001B[38;5;28;01mNone\u001B[39;00m, fscope)\n\u001B[1;32m     16\u001B[0m \u001B[38;5;28;01mexcept\u001B[39;00m:\n\u001B[1;32m     17\u001B[0m     do_return \u001B[38;5;241m=\u001B[39m \u001B[38;5;28;01mFalse\u001B[39;00m\n",
      "\u001B[0;31mTypeError\u001B[0m: in user code:\n\n    File \"/Users/marioriveravargas/miniconda3/envs/proyecto_miad/bin/lib/python3.10/site-packages/keras/src/engine/training.py\", line 1338, in train_function  *\n        return step_function(self, iterator)\n    File \"/Users/marioriveravargas/miniconda3/envs/proyecto_miad/bin/lib/python3.10/site-packages/keras/src/engine/training.py\", line 1322, in step_function  **\n        outputs = model.distribute_strategy.run(run_step, args=(data,))\n    File \"/Users/marioriveravargas/miniconda3/envs/proyecto_miad/bin/lib/python3.10/site-packages/keras/src/engine/training.py\", line 1303, in run_step  **\n        outputs = model.train_step(data)\n    File \"/Users/marioriveravargas/miniconda3/envs/proyecto_miad/bin/lib/python3.10/site-packages/keras/src/engine/training.py\", line 1085, in train_step\n        return self.compute_metrics(x, y, y_pred, sample_weight)\n    File \"/Users/marioriveravargas/miniconda3/envs/proyecto_miad/bin/lib/python3.10/site-packages/keras/src/engine/training.py\", line 1179, in compute_metrics\n        self.compiled_metrics.update_state(y, y_pred, sample_weight)\n    File \"/Users/marioriveravargas/miniconda3/envs/proyecto_miad/bin/lib/python3.10/site-packages/keras/src/engine/compile_utils.py\", line 605, in update_state\n        metric_obj.update_state(y_t, y_p, sample_weight=mask)\n    File \"/Users/marioriveravargas/miniconda3/envs/proyecto_miad/bin/lib/python3.10/site-packages/keras/src/utils/metrics_utils.py\", line 77, in decorated\n        update_op = update_state_fn(*args, **kwargs)\n    File \"/Users/marioriveravargas/miniconda3/envs/proyecto_miad/bin/lib/python3.10/site-packages/keras/src/metrics/base_metric.py\", line 140, in update_state_fn\n        return ag_update_state(*args, **kwargs)\n    File \"/Users/marioriveravargas/miniconda3/envs/proyecto_miad/bin/lib/python3.10/site-packages/keras/src/metrics/base_metric.py\", line 723, in update_state  **\n        matches = ag_fn(y_true, y_pred, **self._fn_kwargs)\n\n    TypeError: 'str' object is not callable\n"
     ]
    }
   ],
   "source": [
    "class PrintDot(keras.callbacks.Callback):\n",
    "  def on_epoch_end(self, epoch, logs):\n",
    "    if epoch % 100 == 0: print('')\n",
    "    print('.', end='')\n",
    "\n",
    "EPOCHS = 100\n",
    "\n",
    "from keras import backend as K\n",
    "train_data = K.cast_to_floatx(train_data)\n",
    "train_labels = K.cast_to_floatx(train_labels)\n",
    "\n",
    "history = model.fit(\n",
    "   train_data,\n",
    "    train_labels,\n",
    "  epochs=EPOCHS, validation_split = 0.2, verbose=0,\n",
    "  callbacks=[PrintDot()])"
   ],
   "metadata": {
    "collapsed": false,
    "ExecuteTime": {
     "end_time": "2023-05-11T04:25:09.058387Z",
     "start_time": "2023-05-11T04:25:08.882145Z"
    }
   }
  },
  {
   "cell_type": "code",
   "execution_count": 195,
   "outputs": [
    {
     "name": "stdout",
     "output_type": "stream",
     "text": [
      "            loss        mae           mse      val_loss    val_mae   \n",
      "0   28415.894531  74.557076  28415.894531  13410.435547  65.475189  \\\n",
      "1   23214.953125  67.795189  23214.953125  10090.941406  69.179489   \n",
      "2   21916.507812  69.946724  21916.507812   9718.583984  69.293770   \n",
      "3   21693.839844  69.453629  21693.839844   9640.004883  68.337006   \n",
      "4   21767.927734  68.814346  21767.927734   9595.024414  68.080124   \n",
      "..           ...        ...           ...           ...        ...   \n",
      "95  23380.943359  66.822739  23380.943359   9314.510742  66.086578   \n",
      "96  23437.478516  67.016327  23437.478516   9306.427734  65.617439   \n",
      "97  23384.484375  66.866219  23384.484375   9306.983398  65.748459   \n",
      "98  23295.167969  66.900894  23295.167969   9300.399414  65.758652   \n",
      "99  23170.601562  66.961021  23170.601562   9301.790039  65.332382   \n",
      "\n",
      "         val_mse  epoch  \n",
      "0   13410.435547      0  \n",
      "1   10090.941406      1  \n",
      "2    9718.583984      2  \n",
      "3    9640.004883      3  \n",
      "4    9595.024414      4  \n",
      "..           ...    ...  \n",
      "95   9314.510742     95  \n",
      "96   9306.427734     96  \n",
      "97   9306.983398     97  \n",
      "98   9300.399414     98  \n",
      "99   9301.790039     99  \n",
      "\n",
      "[100 rows x 7 columns]\n"
     ]
    }
   ],
   "source": [
    "hist = pd.DataFrame(history.history)\n",
    "hist['epoch'] = history.epoch\n",
    "print(hist)"
   ],
   "metadata": {
    "collapsed": false,
    "ExecuteTime": {
     "end_time": "2023-05-11T04:25:11.862990Z",
     "start_time": "2023-05-11T04:25:11.855266Z"
    }
   }
  },
  {
   "cell_type": "code",
   "execution_count": 199,
   "outputs": [
    {
     "data": {
      "text/plain": "<Figure size 640x480 with 1 Axes>",
      "image/png": "[encoded data removed]"
     },
     "metadata": {},
     "output_type": "display_data"
    },
    {
     "data": {
      "text/plain": "<Figure size 640x480 with 1 Axes>",
      "image/png": "[encoded data removed]"
     },
     "metadata": {},
     "output_type": "display_data"
    }
   ],
   "source": [
    "def plot_history(history):\n",
    "  hist = pd.DataFrame(history.history)\n",
    "  hist['epoch'] = history.epoch\n",
    "\n",
    "  plt.figure()\n",
    "  plt.xlabel('Epoch')\n",
    "  plt.ylabel('Mean Abs Error [dias_ejec_final_contrato]')\n",
    "  plt.plot(hist['epoch'], hist['mae'],\n",
    "           label='Train Error')\n",
    "  plt.plot(hist['epoch'], hist['val_mae'],\n",
    "           label = 'Val Error')\n",
    "  plt.ylim([50,100])\n",
    "  plt.legend()\n",
    "\n",
    "  plt.figure()\n",
    "  plt.xlabel('Epoch')\n",
    "  plt.ylabel('Mean Square Error [dias_ejec_final_contrato^2$]')\n",
    "  plt.plot(hist['epoch'], hist['mse'],\n",
    "           label='Train Error')\n",
    "  plt.plot(hist['epoch'], hist['val_mse'],\n",
    "           label = 'Val Error')\n",
    "  plt.ylim([0,30000])\n",
    "  plt.legend()\n",
    "  plt.show()\n",
    "\n",
    "\n",
    "plot_history(history)"
   ],
   "metadata": {
    "collapsed": false,
    "ExecuteTime": {
     "end_time": "2023-05-11T04:29:05.753033Z",
     "start_time": "2023-05-11T04:29:05.497536Z"
    }
   }
  },
  {
   "cell_type": "code",
   "execution_count": null,
   "outputs": [],
   "source": [],
   "metadata": {
    "collapsed": false
   }
  }
 ],
 "metadata": {
  "kernelspec": {
   "display_name": "Python 3",
   "language": "python",
   "name": "python3"
  },
  "language_info": {
   "codemirror_mode": {
    "name": "ipython",
    "version": 2
   },
   "file_extension": ".py",
   "mimetype": "text/x-python",
   "name": "python",
   "nbconvert_exporter": "python",
   "pygments_lexer": "ipython2",
   "version": "2.7.6"
  }
 },
 "nbformat": 4,
 "nbformat_minor": 0
}
