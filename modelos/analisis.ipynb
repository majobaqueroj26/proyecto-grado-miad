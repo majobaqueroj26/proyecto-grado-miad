{
 "cells": [
  {
   "cell_type": "code",
   "execution_count": null,
   "metadata": {},
   "outputs": [],
   "source": [
    "secop_I_filter = secop_I.copy()\n",
    "\n",
    "# transformación de la variables\n",
    "label_encoder = preprocessing.LabelEncoder()\n",
    "\n",
    "# modalidad de contratación\n",
    "secop_I_filter['modalidad_de_contratacion']= label_encoder.fit_transform(secop_I_filter['modalidad_de_contratacion'])\n",
    "\n",
    "# estado de proceso\n",
    "secop_I_filter['estado_del_proceso']= label_encoder.fit_transform(secop_I_filter['estado_del_proceso'])\n",
    "\n",
    "# objeto a contratar\n",
    "secop_I_filter['id_objeto_a_contratar']= label_encoder.fit_transform(secop_I_filter['id_objeto_a_contratar'])\n",
    "\n",
    "# tipo de contrato\n",
    "secop_I_filter['tipo_de_contrato']= label_encoder.fit_transform(secop_I_filter['tipo_de_contrato'])\n",
    "\n",
    "# municipio\n",
    "secop_I_filter['municipios_ejecucion_']= label_encoder.fit_transform(secop_I_filter['municipios_ejecucion_'])\n",
    "\n",
    "# departamento\n",
    "secop_I_filter['departamento_ejecucion']= label_encoder.fit_transform(secop_I_filter['departamento_ejecucion'])\n",
    "\n",
    "# grupo\n",
    "secop_I_filter['nombre_grupo']= label_encoder.fit_transform(secop_I_filter['nombre_grupo'])\n",
    "\n",
    "# familia\n",
    "secop_I_filter['nombre_familia']= label_encoder.fit_transform(secop_I_filter['nombre_familia'])\n",
    "\n",
    "# clase\n",
    "secop_I_filter['nombre_clase']= label_encoder.fit_transform(secop_I_filter['nombre_clase'])\n",
    "\n",
    "# identificacion del contratista\n",
    "secop_I_filter['identificacion_del_contratista']= label_encoder.fit_transform(secop_I_filter['identificacion_del_contratista'])"
   ]
  },
  {
   "cell_type": "code",
   "execution_count": null,
   "metadata": {},
   "outputs": [],
   "source": [
    "# balanceo de clases\n",
    "x = secop_I_filter.drop('con_adicion_pptal', axis=1)\n",
    "y = secop_I_filter['con_adicion_pptal']\n",
    "print('Original dataset shape %s' % Counter(y))\n",
    "\n",
    "sm = SMOTE(random_state=42)\n",
    "x_res, y_res = sm.fit_resample(x, y)\n",
    "print('Resampled dataset shape %s' % Counter(y_res))"
   ]
  },
  {
   "attachments": {},
   "cell_type": "markdown",
   "metadata": {},
   "source": [
    "#### Gráficas Conjuntas y Tablas de Contigencia\n",
    "\n",
    "En primer lugar queremos entender si la probabilidad de adición depende de ciertas variables categoricas tales como el departamento, tipo de contrato, estado de proceso, grupo al que pertence el gasto entre otras variables. Para ello, se realizará un análisis a trvés de tablas de contingencia para enteder dichas relaciones.\n",
    "\n",
    "Teniendo en cuenta lo anterior, veremos la relación de la varaible *con adición presupuestal* con:\n",
    "\n",
    "1. Departamento.\n",
    "2. Grupo.\n",
    "3. Valor de Contrato.\n",
    "4. Tiempo de Ejecución del Contrato.\n",
    "5. Modalidad de Contrato.\n",
    "6. Estado del Proceso.\n",
    "7. Tipo de Contrato.\n",
    "8. Contratista."
   ]
  },
  {
   "cell_type": "code",
   "execution_count": null,
   "metadata": {},
   "outputs": [],
   "source": [
    "# relación con departamento\n",
    "ctab_depart = pd.crosstab(secop_I.departamento_ejecucion, secop_I.con_adicion_pptal, \n",
    "                                  margins=True, margins_name=\"Total\", normalize='columns')\n",
    "print(ctab_depart)\n",
    "\n",
    "# gráfico\n",
    "ctab_depart.plot.bar(stacked=True)\n",
    "plt.legend(title='con_adicion_pptal')\n",
    "plt.show()"
   ]
  },
  {
   "cell_type": "code",
   "execution_count": null,
   "metadata": {},
   "outputs": [],
   "source": [
    "#---------- Grupo ----------\n",
    "secop_I.groupby(['id_grupo', 'nombre_grupo'])['uid'].count().sort_values(ascending=False)"
   ]
  },
  {
   "cell_type": "code",
   "execution_count": null,
   "metadata": {},
   "outputs": [],
   "source": [
    "# relación con grupo por columna\n",
    "ctab_grupo = pd.crosstab(secop_I.id_grupo, secop_I.con_adicion_pptal, \n",
    "                                  margins=True, margins_name=\"Total\", normalize='columns')\n",
    "print(ctab_grupo)"
   ]
  },
  {
   "cell_type": "code",
   "execution_count": null,
   "metadata": {},
   "outputs": [],
   "source": [
    "# relación con grupo por fila\n",
    "ctab_grupo = pd.crosstab(secop_I.id_grupo, secop_I.con_adicion_pptal, \n",
    "                                  margins=True, margins_name=\"Total\", normalize='index')\n",
    "print(ctab_grupo)"
   ]
  },
  {
   "cell_type": "code",
   "execution_count": null,
   "metadata": {},
   "outputs": [],
   "source": [
    "# Gráfico\n",
    "# ==============================================================================\n",
    "ctab_grupo.plot.bar(stacked=True)\n",
    "plt.legend(title='con_adicion_pptal')\n",
    "plt.show()"
   ]
  },
  {
   "attachments": {},
   "cell_type": "markdown",
   "metadata": {},
   "source": [
    "#### Diagrama de correlación\n",
    "\n",
    "En primer lugar queremos entender si la probabilidad de adición depende de ciertas variables categoricas tales como el departamento, tipo de contrato, estado de proceso, grupo al que pertence el gasto entre otras variables. Para ello, se realizará un diagrama de correlación para confirmar a través de este tipo de análisis si esto relamente es así.\n",
    "\n",
    "Antes de su aplicación, se deberá transformar dichas variables de tipo string a númericas las cuales permita identificar las posibles clasificaciones de cada una de estas variables. "
   ]
  },
  {
   "cell_type": "code",
   "execution_count": null,
   "metadata": {},
   "outputs": [],
   "source": [
    "secopI_filter = secop_I.copy()\n",
    "\n",
    "# transformación de la variables\n",
    "label_encoder = preprocessing.LabelEncoder()\n",
    "\n",
    "# modalidad de contratación\n",
    "secopI_filter['modalidad_de_contratacion']= label_encoder.fit_transform(secopI_filter['modalidad_de_contratacion'])\n",
    "\n",
    "# estado de proceso\n",
    "secopI_filter['estado_del_proceso']= label_encoder.fit_transform(secopI_filter['estado_del_proceso'])\n",
    "\n",
    "# objeto a contratar\n",
    "secopI_filter['id_objeto_a_contratar']= label_encoder.fit_transform(secopI_filter['id_objeto_a_contratar'])\n",
    "\n",
    "# tipo de contrato\n",
    "secopI_filter['tipo_de_contrato']= label_encoder.fit_transform(secopI_filter['tipo_de_contrato'])\n",
    "\n",
    "# municipio\n",
    "secopI_filter['municipios_ejecucion_']= label_encoder.fit_transform(secopI_filter['municipios_ejecucion_'])\n",
    "\n",
    "# departamento\n",
    "secopI_filter['departamento_ejecucion']= label_encoder.fit_transform(secopI_filter['departamento_ejecucion'])\n",
    "\n",
    "# grupo\n",
    "secopI_filter['nombre_grupo']= label_encoder.fit_transform(secopI_filter['nombre_grupo'])\n",
    "\n",
    "# familia\n",
    "secopI_filter['nombre_familia']= label_encoder.fit_transform(secopI_filter['nombre_familia'])\n",
    "\n",
    "# clase\n",
    "secopI_filter['nombre_clase']= label_encoder.fit_transform(secopI_filter['nombre_clase'])\n",
    "\n",
    "# identificacion del contratista\n",
    "secopI_filter['identificacion_del_contratista']= label_encoder.fit_transform(secopI_filter['identificacion_del_contratista'])"
   ]
  },
  {
   "cell_type": "code",
   "execution_count": null,
   "metadata": {},
   "outputs": [],
   "source": [
    "secopI_filter = secopI_filter.filter(items=['con_adicion_pptal', 'modalidad_de_contratacion', 'estado_del_proceso',\n",
    "                                            'id_objeto_a_contratar', 'tipo_de_contrato',\n",
    "                                            'departamento_ejecucion', 'nombre_grupo', \n",
    "                                            'identificacion_del_contratista'])\n",
    "secopI_filter.head(5)"
   ]
  },
  {
   "cell_type": "code",
   "execution_count": null,
   "metadata": {},
   "outputs": [],
   "source": [
    "corr = secopI_filter.dropna().corr()\n",
    "sns.heatmap(corr, vmin=0, vmax=1)"
   ]
  },
  {
   "attachments": {},
   "cell_type": "markdown",
   "metadata": {},
   "source": [
    "#### Distribución de las variables"
   ]
  },
  {
   "cell_type": "code",
   "execution_count": null,
   "metadata": {},
   "outputs": [],
   "source": [
    "secopI_sin_adicion = secopI_filter.filter(items=['modalidad_de_contratacion', 'estado_del_proceso',\n",
    "                                            'id_objeto_a_contratar', 'tipo_de_contrato', 'municipios_ejecucion_',\n",
    "                                            'departamento_ejecucion', 'nombre_grupo', 'nombre_familia', 'nombre_clase', \n",
    "                                            'identificacion_del_contratista'])\n",
    "secopI_sin_adicion.head(5)"
   ]
  },
  {
   "cell_type": "code",
   "execution_count": null,
   "metadata": {},
   "outputs": [],
   "source": [
    "fig, axes = plt.subplots(nrows=2, ncols=5, figsize=(15, 6))\n",
    "axes = axes.flat\n",
    "columnas_numeric = secopI_sin_adicion.select_dtypes(include=['float64', 'int']).columns\n",
    "\n",
    "for i, column in enumerate(columnas_numeric):\n",
    "    sns.histplot(\n",
    "        data    = secopI_sin_adicion,\n",
    "        x       = column,\n",
    "        stat    = \"count\",\n",
    "        kde     = True,\n",
    "        line_kws= {'linewidth': 2},\n",
    "        alpha   = 0.3,\n",
    "        ax      = axes[i]\n",
    "    )\n",
    "    axes[i].set_title(column, fontsize=8, fontweight=\"bold\")\n",
    "    axes[i].tick_params(labelsize=6)\n",
    "    axes[i].set_xlabel(\"\")\n",
    "    \n",
    "    \n",
    "fig.tight_layout()\n",
    "plt.subplots_adjust(top=0.9)\n",
    "fig.suptitle('Distribución variables', fontsize=12, fontweight=\"bold\")"
   ]
  }
 ],
 "metadata": {
  "language_info": {
   "name": "python"
  },
  "orig_nbformat": 4
 },
 "nbformat": 4,
 "nbformat_minor": 2
}
