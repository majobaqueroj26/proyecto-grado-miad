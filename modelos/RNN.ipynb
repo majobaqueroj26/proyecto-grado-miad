{
 "cells": [
  {
   "cell_type": "code",
   "execution_count": 13,
   "metadata": {
    "ExecuteTime": {
     "end_time": "2023-05-09T16:38:41.717397Z",
     "start_time": "2023-05-09T16:38:41.701146Z"
    }
   },
   "outputs": [],
   "source": [
    "import os\n",
    "import pathlib\n",
    "import sys\n",
    "import matplotlib.pyplot as plt\n",
    "from scipy import linalg\n",
    "\n",
    "\n",
    "sys.path.append(os.path.join(pathlib.Path(os.getcwd()).parent))\n",
    "import pandas as pd\n",
    "import numpy as np\n",
    "import matplotlib.pyplot as plt\n",
    "from datetime import datetime\n",
    "\n",
    "from utils.bq_conn import bq_conn_file\n",
    "# %%\n",
    "bq_client = bq_conn_file(project_id=\"dsa-miad-365616\")"
   ]
  },
  {
   "cell_type": "code",
   "execution_count": 15,
   "metadata": {
    "ExecuteTime": {
     "end_time": "2023-05-09T16:39:09.390670Z",
     "start_time": "2023-05-09T16:38:51.420303Z"
    }
   },
   "outputs": [
    {
     "name": "stdout",
     "output_type": "stream",
     "text": [
      "El número de filas del dataset: 26553\n",
      "El número de columnas del dataset: 38\n"
     ]
    },
    {
     "data": {
      "text/plain": "                   uid  anno_cargue_secop  id_modalidad   \n0   191389136418143424               2019            13  \\\n1  1912101041779226352               2019            12   \n2  1912101443259265538               2019            12   \n3   191294985788644918               2019            12   \n4   191988590538059861               2019            19   \n\n     modalidad_de_contratacion estado_del_proceso  id_objeto_a_contratar   \n0  contratacion minima cuantia          celebrado               50000000  \\\n1  contratacion directa ley de          celebrado               53000000   \n2  contratacion directa ley de          celebrado               55000000   \n3  contratacion directa ley de          liquidado               72000000   \n4   asociacion publico privada          celebrado               73000000   \n\n                      detalle_del_objeto_a_contratar   \n0  contratar servicio suministro elementos materi...  \\\n1  adquisicion uniformes para dotar personal cuer...   \n2  contratar diseno produccion tarjetas presentac...   \n3  prestar servicio mantenimiento preventivo corr...   \n4  desintegracion vehiculos automotores estado in...   \n\n                tipo_de_contrato municipio_de_obtencion municipios_ejecucion_   \n0                     suministro             facatativa            facatativa  \\\n1        prestacion de servicios                 bogota                bogota   \n2        prestacion de servicios                 bogota                bogota   \n3        prestacion de servicios                 bogota                bogota   \n4  no encontrado en hoja proceso                 bogota                bogota   \n\n  departamento_ejecucion                       numero_de_proceso   \n0           cundinamarca                    CPMMSFFAMCNo01DE2019  \\\n1                 bogota  DIRGENERALCONTRATACIONDIRECTA184DE2019   \n2                 bogota  DIRGENERALCONTRATACIONDIRECTA188DE2019   \n3                 bogota  DIRGENERALCONTRATACIONDIRECTA106DE2019   \n4                 bogota           CONVENIODEASOCIACIÓN231DE2018   \n\n     numero_de_contrato  cuantia_proceso id_grupo            nombre_grupo   \n0  CPMMSFFAMCNO01DE2019         50000000        E  productos de uso final  \\\n1             184DE2019      22980096902        E  productos de uso final   \n2             188DE2019         35998452        E  productos de uso final   \n3             106DE2019         16767536        F               servicios   \n4             231DE2018                0        F               servicios   \n\n  id_familia                                     nombre_familia id_clase   \n0       5022                    productos de cereales legumbres   502213  \\\n1       5310                                               ropa   531027   \n2       5510                                    medios impresos   551015   \n3       7210  servicios de mantenimiento reparaciones de con...   721015   \n4       7318                   servicios de maquinado procesado   731810   \n\n                              nombre_clase id_adjudicacion   \n0              harina productos de molinos         8143424  \\\n1                                uniformes         9226352   \n2                   publicaciones impresas         9265538   \n3  servicios de apoyo para la construccion         8644918   \n4                   servicios de maquinado         8059861   \n\n  tipo_identifi_del_contratista identificacion_del_contratista   \n0       nit de persona juridica                      900791326  \\\n1       nit de persona juridica                      860020227   \n2       nit de persona juridica                      830001113   \n3       nit de persona juridica                      860025639   \n4       nit de persona juridica                      806011019   \n\n               nom_razon_social_contratista tipo_doc_representante_legal   \n0                         inversiones ocazo         cedula de ciudadania  \\\n1       fondo rotatorio de la policia forpo      nit de persona juridica   \n2             imprenta nacional de colombia      nit de persona juridica   \n3  mitsubishi electric de colombia limitada      nit de persona juridica   \n4      recuperaciones naranjo recycling sas         cedula de ciudadania   \n\n  identific_representante_legal  plazo_de_ejec_del_contrato_   \n0                    1022363447                          330  \\\n1                     860020227                          660   \n2                     830001113                           31   \n3                     860025639                          170   \n4                      57439563                          360   \n\n   dias_ejec_final_contrato rango_de_ejec_del_contrato  prorrogado   \n0                       330                          D           0  \\\n1                       690                          D           1   \n2                        71                          D           1   \n3                       170                          D           0   \n4                       360                          D           0   \n\n   tiempo_adiciones_en_dias  cuantia_contrato  con_adicion_pptal   \n0                         0          50000000                  0  \\\n1                        30       22980096902                  0   \n2                        40          35998452                  0   \n3                         0          16767536                  0   \n4                         0                 0                  0   \n\n   valor_total_de_adiciones  valor_contrato_con_adiciones           moneda   \n0                         0                      50000000  peso colombiano  \\\n1                         0                   22980096902  peso colombiano   \n2                         0                      35998452  peso colombiano   \n3                         0                      16767536  peso colombiano   \n4                         0                             0  peso colombiano   \n\n                            objeto_del_contrato_a_la   \n0  contratar compra elementos materia prima para ...  \\\n1  adquisicion uniformes para dotar personal cuer...   \n2  contratar diseno produccion tarjetas presentac...   \n3  prestar servicio mantenimiento preventivo corr...   \n4  desintegracion vehiculos automotores estado in...   \n\n                             ruta_proceso_en_secop_i  \n0  {'url': 'https://www.contratos.gov.co/consulta...  \n1  {'url': 'https://www.contratos.gov.co/consulta...  \n2  {'url': 'https://www.contratos.gov.co/consulta...  \n3  {'url': 'https://www.contratos.gov.co/consulta...  \n4  {'url': 'https://www.contratos.gov.co/consulta...  ",
      "text/html": "<div>\n<style scoped>\n    .dataframe tbody tr th:only-of-type {\n        vertical-align: middle;\n    }\n\n    .dataframe tbody tr th {\n        vertical-align: top;\n    }\n\n    .dataframe thead th {\n        text-align: right;\n    }\n</style>\n<table border=\"1\" class=\"dataframe\">\n  <thead>\n    <tr style=\"text-align: right;\">\n      <th></th>\n      <th>uid</th>\n      <th>anno_cargue_secop</th>\n      <th>id_modalidad</th>\n      <th>modalidad_de_contratacion</th>\n      <th>estado_del_proceso</th>\n      <th>id_objeto_a_contratar</th>\n      <th>detalle_del_objeto_a_contratar</th>\n      <th>tipo_de_contrato</th>\n      <th>municipio_de_obtencion</th>\n      <th>municipios_ejecucion_</th>\n      <th>departamento_ejecucion</th>\n      <th>numero_de_proceso</th>\n      <th>numero_de_contrato</th>\n      <th>cuantia_proceso</th>\n      <th>id_grupo</th>\n      <th>nombre_grupo</th>\n      <th>id_familia</th>\n      <th>nombre_familia</th>\n      <th>id_clase</th>\n      <th>nombre_clase</th>\n      <th>id_adjudicacion</th>\n      <th>tipo_identifi_del_contratista</th>\n      <th>identificacion_del_contratista</th>\n      <th>nom_razon_social_contratista</th>\n      <th>tipo_doc_representante_legal</th>\n      <th>identific_representante_legal</th>\n      <th>plazo_de_ejec_del_contrato_</th>\n      <th>dias_ejec_final_contrato</th>\n      <th>rango_de_ejec_del_contrato</th>\n      <th>prorrogado</th>\n      <th>tiempo_adiciones_en_dias</th>\n      <th>cuantia_contrato</th>\n      <th>con_adicion_pptal</th>\n      <th>valor_total_de_adiciones</th>\n      <th>valor_contrato_con_adiciones</th>\n      <th>moneda</th>\n      <th>objeto_del_contrato_a_la</th>\n      <th>ruta_proceso_en_secop_i</th>\n    </tr>\n  </thead>\n  <tbody>\n    <tr>\n      <th>0</th>\n      <td>191389136418143424</td>\n      <td>2019</td>\n      <td>13</td>\n      <td>contratacion minima cuantia</td>\n      <td>celebrado</td>\n      <td>50000000</td>\n      <td>contratar servicio suministro elementos materi...</td>\n      <td>suministro</td>\n      <td>facatativa</td>\n      <td>facatativa</td>\n      <td>cundinamarca</td>\n      <td>CPMMSFFAMCNo01DE2019</td>\n      <td>CPMMSFFAMCNO01DE2019</td>\n      <td>50000000</td>\n      <td>E</td>\n      <td>productos de uso final</td>\n      <td>5022</td>\n      <td>productos de cereales legumbres</td>\n      <td>502213</td>\n      <td>harina productos de molinos</td>\n      <td>8143424</td>\n      <td>nit de persona juridica</td>\n      <td>900791326</td>\n      <td>inversiones ocazo</td>\n      <td>cedula de ciudadania</td>\n      <td>1022363447</td>\n      <td>330</td>\n      <td>330</td>\n      <td>D</td>\n      <td>0</td>\n      <td>0</td>\n      <td>50000000</td>\n      <td>0</td>\n      <td>0</td>\n      <td>50000000</td>\n      <td>peso colombiano</td>\n      <td>contratar compra elementos materia prima para ...</td>\n      <td>{'url': 'https://www.contratos.gov.co/consulta...</td>\n    </tr>\n    <tr>\n      <th>1</th>\n      <td>1912101041779226352</td>\n      <td>2019</td>\n      <td>12</td>\n      <td>contratacion directa ley de</td>\n      <td>celebrado</td>\n      <td>53000000</td>\n      <td>adquisicion uniformes para dotar personal cuer...</td>\n      <td>prestacion de servicios</td>\n      <td>bogota</td>\n      <td>bogota</td>\n      <td>bogota</td>\n      <td>DIRGENERALCONTRATACIONDIRECTA184DE2019</td>\n      <td>184DE2019</td>\n      <td>22980096902</td>\n      <td>E</td>\n      <td>productos de uso final</td>\n      <td>5310</td>\n      <td>ropa</td>\n      <td>531027</td>\n      <td>uniformes</td>\n      <td>9226352</td>\n      <td>nit de persona juridica</td>\n      <td>860020227</td>\n      <td>fondo rotatorio de la policia forpo</td>\n      <td>nit de persona juridica</td>\n      <td>860020227</td>\n      <td>660</td>\n      <td>690</td>\n      <td>D</td>\n      <td>1</td>\n      <td>30</td>\n      <td>22980096902</td>\n      <td>0</td>\n      <td>0</td>\n      <td>22980096902</td>\n      <td>peso colombiano</td>\n      <td>adquisicion uniformes para dotar personal cuer...</td>\n      <td>{'url': 'https://www.contratos.gov.co/consulta...</td>\n    </tr>\n    <tr>\n      <th>2</th>\n      <td>1912101443259265538</td>\n      <td>2019</td>\n      <td>12</td>\n      <td>contratacion directa ley de</td>\n      <td>celebrado</td>\n      <td>55000000</td>\n      <td>contratar diseno produccion tarjetas presentac...</td>\n      <td>prestacion de servicios</td>\n      <td>bogota</td>\n      <td>bogota</td>\n      <td>bogota</td>\n      <td>DIRGENERALCONTRATACIONDIRECTA188DE2019</td>\n      <td>188DE2019</td>\n      <td>35998452</td>\n      <td>E</td>\n      <td>productos de uso final</td>\n      <td>5510</td>\n      <td>medios impresos</td>\n      <td>551015</td>\n      <td>publicaciones impresas</td>\n      <td>9265538</td>\n      <td>nit de persona juridica</td>\n      <td>830001113</td>\n      <td>imprenta nacional de colombia</td>\n      <td>nit de persona juridica</td>\n      <td>830001113</td>\n      <td>31</td>\n      <td>71</td>\n      <td>D</td>\n      <td>1</td>\n      <td>40</td>\n      <td>35998452</td>\n      <td>0</td>\n      <td>0</td>\n      <td>35998452</td>\n      <td>peso colombiano</td>\n      <td>contratar diseno produccion tarjetas presentac...</td>\n      <td>{'url': 'https://www.contratos.gov.co/consulta...</td>\n    </tr>\n    <tr>\n      <th>3</th>\n      <td>191294985788644918</td>\n      <td>2019</td>\n      <td>12</td>\n      <td>contratacion directa ley de</td>\n      <td>liquidado</td>\n      <td>72000000</td>\n      <td>prestar servicio mantenimiento preventivo corr...</td>\n      <td>prestacion de servicios</td>\n      <td>bogota</td>\n      <td>bogota</td>\n      <td>bogota</td>\n      <td>DIRGENERALCONTRATACIONDIRECTA106DE2019</td>\n      <td>106DE2019</td>\n      <td>16767536</td>\n      <td>F</td>\n      <td>servicios</td>\n      <td>7210</td>\n      <td>servicios de mantenimiento reparaciones de con...</td>\n      <td>721015</td>\n      <td>servicios de apoyo para la construccion</td>\n      <td>8644918</td>\n      <td>nit de persona juridica</td>\n      <td>860025639</td>\n      <td>mitsubishi electric de colombia limitada</td>\n      <td>nit de persona juridica</td>\n      <td>860025639</td>\n      <td>170</td>\n      <td>170</td>\n      <td>D</td>\n      <td>0</td>\n      <td>0</td>\n      <td>16767536</td>\n      <td>0</td>\n      <td>0</td>\n      <td>16767536</td>\n      <td>peso colombiano</td>\n      <td>prestar servicio mantenimiento preventivo corr...</td>\n      <td>{'url': 'https://www.contratos.gov.co/consulta...</td>\n    </tr>\n    <tr>\n      <th>4</th>\n      <td>191988590538059861</td>\n      <td>2019</td>\n      <td>19</td>\n      <td>asociacion publico privada</td>\n      <td>celebrado</td>\n      <td>73000000</td>\n      <td>desintegracion vehiculos automotores estado in...</td>\n      <td>no encontrado en hoja proceso</td>\n      <td>bogota</td>\n      <td>bogota</td>\n      <td>bogota</td>\n      <td>CONVENIODEASOCIACIÓN231DE2018</td>\n      <td>231DE2018</td>\n      <td>0</td>\n      <td>F</td>\n      <td>servicios</td>\n      <td>7318</td>\n      <td>servicios de maquinado procesado</td>\n      <td>731810</td>\n      <td>servicios de maquinado</td>\n      <td>8059861</td>\n      <td>nit de persona juridica</td>\n      <td>806011019</td>\n      <td>recuperaciones naranjo recycling sas</td>\n      <td>cedula de ciudadania</td>\n      <td>57439563</td>\n      <td>360</td>\n      <td>360</td>\n      <td>D</td>\n      <td>0</td>\n      <td>0</td>\n      <td>0</td>\n      <td>0</td>\n      <td>0</td>\n      <td>0</td>\n      <td>peso colombiano</td>\n      <td>desintegracion vehiculos automotores estado in...</td>\n      <td>{'url': 'https://www.contratos.gov.co/consulta...</td>\n    </tr>\n  </tbody>\n</table>\n</div>"
     },
     "execution_count": 15,
     "metadata": {},
     "output_type": "execute_result"
    }
   ],
   "source": [
    "pd.options.display.max_columns = None\n",
    "\n",
    "query = '''\n",
    "SELECT\n",
    "    *\n",
    "FROM `Proyecto.DatosSecopI`\n",
    "ORDER BY anno_cargue_secop DESC\n",
    "'''\n",
    "bq_client = bq_conn_file(project_id=\"dsa-miad-365616\")\n",
    "secop_I = bq_client.execute_query(query=query)\n",
    "print(f\"El número de filas del dataset: {secop_I.shape[0]}\\nEl número de columnas del dataset: {secop_I.shape[1]}\")\n",
    "secop_I.head(5)"
   ]
  },
  {
   "cell_type": "code",
   "execution_count": 16,
   "outputs": [
    {
     "data": {
      "text/plain": "       id_modalidad estado_del_proceso  id_objeto_a_contratar   \n0                13          celebrado               50000000  \\\n1                12          celebrado               53000000   \n2                12          celebrado               55000000   \n3                12          liquidado               72000000   \n4                19          celebrado               73000000   \n...             ...                ...                    ...   \n26548            12          celebrado               94000000   \n26549            13          liquidado               94000000   \n26550            13          celebrado               94000000   \n26551            13          celebrado               95000000   \n26552            13          celebrado               95000000   \n\n                    tipo_de_contrato departamento_ejecucion   \n0                         suministro           cundinamarca  \\\n1            prestacion de servicios                 bogota   \n2            prestacion de servicios                 bogota   \n3            prestacion de servicios                 bogota   \n4      no encontrado en hoja proceso                 bogota   \n...                              ...                    ...   \n26548        prestacion de servicios                cordoba   \n26549        prestacion de servicios              antioquia   \n26550        prestacion de servicios                 boyaca   \n26551                           obra                  cauca   \n26552                           obra                  cauca   \n\n       municipios_ejecucion_  cuantia_proceso id_grupo id_familia id_clase   \n0                 facatativa         50000000        E       5022   502213  \\\n1                     bogota      22980096902        E       5310   531027   \n2                     bogota         35998452        E       5510   551015   \n3                     bogota         16767536        F       7210   721015   \n4                     bogota                0        F       7318   731810   \n...                      ...              ...      ...        ...      ...   \n26548              tierralta          1220210        F       9412   941216   \n26549         puerto triunfo          2581895        F       9412   941218   \n26550  santa rosa de viterbo           866525        F       9412   941215   \n26551                popayan         25538052        G       9512   951217   \n26552                popayan         29576536        G       9512   951217   \n\n       plazo_de_ejec_del_contrato_  tiempo_adiciones_en_dias   \n0                              330                         0  \\\n1                              660                        30   \n2                               31                        40   \n3                              170                         0   \n4                              360                         0   \n...                            ...                       ...   \n26548                            2                         0   \n26549                           30                         0   \n26550                           30                         0   \n26551                           30                         0   \n26552                           30                         0   \n\n       dias_ejec_final_contrato  \n0                           330  \n1                           690  \n2                            71  \n3                           170  \n4                           360  \n...                         ...  \n26548                         2  \n26549                        30  \n26550                        30  \n26551                        30  \n26552                        30  \n\n[26553 rows x 13 columns]",
      "text/html": "<div>\n<style scoped>\n    .dataframe tbody tr th:only-of-type {\n        vertical-align: middle;\n    }\n\n    .dataframe tbody tr th {\n        vertical-align: top;\n    }\n\n    .dataframe thead th {\n        text-align: right;\n    }\n</style>\n<table border=\"1\" class=\"dataframe\">\n  <thead>\n    <tr style=\"text-align: right;\">\n      <th></th>\n      <th>id_modalidad</th>\n      <th>estado_del_proceso</th>\n      <th>id_objeto_a_contratar</th>\n      <th>tipo_de_contrato</th>\n      <th>departamento_ejecucion</th>\n      <th>municipios_ejecucion_</th>\n      <th>cuantia_proceso</th>\n      <th>id_grupo</th>\n      <th>id_familia</th>\n      <th>id_clase</th>\n      <th>plazo_de_ejec_del_contrato_</th>\n      <th>tiempo_adiciones_en_dias</th>\n      <th>dias_ejec_final_contrato</th>\n    </tr>\n  </thead>\n  <tbody>\n    <tr>\n      <th>0</th>\n      <td>13</td>\n      <td>celebrado</td>\n      <td>50000000</td>\n      <td>suministro</td>\n      <td>cundinamarca</td>\n      <td>facatativa</td>\n      <td>50000000</td>\n      <td>E</td>\n      <td>5022</td>\n      <td>502213</td>\n      <td>330</td>\n      <td>0</td>\n      <td>330</td>\n    </tr>\n    <tr>\n      <th>1</th>\n      <td>12</td>\n      <td>celebrado</td>\n      <td>53000000</td>\n      <td>prestacion de servicios</td>\n      <td>bogota</td>\n      <td>bogota</td>\n      <td>22980096902</td>\n      <td>E</td>\n      <td>5310</td>\n      <td>531027</td>\n      <td>660</td>\n      <td>30</td>\n      <td>690</td>\n    </tr>\n    <tr>\n      <th>2</th>\n      <td>12</td>\n      <td>celebrado</td>\n      <td>55000000</td>\n      <td>prestacion de servicios</td>\n      <td>bogota</td>\n      <td>bogota</td>\n      <td>35998452</td>\n      <td>E</td>\n      <td>5510</td>\n      <td>551015</td>\n      <td>31</td>\n      <td>40</td>\n      <td>71</td>\n    </tr>\n    <tr>\n      <th>3</th>\n      <td>12</td>\n      <td>liquidado</td>\n      <td>72000000</td>\n      <td>prestacion de servicios</td>\n      <td>bogota</td>\n      <td>bogota</td>\n      <td>16767536</td>\n      <td>F</td>\n      <td>7210</td>\n      <td>721015</td>\n      <td>170</td>\n      <td>0</td>\n      <td>170</td>\n    </tr>\n    <tr>\n      <th>4</th>\n      <td>19</td>\n      <td>celebrado</td>\n      <td>73000000</td>\n      <td>no encontrado en hoja proceso</td>\n      <td>bogota</td>\n      <td>bogota</td>\n      <td>0</td>\n      <td>F</td>\n      <td>7318</td>\n      <td>731810</td>\n      <td>360</td>\n      <td>0</td>\n      <td>360</td>\n    </tr>\n    <tr>\n      <th>...</th>\n      <td>...</td>\n      <td>...</td>\n      <td>...</td>\n      <td>...</td>\n      <td>...</td>\n      <td>...</td>\n      <td>...</td>\n      <td>...</td>\n      <td>...</td>\n      <td>...</td>\n      <td>...</td>\n      <td>...</td>\n      <td>...</td>\n    </tr>\n    <tr>\n      <th>26548</th>\n      <td>12</td>\n      <td>celebrado</td>\n      <td>94000000</td>\n      <td>prestacion de servicios</td>\n      <td>cordoba</td>\n      <td>tierralta</td>\n      <td>1220210</td>\n      <td>F</td>\n      <td>9412</td>\n      <td>941216</td>\n      <td>2</td>\n      <td>0</td>\n      <td>2</td>\n    </tr>\n    <tr>\n      <th>26549</th>\n      <td>13</td>\n      <td>liquidado</td>\n      <td>94000000</td>\n      <td>prestacion de servicios</td>\n      <td>antioquia</td>\n      <td>puerto triunfo</td>\n      <td>2581895</td>\n      <td>F</td>\n      <td>9412</td>\n      <td>941218</td>\n      <td>30</td>\n      <td>0</td>\n      <td>30</td>\n    </tr>\n    <tr>\n      <th>26550</th>\n      <td>13</td>\n      <td>celebrado</td>\n      <td>94000000</td>\n      <td>prestacion de servicios</td>\n      <td>boyaca</td>\n      <td>santa rosa de viterbo</td>\n      <td>866525</td>\n      <td>F</td>\n      <td>9412</td>\n      <td>941215</td>\n      <td>30</td>\n      <td>0</td>\n      <td>30</td>\n    </tr>\n    <tr>\n      <th>26551</th>\n      <td>13</td>\n      <td>celebrado</td>\n      <td>95000000</td>\n      <td>obra</td>\n      <td>cauca</td>\n      <td>popayan</td>\n      <td>25538052</td>\n      <td>G</td>\n      <td>9512</td>\n      <td>951217</td>\n      <td>30</td>\n      <td>0</td>\n      <td>30</td>\n    </tr>\n    <tr>\n      <th>26552</th>\n      <td>13</td>\n      <td>celebrado</td>\n      <td>95000000</td>\n      <td>obra</td>\n      <td>cauca</td>\n      <td>popayan</td>\n      <td>29576536</td>\n      <td>G</td>\n      <td>9512</td>\n      <td>951217</td>\n      <td>30</td>\n      <td>0</td>\n      <td>30</td>\n    </tr>\n  </tbody>\n</table>\n<p>26553 rows × 13 columns</p>\n</div>"
     },
     "execution_count": 16,
     "metadata": {},
     "output_type": "execute_result"
    }
   ],
   "source": [
    "secopI_filter = secop_I[['id_modalidad','estado_del_proceso','id_objeto_a_contratar','tipo_de_contrato','departamento_ejecucion','municipios_ejecucion_','cuantia_proceso','id_grupo',\n",
    "'id_familia','id_clase','plazo_de_ejec_del_contrato_','tiempo_adiciones_en_dias','dias_ejec_final_contrato']]\n",
    "\n",
    "secopI_filter"
   ],
   "metadata": {
    "collapsed": false,
    "ExecuteTime": {
     "end_time": "2023-05-09T16:39:31.645344Z",
     "start_time": "2023-05-09T16:39:31.627538Z"
    }
   }
  },
  {
   "cell_type": "code",
   "execution_count": 17,
   "metadata": {
    "ExecuteTime": {
     "end_time": "2023-05-09T16:39:38.373227Z",
     "start_time": "2023-05-09T16:39:38.367477Z"
    }
   },
   "outputs": [
    {
     "data": {
      "text/plain": "Index(['id_modalidad', 'estado_del_proceso', 'id_objeto_a_contratar',\n       'tipo_de_contrato', 'departamento_ejecucion', 'municipios_ejecucion_',\n       'cuantia_proceso', 'id_grupo', 'id_familia', 'id_clase',\n       'plazo_de_ejec_del_contrato_', 'tiempo_adiciones_en_dias',\n       'dias_ejec_final_contrato'],\n      dtype='object')"
     },
     "execution_count": 17,
     "metadata": {},
     "output_type": "execute_result"
    }
   ],
   "source": [
    "secopI_filter.columns"
   ]
  },
  {
   "cell_type": "code",
   "execution_count": 18,
   "metadata": {
    "ExecuteTime": {
     "end_time": "2023-05-09T16:39:40.485662Z",
     "start_time": "2023-05-09T16:39:40.480976Z"
    }
   },
   "outputs": [],
   "source": [
    "base = secopI_filter"
   ]
  },
  {
   "cell_type": "code",
   "execution_count": 19,
   "metadata": {
    "ExecuteTime": {
     "end_time": "2023-05-09T16:39:43.396413Z",
     "start_time": "2023-05-09T16:39:43.357314Z"
    }
   },
   "outputs": [
    {
     "name": "stdout",
     "output_type": "stream",
     "text": [
      "<class 'pandas.core.frame.DataFrame'>\n",
      "RangeIndex: 26553 entries, 0 to 26552\n",
      "Data columns (total 13 columns):\n",
      " #   Column                       Non-Null Count  Dtype \n",
      "---  ------                       --------------  ----- \n",
      " 0   id_modalidad                 26553 non-null  Int64 \n",
      " 1   estado_del_proceso           26553 non-null  object\n",
      " 2   id_objeto_a_contratar        26553 non-null  Int64 \n",
      " 3   tipo_de_contrato             26553 non-null  object\n",
      " 4   departamento_ejecucion       26553 non-null  object\n",
      " 5   municipios_ejecucion_        26553 non-null  object\n",
      " 6   cuantia_proceso              26553 non-null  Int64 \n",
      " 7   id_grupo                     26553 non-null  object\n",
      " 8   id_familia                   26553 non-null  object\n",
      " 9   id_clase                     26553 non-null  object\n",
      " 10  plazo_de_ejec_del_contrato_  26553 non-null  Int64 \n",
      " 11  tiempo_adiciones_en_dias     26553 non-null  Int64 \n",
      " 12  dias_ejec_final_contrato     26553 non-null  Int64 \n",
      "dtypes: Int64(6), object(7)\n",
      "memory usage: 2.8+ MB\n"
     ]
    }
   ],
   "source": [
    "n = base.isna()== True \n",
    "base = base.fillna(0)\n",
    "base.info()"
   ]
  },
  {
   "cell_type": "code",
   "execution_count": 20,
   "metadata": {
    "ExecuteTime": {
     "end_time": "2023-05-09T16:39:46.818311Z",
     "start_time": "2023-05-09T16:39:46.794661Z"
    }
   },
   "outputs": [],
   "source": [
    "# Codificación de las variables categoricas\n",
    "base['estado_del_proceso'] = pd.factorize(base.estado_del_proceso)[0]\n",
    "base['tipo_de_contrato'] = pd.factorize(base.tipo_de_contrato)[0]\n",
    "base['departamento_ejecucion'] = pd.factorize(base.departamento_ejecucion)[0]\n",
    "base['id_grupo'] = pd.factorize(base.id_grupo)[0]\n",
    "base['id_familia'] = pd.factorize(base.id_familia)[0]\n",
    "base['id_clase'] = pd.factorize(base.id_clase)[0]\n",
    "base['plazo_de_ejec_del_contrato_'] = pd.factorize(base.plazo_de_ejec_del_contrato_)[0]"
   ]
  },
  {
   "cell_type": "code",
   "execution_count": null,
   "outputs": [],
   "source": [
    "df = base\n",
    "y_total = df.loc[:,df.columns==\"tiempo_adiciones_en_dias\"]\n",
    "X_total = df.loc[:,df.columns!=\"tiempo_adiciones_en_dias\"]\n",
    "y_total = y_total.reset_index(drop= True)\n",
    "\n",
    "# Reparto de datos en train y test\n",
    "y_totalf = y_total.tiempo_adiciones_en_dias.tolist()\n",
    "X_train, X_test, y_train, y_test = train_test_split(X_total, y_totalf, test_size = 0.33, random_state = 1)"
   ],
   "metadata": {
    "collapsed": false
   }
  },
  {
   "cell_type": "code",
   "execution_count": null,
   "outputs": [],
   "source": [
    "# Importar bibliotecas necesarias\n",
    "import tensorflow as tf\n",
    "from tensorflow import keras\n",
    "from tensorflow.keras import layers\n",
    "\n",
    "np.random.seed(25)\n",
    "tf.random.set_seed(25)\n",
    "\n",
    "# Crear modelo\n",
    "model = keras.Sequential([\n",
    "    layers.Dense(64, activation='relu', input_shape=[len(X_train.keys())]),\n",
    "    layers.Dense(64, activation='relu'),\n",
    "    layers.Dense(1)\n",
    "])\n",
    "\n",
    "# Compilar modelo\n",
    "model.compile(loss='mse', optimizer=tf.keras.optimizers.RMSprop(0.001), metrics=['mae', 'mse'])\n",
    "\n",
    "# Entrenar modelo\n",
    "history = model.fit(X_train, y_train, epochs=100, validation_split=0.2, verbose=0)\n",
    "\n",
    "# Evaluar modelo con datos de prueba\n",
    "loss, mae, mse = model.evaluate(X_test, y_test, verbose=2)\n",
    "\n",
    "# Hacer predicciones con el modelo\n",
    "predictions = model.predict(X_test)\n",
    "\n",
    "# Imprimir resultados\n",
    "print(\"Error absoluto medio (MAE): {:.2f}\".format(mae))\n",
    "print(\"Error cuadrático medio (MSE): {:.2f}\".format(mse))"
   ],
   "metadata": {
    "collapsed": false
   }
  }
 ],
 "metadata": {
  "kernelspec": {
   "display_name": "prueba",
   "language": "python",
   "name": "python3"
  },
  "language_info": {
   "codemirror_mode": {
    "name": "ipython",
    "version": 3
   },
   "file_extension": ".py",
   "mimetype": "text/x-python",
   "name": "python",
   "nbconvert_exporter": "python",
   "pygments_lexer": "ipython3",
   "version": "3.10.11"
  }
 },
 "nbformat": 4,
 "nbformat_minor": 2
}
