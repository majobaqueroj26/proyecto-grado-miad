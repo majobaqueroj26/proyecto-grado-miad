{
 "cells": [
  {
   "cell_type": "code",
   "execution_count": 1,
   "id": "90eb9c52-024e-46b0-9461-6dc1c2ccdadb",
   "metadata": {},
   "outputs": [],
   "source": [
    "# Importacion de librerias\n",
    "# Conexión a la base de datos\n",
    "# ==========================================\n",
    "import os\n",
    "import sys\n",
    "import pathlib\n",
    "\n",
    "\n",
    "sys.path.append(\n",
    "    os.path.join(pathlib.Path(os.getcwd()).parent)\n",
    ")\n",
    "\n",
    "\n",
    "from utils.bq_conn import bq_conn_file\n",
    "\n",
    "bq_client = bq_conn_file(project_id=\"dsa-miad-365616\")\n",
    "\n",
    "# Tratamiento de datos\n",
    "# ==========================================\n",
    "import pandas as pd\n",
    "import numpy as np\n",
    "from datetime import datetime\n",
    "\n",
    "# Graficas\n",
    "# ==========================================\n",
    "%matplotlib inline\n",
    "import matplotlib.pyplot as plt\n",
    "import seaborn as sns\n",
    "import plotly.express as px\n",
    "import seaborn as sns\n",
    "\n",
    "# Modelos ML\n",
    "# ==========================================\n",
    "from sklearn import preprocessing\n",
    "from sklearn.pipeline import Pipeline\n",
    "from sklearn.compose import ColumnTransformer\n",
    "from sklearn.impute import SimpleImputer\n",
    "from sklearn.preprocessing import OneHotEncoder\n",
    "from sklearn.preprocessing import StandardScaler\n",
    "from sklearn.model_selection import train_test_split\n",
    "\n",
    "import nltk\n",
    "import re\n",
    "from sklearn.metrics import classification_report, accuracy_score,confusion_matrix\n",
    "import tensorflow as tf\n",
    "from tensorflow.keras.callbacks import ModelCheckpoint, EarlyStopping\n",
    "from tensorflow.keras import Sequential, layers, preprocessing\n",
    "from tensorflow.keras.layers import Dense, Dropout, Dropout, Embedding, Conv1D, GlobalMaxPool1D\n",
    "import warnings\n",
    "warnings.filterwarnings('ignore')"
   ]
  },
  {
   "cell_type": "markdown",
   "id": "ef9c1374-ab6d-411d-9acf-1c427385e957",
   "metadata": {},
   "source": [
    "## Importo data"
   ]
  },
  {
   "cell_type": "code",
   "execution_count": 2,
   "id": "08253e92-5136-404f-93f8-505db86f12ae",
   "metadata": {},
   "outputs": [
    {
     "name": "stdout",
     "output_type": "stream",
     "text": [
      "El número de filas del dataset: 26553\n",
      "El número de columnas del dataset: 38\n"
     ]
    },
    {
     "data": {
      "text/html": [
       "<div>\n",
       "<style scoped>\n",
       "    .dataframe tbody tr th:only-of-type {\n",
       "        vertical-align: middle;\n",
       "    }\n",
       "\n",
       "    .dataframe tbody tr th {\n",
       "        vertical-align: top;\n",
       "    }\n",
       "\n",
       "    .dataframe thead th {\n",
       "        text-align: right;\n",
       "    }\n",
       "</style>\n",
       "<table border=\"1\" class=\"dataframe\">\n",
       "  <thead>\n",
       "    <tr style=\"text-align: right;\">\n",
       "      <th></th>\n",
       "      <th>uid</th>\n",
       "      <th>anno_cargue_secop</th>\n",
       "      <th>id_modalidad</th>\n",
       "      <th>modalidad_de_contratacion</th>\n",
       "      <th>estado_del_proceso</th>\n",
       "      <th>id_objeto_a_contratar</th>\n",
       "      <th>detalle_del_objeto_a_contratar</th>\n",
       "      <th>tipo_de_contrato</th>\n",
       "      <th>municipio_de_obtencion</th>\n",
       "      <th>municipios_ejecucion_</th>\n",
       "      <th>departamento_ejecucion</th>\n",
       "      <th>numero_de_proceso</th>\n",
       "      <th>numero_de_contrato</th>\n",
       "      <th>cuantia_proceso</th>\n",
       "      <th>id_grupo</th>\n",
       "      <th>nombre_grupo</th>\n",
       "      <th>id_familia</th>\n",
       "      <th>nombre_familia</th>\n",
       "      <th>id_clase</th>\n",
       "      <th>nombre_clase</th>\n",
       "      <th>id_adjudicacion</th>\n",
       "      <th>tipo_identifi_del_contratista</th>\n",
       "      <th>identificacion_del_contratista</th>\n",
       "      <th>nom_razon_social_contratista</th>\n",
       "      <th>tipo_doc_representante_legal</th>\n",
       "      <th>identific_representante_legal</th>\n",
       "      <th>plazo_de_ejec_del_contrato_</th>\n",
       "      <th>dias_ejec_final_contrato</th>\n",
       "      <th>rango_de_ejec_del_contrato</th>\n",
       "      <th>prorrogado</th>\n",
       "      <th>tiempo_adiciones_en_dias</th>\n",
       "      <th>cuantia_contrato</th>\n",
       "      <th>con_adicion_pptal</th>\n",
       "      <th>valor_total_de_adiciones</th>\n",
       "      <th>valor_contrato_con_adiciones</th>\n",
       "      <th>moneda</th>\n",
       "      <th>objeto_del_contrato_a_la</th>\n",
       "      <th>ruta_proceso_en_secop_i</th>\n",
       "    </tr>\n",
       "  </thead>\n",
       "  <tbody>\n",
       "    <tr>\n",
       "      <th>0</th>\n",
       "      <td>191389136418143424</td>\n",
       "      <td>2019</td>\n",
       "      <td>13</td>\n",
       "      <td>contratacion minima cuantia</td>\n",
       "      <td>celebrado</td>\n",
       "      <td>50000000</td>\n",
       "      <td>contratar servicio suministro elementos materi...</td>\n",
       "      <td>suministro</td>\n",
       "      <td>facatativa</td>\n",
       "      <td>facatativa</td>\n",
       "      <td>cundinamarca</td>\n",
       "      <td>CPMMSFFAMCNo01DE2019</td>\n",
       "      <td>CPMMSFFAMCNO01DE2019</td>\n",
       "      <td>50000000</td>\n",
       "      <td>E</td>\n",
       "      <td>productos de uso final</td>\n",
       "      <td>5022</td>\n",
       "      <td>productos de cereales legumbres</td>\n",
       "      <td>502213</td>\n",
       "      <td>harina productos de molinos</td>\n",
       "      <td>8143424</td>\n",
       "      <td>nit de persona juridica</td>\n",
       "      <td>900791326</td>\n",
       "      <td>inversiones ocazo</td>\n",
       "      <td>cedula de ciudadania</td>\n",
       "      <td>1022363447</td>\n",
       "      <td>330</td>\n",
       "      <td>330</td>\n",
       "      <td>D</td>\n",
       "      <td>0</td>\n",
       "      <td>0</td>\n",
       "      <td>50000000</td>\n",
       "      <td>0</td>\n",
       "      <td>0</td>\n",
       "      <td>50000000</td>\n",
       "      <td>peso colombiano</td>\n",
       "      <td>contratar compra elementos materia prima para ...</td>\n",
       "      <td>{'url': 'https://www.contratos.gov.co/consulta...</td>\n",
       "    </tr>\n",
       "    <tr>\n",
       "      <th>1</th>\n",
       "      <td>1912101041779226352</td>\n",
       "      <td>2019</td>\n",
       "      <td>12</td>\n",
       "      <td>contratacion directa ley de</td>\n",
       "      <td>celebrado</td>\n",
       "      <td>53000000</td>\n",
       "      <td>adquisicion uniformes para dotar personal cuer...</td>\n",
       "      <td>prestacion de servicios</td>\n",
       "      <td>bogota</td>\n",
       "      <td>bogota</td>\n",
       "      <td>bogota</td>\n",
       "      <td>DIRGENERALCONTRATACIONDIRECTA184DE2019</td>\n",
       "      <td>184DE2019</td>\n",
       "      <td>22980096902</td>\n",
       "      <td>E</td>\n",
       "      <td>productos de uso final</td>\n",
       "      <td>5310</td>\n",
       "      <td>ropa</td>\n",
       "      <td>531027</td>\n",
       "      <td>uniformes</td>\n",
       "      <td>9226352</td>\n",
       "      <td>nit de persona juridica</td>\n",
       "      <td>860020227</td>\n",
       "      <td>fondo rotatorio de la policia forpo</td>\n",
       "      <td>nit de persona juridica</td>\n",
       "      <td>860020227</td>\n",
       "      <td>660</td>\n",
       "      <td>690</td>\n",
       "      <td>D</td>\n",
       "      <td>1</td>\n",
       "      <td>30</td>\n",
       "      <td>22980096902</td>\n",
       "      <td>0</td>\n",
       "      <td>0</td>\n",
       "      <td>22980096902</td>\n",
       "      <td>peso colombiano</td>\n",
       "      <td>adquisicion uniformes para dotar personal cuer...</td>\n",
       "      <td>{'url': 'https://www.contratos.gov.co/consulta...</td>\n",
       "    </tr>\n",
       "    <tr>\n",
       "      <th>2</th>\n",
       "      <td>1912101443259265538</td>\n",
       "      <td>2019</td>\n",
       "      <td>12</td>\n",
       "      <td>contratacion directa ley de</td>\n",
       "      <td>celebrado</td>\n",
       "      <td>55000000</td>\n",
       "      <td>contratar diseno produccion tarjetas presentac...</td>\n",
       "      <td>prestacion de servicios</td>\n",
       "      <td>bogota</td>\n",
       "      <td>bogota</td>\n",
       "      <td>bogota</td>\n",
       "      <td>DIRGENERALCONTRATACIONDIRECTA188DE2019</td>\n",
       "      <td>188DE2019</td>\n",
       "      <td>35998452</td>\n",
       "      <td>E</td>\n",
       "      <td>productos de uso final</td>\n",
       "      <td>5510</td>\n",
       "      <td>medios impresos</td>\n",
       "      <td>551015</td>\n",
       "      <td>publicaciones impresas</td>\n",
       "      <td>9265538</td>\n",
       "      <td>nit de persona juridica</td>\n",
       "      <td>830001113</td>\n",
       "      <td>imprenta nacional de colombia</td>\n",
       "      <td>nit de persona juridica</td>\n",
       "      <td>830001113</td>\n",
       "      <td>31</td>\n",
       "      <td>71</td>\n",
       "      <td>D</td>\n",
       "      <td>1</td>\n",
       "      <td>40</td>\n",
       "      <td>35998452</td>\n",
       "      <td>0</td>\n",
       "      <td>0</td>\n",
       "      <td>35998452</td>\n",
       "      <td>peso colombiano</td>\n",
       "      <td>contratar diseno produccion tarjetas presentac...</td>\n",
       "      <td>{'url': 'https://www.contratos.gov.co/consulta...</td>\n",
       "    </tr>\n",
       "    <tr>\n",
       "      <th>3</th>\n",
       "      <td>191294985788644918</td>\n",
       "      <td>2019</td>\n",
       "      <td>12</td>\n",
       "      <td>contratacion directa ley de</td>\n",
       "      <td>liquidado</td>\n",
       "      <td>72000000</td>\n",
       "      <td>prestar servicio mantenimiento preventivo corr...</td>\n",
       "      <td>prestacion de servicios</td>\n",
       "      <td>bogota</td>\n",
       "      <td>bogota</td>\n",
       "      <td>bogota</td>\n",
       "      <td>DIRGENERALCONTRATACIONDIRECTA106DE2019</td>\n",
       "      <td>106DE2019</td>\n",
       "      <td>16767536</td>\n",
       "      <td>F</td>\n",
       "      <td>servicios</td>\n",
       "      <td>7210</td>\n",
       "      <td>servicios de mantenimiento reparaciones de con...</td>\n",
       "      <td>721015</td>\n",
       "      <td>servicios de apoyo para la construccion</td>\n",
       "      <td>8644918</td>\n",
       "      <td>nit de persona juridica</td>\n",
       "      <td>860025639</td>\n",
       "      <td>mitsubishi electric de colombia limitada</td>\n",
       "      <td>nit de persona juridica</td>\n",
       "      <td>860025639</td>\n",
       "      <td>170</td>\n",
       "      <td>170</td>\n",
       "      <td>D</td>\n",
       "      <td>0</td>\n",
       "      <td>0</td>\n",
       "      <td>16767536</td>\n",
       "      <td>0</td>\n",
       "      <td>0</td>\n",
       "      <td>16767536</td>\n",
       "      <td>peso colombiano</td>\n",
       "      <td>prestar servicio mantenimiento preventivo corr...</td>\n",
       "      <td>{'url': 'https://www.contratos.gov.co/consulta...</td>\n",
       "    </tr>\n",
       "    <tr>\n",
       "      <th>4</th>\n",
       "      <td>191988590538059861</td>\n",
       "      <td>2019</td>\n",
       "      <td>19</td>\n",
       "      <td>asociacion publico privada</td>\n",
       "      <td>celebrado</td>\n",
       "      <td>73000000</td>\n",
       "      <td>desintegracion vehiculos automotores estado in...</td>\n",
       "      <td>no encontrado en hoja proceso</td>\n",
       "      <td>bogota</td>\n",
       "      <td>bogota</td>\n",
       "      <td>bogota</td>\n",
       "      <td>CONVENIODEASOCIACIÓN231DE2018</td>\n",
       "      <td>231DE2018</td>\n",
       "      <td>0</td>\n",
       "      <td>F</td>\n",
       "      <td>servicios</td>\n",
       "      <td>7318</td>\n",
       "      <td>servicios de maquinado procesado</td>\n",
       "      <td>731810</td>\n",
       "      <td>servicios de maquinado</td>\n",
       "      <td>8059861</td>\n",
       "      <td>nit de persona juridica</td>\n",
       "      <td>806011019</td>\n",
       "      <td>recuperaciones naranjo recycling sas</td>\n",
       "      <td>cedula de ciudadania</td>\n",
       "      <td>57439563</td>\n",
       "      <td>360</td>\n",
       "      <td>360</td>\n",
       "      <td>D</td>\n",
       "      <td>0</td>\n",
       "      <td>0</td>\n",
       "      <td>0</td>\n",
       "      <td>0</td>\n",
       "      <td>0</td>\n",
       "      <td>0</td>\n",
       "      <td>peso colombiano</td>\n",
       "      <td>desintegracion vehiculos automotores estado in...</td>\n",
       "      <td>{'url': 'https://www.contratos.gov.co/consulta...</td>\n",
       "    </tr>\n",
       "  </tbody>\n",
       "</table>\n",
       "</div>"
      ],
      "text/plain": [
       "                   uid  anno_cargue_secop  id_modalidad  \\\n",
       "0   191389136418143424               2019            13   \n",
       "1  1912101041779226352               2019            12   \n",
       "2  1912101443259265538               2019            12   \n",
       "3   191294985788644918               2019            12   \n",
       "4   191988590538059861               2019            19   \n",
       "\n",
       "     modalidad_de_contratacion estado_del_proceso  id_objeto_a_contratar  \\\n",
       "0  contratacion minima cuantia          celebrado               50000000   \n",
       "1  contratacion directa ley de          celebrado               53000000   \n",
       "2  contratacion directa ley de          celebrado               55000000   \n",
       "3  contratacion directa ley de          liquidado               72000000   \n",
       "4   asociacion publico privada          celebrado               73000000   \n",
       "\n",
       "                      detalle_del_objeto_a_contratar  \\\n",
       "0  contratar servicio suministro elementos materi...   \n",
       "1  adquisicion uniformes para dotar personal cuer...   \n",
       "2  contratar diseno produccion tarjetas presentac...   \n",
       "3  prestar servicio mantenimiento preventivo corr...   \n",
       "4  desintegracion vehiculos automotores estado in...   \n",
       "\n",
       "                tipo_de_contrato municipio_de_obtencion municipios_ejecucion_  \\\n",
       "0                     suministro             facatativa            facatativa   \n",
       "1        prestacion de servicios                 bogota                bogota   \n",
       "2        prestacion de servicios                 bogota                bogota   \n",
       "3        prestacion de servicios                 bogota                bogota   \n",
       "4  no encontrado en hoja proceso                 bogota                bogota   \n",
       "\n",
       "  departamento_ejecucion                       numero_de_proceso  \\\n",
       "0           cundinamarca                    CPMMSFFAMCNo01DE2019   \n",
       "1                 bogota  DIRGENERALCONTRATACIONDIRECTA184DE2019   \n",
       "2                 bogota  DIRGENERALCONTRATACIONDIRECTA188DE2019   \n",
       "3                 bogota  DIRGENERALCONTRATACIONDIRECTA106DE2019   \n",
       "4                 bogota           CONVENIODEASOCIACIÓN231DE2018   \n",
       "\n",
       "     numero_de_contrato  cuantia_proceso id_grupo            nombre_grupo  \\\n",
       "0  CPMMSFFAMCNO01DE2019         50000000        E  productos de uso final   \n",
       "1             184DE2019      22980096902        E  productos de uso final   \n",
       "2             188DE2019         35998452        E  productos de uso final   \n",
       "3             106DE2019         16767536        F               servicios   \n",
       "4             231DE2018                0        F               servicios   \n",
       "\n",
       "  id_familia                                     nombre_familia id_clase  \\\n",
       "0       5022                    productos de cereales legumbres   502213   \n",
       "1       5310                                               ropa   531027   \n",
       "2       5510                                    medios impresos   551015   \n",
       "3       7210  servicios de mantenimiento reparaciones de con...   721015   \n",
       "4       7318                   servicios de maquinado procesado   731810   \n",
       "\n",
       "                              nombre_clase id_adjudicacion  \\\n",
       "0              harina productos de molinos         8143424   \n",
       "1                                uniformes         9226352   \n",
       "2                   publicaciones impresas         9265538   \n",
       "3  servicios de apoyo para la construccion         8644918   \n",
       "4                   servicios de maquinado         8059861   \n",
       "\n",
       "  tipo_identifi_del_contratista identificacion_del_contratista  \\\n",
       "0       nit de persona juridica                      900791326   \n",
       "1       nit de persona juridica                      860020227   \n",
       "2       nit de persona juridica                      830001113   \n",
       "3       nit de persona juridica                      860025639   \n",
       "4       nit de persona juridica                      806011019   \n",
       "\n",
       "               nom_razon_social_contratista tipo_doc_representante_legal  \\\n",
       "0                         inversiones ocazo         cedula de ciudadania   \n",
       "1       fondo rotatorio de la policia forpo      nit de persona juridica   \n",
       "2             imprenta nacional de colombia      nit de persona juridica   \n",
       "3  mitsubishi electric de colombia limitada      nit de persona juridica   \n",
       "4      recuperaciones naranjo recycling sas         cedula de ciudadania   \n",
       "\n",
       "  identific_representante_legal  plazo_de_ejec_del_contrato_  \\\n",
       "0                    1022363447                          330   \n",
       "1                     860020227                          660   \n",
       "2                     830001113                           31   \n",
       "3                     860025639                          170   \n",
       "4                      57439563                          360   \n",
       "\n",
       "   dias_ejec_final_contrato rango_de_ejec_del_contrato  prorrogado  \\\n",
       "0                       330                          D           0   \n",
       "1                       690                          D           1   \n",
       "2                        71                          D           1   \n",
       "3                       170                          D           0   \n",
       "4                       360                          D           0   \n",
       "\n",
       "   tiempo_adiciones_en_dias  cuantia_contrato  con_adicion_pptal  \\\n",
       "0                         0          50000000                  0   \n",
       "1                        30       22980096902                  0   \n",
       "2                        40          35998452                  0   \n",
       "3                         0          16767536                  0   \n",
       "4                         0                 0                  0   \n",
       "\n",
       "   valor_total_de_adiciones  valor_contrato_con_adiciones           moneda  \\\n",
       "0                         0                      50000000  peso colombiano   \n",
       "1                         0                   22980096902  peso colombiano   \n",
       "2                         0                      35998452  peso colombiano   \n",
       "3                         0                      16767536  peso colombiano   \n",
       "4                         0                             0  peso colombiano   \n",
       "\n",
       "                            objeto_del_contrato_a_la  \\\n",
       "0  contratar compra elementos materia prima para ...   \n",
       "1  adquisicion uniformes para dotar personal cuer...   \n",
       "2  contratar diseno produccion tarjetas presentac...   \n",
       "3  prestar servicio mantenimiento preventivo corr...   \n",
       "4  desintegracion vehiculos automotores estado in...   \n",
       "\n",
       "                             ruta_proceso_en_secop_i  \n",
       "0  {'url': 'https://www.contratos.gov.co/consulta...  \n",
       "1  {'url': 'https://www.contratos.gov.co/consulta...  \n",
       "2  {'url': 'https://www.contratos.gov.co/consulta...  \n",
       "3  {'url': 'https://www.contratos.gov.co/consulta...  \n",
       "4  {'url': 'https://www.contratos.gov.co/consulta...  "
      ]
     },
     "execution_count": 2,
     "metadata": {},
     "output_type": "execute_result"
    }
   ],
   "source": [
    "pd.options.display.max_columns = None\n",
    "\n",
    "query = '''\n",
    "SELECT\n",
    "    *\n",
    "FROM `Proyecto.DatosSecopI`\n",
    "ORDER BY anno_cargue_secop DESC\n",
    "'''\n",
    "bq_client = bq_conn_file(project_id=\"dsa-miad-365616\")\n",
    "secop_I = bq_client.execute_query(query=query)\n",
    "print(f\"El número de filas del dataset: {secop_I.shape[0]}\\nEl número de columnas del dataset: {secop_I.shape[1]}\")\n",
    "secop_I.head(5)"
   ]
  },
  {
   "cell_type": "code",
   "execution_count": 3,
   "id": "cca57446-0d49-41d3-8b65-19e1cb5f2c90",
   "metadata": {},
   "outputs": [
    {
     "data": {
      "text/html": [
       "<div>\n",
       "<style scoped>\n",
       "    .dataframe tbody tr th:only-of-type {\n",
       "        vertical-align: middle;\n",
       "    }\n",
       "\n",
       "    .dataframe tbody tr th {\n",
       "        vertical-align: top;\n",
       "    }\n",
       "\n",
       "    .dataframe thead th {\n",
       "        text-align: right;\n",
       "    }\n",
       "</style>\n",
       "<table border=\"1\" class=\"dataframe\">\n",
       "  <thead>\n",
       "    <tr style=\"text-align: right;\">\n",
       "      <th></th>\n",
       "      <th>detalle_del_objeto_a_contratar</th>\n",
       "      <th>prorrogado</th>\n",
       "      <th>conteo_palabras</th>\n",
       "    </tr>\n",
       "  </thead>\n",
       "  <tbody>\n",
       "    <tr>\n",
       "      <th>0</th>\n",
       "      <td>contratar servicio suministro elementos materi...</td>\n",
       "      <td>0</td>\n",
       "      <td>31</td>\n",
       "    </tr>\n",
       "    <tr>\n",
       "      <th>1</th>\n",
       "      <td>adquisicion uniformes para dotar personal cuer...</td>\n",
       "      <td>1</td>\n",
       "      <td>17</td>\n",
       "    </tr>\n",
       "    <tr>\n",
       "      <th>2</th>\n",
       "      <td>contratar diseno produccion tarjetas presentac...</td>\n",
       "      <td>1</td>\n",
       "      <td>32</td>\n",
       "    </tr>\n",
       "    <tr>\n",
       "      <th>3</th>\n",
       "      <td>prestar servicio mantenimiento preventivo corr...</td>\n",
       "      <td>0</td>\n",
       "      <td>20</td>\n",
       "    </tr>\n",
       "    <tr>\n",
       "      <th>4</th>\n",
       "      <td>desintegracion vehiculos automotores estado in...</td>\n",
       "      <td>0</td>\n",
       "      <td>11</td>\n",
       "    </tr>\n",
       "  </tbody>\n",
       "</table>\n",
       "</div>"
      ],
      "text/plain": [
       "                      detalle_del_objeto_a_contratar  prorrogado  \\\n",
       "0  contratar servicio suministro elementos materi...           0   \n",
       "1  adquisicion uniformes para dotar personal cuer...           1   \n",
       "2  contratar diseno produccion tarjetas presentac...           1   \n",
       "3  prestar servicio mantenimiento preventivo corr...           0   \n",
       "4  desintegracion vehiculos automotores estado in...           0   \n",
       "\n",
       "   conteo_palabras  \n",
       "0               31  \n",
       "1               17  \n",
       "2               32  \n",
       "3               20  \n",
       "4               11  "
      ]
     },
     "execution_count": 3,
     "metadata": {},
     "output_type": "execute_result"
    }
   ],
   "source": [
    "secopI_filter = secop_I.filter(items=['detalle_del_objeto_a_contratar','prorrogado'])\n",
    "\n",
    "# Contar las palabras en cada fila de la columna 'texto'\n",
    "secopI_filter['conteo_palabras'] = secopI_filter['detalle_del_objeto_a_contratar'].apply(lambda x: len(x.split()))\n",
    "secopI_filter.head(5)"
   ]
  },
  {
   "cell_type": "code",
   "execution_count": 4,
   "id": "23246aed-c673-465a-abe7-430688a86063",
   "metadata": {},
   "outputs": [
    {
     "name": "stdout",
     "output_type": "stream",
     "text": [
      "<class 'pandas.core.frame.DataFrame'>\n",
      "RangeIndex: 26553 entries, 0 to 26552\n",
      "Data columns (total 3 columns):\n",
      " #   Column                          Non-Null Count  Dtype \n",
      "---  ------                          --------------  ----- \n",
      " 0   detalle_del_objeto_a_contratar  26553 non-null  object\n",
      " 1   prorrogado                      26553 non-null  int64 \n",
      " 2   conteo_palabras                 26553 non-null  int64 \n",
      "dtypes: int64(2), object(1)\n",
      "memory usage: 622.5+ KB\n"
     ]
    }
   ],
   "source": [
    "secopI_filter['prorrogado']=secopI_filter['prorrogado'].astype(int)\n",
    "secopI_filter.info()"
   ]
  },
  {
   "cell_type": "markdown",
   "id": "cefba2c0-f88f-4f7a-b509-44c5e4f82f7b",
   "metadata": {},
   "source": [
    "## Información de secuencias de palabras"
   ]
  },
  {
   "cell_type": "code",
   "execution_count": 5,
   "id": "07be45a7-fbcc-4d85-841c-e6ebc585bd12",
   "metadata": {},
   "outputs": [
    {
     "name": "stdout",
     "output_type": "stream",
     "text": [
      "Maximo de palabras es: 94\n",
      "Minimo de palabras es: 1\n",
      "Promedio de palabras es 14.86058072534177\n"
     ]
    }
   ],
   "source": [
    "print('Maximo de palabras es:', secopI_filter['conteo_palabras'].max())\n",
    "print('Minimo de palabras es:', secopI_filter['conteo_palabras'].min())\n",
    "print('Promedio de palabras es', secopI_filter['conteo_palabras'].mean())"
   ]
  },
  {
   "cell_type": "markdown",
   "id": "70ce5153-f616-47f0-912e-9fc56dd6b6fe",
   "metadata": {},
   "source": [
    "## División de Train/Test"
   ]
  },
  {
   "cell_type": "code",
   "execution_count": 6,
   "id": "5be026ea-603f-406c-8cd9-d7c227230c44",
   "metadata": {},
   "outputs": [
    {
     "name": "stdout",
     "output_type": "stream",
     "text": [
      "Train set contains 21242 entries\n",
      "Test set contains 5311 entries\n"
     ]
    }
   ],
   "source": [
    "X = np.array(secopI_filter['detalle_del_objeto_a_contratar'])\n",
    "y = np.array(secopI_filter['prorrogado'])\n",
    "X_train, X_test, y_train, y_test = train_test_split(X, y, test_size=0.2, random_state=327)\n",
    "\n",
    "print('Train set contains {} entries'.format(len(X_train)))\n",
    "print(\"Test set contains {} entries\".format(len(y_test)))"
   ]
  },
  {
   "cell_type": "code",
   "execution_count": 7,
   "id": "8ec3a033-abbb-4c21-b1ce-0cdbb1a261ac",
   "metadata": {},
   "outputs": [
    {
     "data": {
      "image/png": "[encoded data removed]",
      "text/plain": [
       "<Figure size 1500x500 with 2 Axes>"
      ]
     },
     "metadata": {},
     "output_type": "display_data"
    }
   ],
   "source": [
    "sns.set_theme(style=\"darkgrid\")\n",
    "fig, (ax1, ax2) = plt.subplots(1, 2, figsize=(15, 5), sharey=True)\n",
    "fig.suptitle('Review per label distribution')\n",
    "ax1 = sns.countplot(x=y_train, ax=ax1)\n",
    "ax1.set_title('Train Set')\n",
    "ax2 = sns.countplot(x=y_test, ax=ax2)\n",
    "ax2.set_title('Test Set')\n",
    "plt.show()"
   ]
  },
  {
   "cell_type": "markdown",
   "id": "70c28020-2cdf-408c-b9d4-7eae9a77bc3c",
   "metadata": {},
   "source": [
    "Estamos trabajando con un dataset desbalanceado"
   ]
  },
  {
   "cell_type": "markdown",
   "id": "fa53215b-ddbf-42e2-a3e8-c7ad13e4184c",
   "metadata": {},
   "source": [
    "## Feature representation"
   ]
  },
  {
   "cell_type": "code",
   "execution_count": 8,
   "id": "24bc85ca-9911-4028-88b7-270190246205",
   "metadata": {},
   "outputs": [
    {
     "name": "stdout",
     "output_type": "stream",
     "text": [
      " 7031 unique tokens found\n",
      "['para', 'penitenciario', 'carcelario', 'establecimiento', 'contratar', 'seguridad', 'adquisicion', 'mediana', 'suministro', 'expendio']\n"
     ]
    }
   ],
   "source": [
    "num_words = 8000 # the numer of words to tokenize \n",
    "max_seq = 100 # maximum sequence size\n",
    "\n",
    "# fit the tokenizer on trainig texts\n",
    "tokenizer = preprocessing.text.Tokenizer(num_words=num_words)\n",
    "tokenizer.fit_on_texts(X_train)\n",
    "\n",
    "# Dictionary of words ordered in terms of their frequency \n",
    "word_index = tokenizer.word_index\n",
    "vocab_size = len(word_index) + 1\n",
    "\n",
    "print(f\" {vocab_size-1} unique tokens found\")\n",
    "print(list(word_index)[:10])"
   ]
  },
  {
   "cell_type": "markdown",
   "id": "5544e10c-13f2-468b-a4fa-9f68a4f8540d",
   "metadata": {},
   "source": [
    "## Padding"
   ]
  },
  {
   "cell_type": "code",
   "execution_count": 9,
   "id": "578c181e-593c-4a19-aaca-f5e37423ea1e",
   "metadata": {},
   "outputs": [
    {
     "name": "stdout",
     "output_type": "stream",
     "text": [
      "Original phrase:\n",
      " compra herramientas insumos demas elementos necesarios para confeccion atencion rehabilitacion recluso reclusion mujeres popayan inpec\n",
      "\n",
      "Phrase as sequence: [15, 306, 41, 361, 11, 114, 1, 795, 33, 98, 113, 50, 52, 111, 13]\n",
      "\n",
      "Padded sequence: [ 15 306  41 361  11 114   1 795  33  98 113  50  52 111  13   0   0   0\n",
      "   0   0   0   0   0   0   0   0   0   0   0   0   0   0   0   0   0   0\n",
      "   0   0   0   0   0   0   0   0   0   0   0   0   0   0   0   0   0   0\n",
      "   0   0   0   0   0   0   0   0   0   0   0   0   0   0   0   0   0   0\n",
      "   0   0   0   0   0   0   0   0   0   0   0   0   0   0   0   0   0   0\n",
      "   0   0   0   0   0   0   0   0   0   0]\n"
     ]
    }
   ],
   "source": [
    "print(\"Original phrase:\\n\", X_train[0])\n",
    "print()\n",
    "\n",
    "# Turn the phrases into their numerical equivalents \n",
    "X_train_seq = tokenizer.texts_to_sequences(X_train)\n",
    "X_test_seq = tokenizer.texts_to_sequences(X_test)\n",
    "print('Phrase as sequence:', X_train_seq[0])\n",
    "print()\n",
    "\n",
    "# Padding of our sequences \n",
    "X_train_processed = preprocessing.sequence.pad_sequences(X_train_seq, padding='post', maxlen=max_seq)\n",
    "X_test_processed = preprocessing.sequence.pad_sequences(X_test_seq, padding='post', maxlen=max_seq)\n",
    "print('Padded sequence:', X_train_processed[0])"
   ]
  },
  {
   "cell_type": "markdown",
   "id": "f35c1613-cdfb-45c7-a1ff-afc01f3d414f",
   "metadata": {},
   "source": [
    "## Using pre-trained word embeddings"
   ]
  },
  {
   "cell_type": "code",
   "execution_count": 10,
   "id": "03340a48-443d-4e35-9d42-526f36f5bf74",
   "metadata": {},
   "outputs": [
    {
     "name": "stdout",
     "output_type": "stream",
     "text": [
      "1000654 embeddings found\n"
     ]
    }
   ],
   "source": [
    "os.chdir('/Users/nataliajimenez/Downloads')\n",
    "embedding_index = {}\n",
    "with open(\"SBW-vectors-300-min5.txt\") as f:\n",
    "  for line in f:\n",
    "    word, coef = line.split(maxsplit=1)\n",
    "    coef = np.fromstring(coef, 'f', sep=' ')\n",
    "    embedding_index[word] = coef \n",
    "print('{} embeddings found'.format(len(embedding_index)))"
   ]
  },
  {
   "cell_type": "code",
   "execution_count": 11,
   "id": "b2179eac-fc3d-41e6-8b75-b09db397562a",
   "metadata": {},
   "outputs": [
    {
     "name": "stdout",
     "output_type": "stream",
     "text": [
      "5303 words encoded with an embedding from SBW-vectors\n",
      "1728 word embeddings not found\n"
     ]
    }
   ],
   "source": [
    "embedding_dim = 300\n",
    "hits = 0 \n",
    "misses = 0\n",
    "\n",
    "embedding_matrix = np.zeros((vocab_size, embedding_dim))\n",
    "for w, i in word_index.items():\n",
    "  embedding_vector = embedding_index.get(w)\n",
    "  if embedding_vector is not None:\n",
    "    hits+=1\n",
    "    embedding_matrix[i] = embedding_vector\n",
    "  else:\n",
    "    misses += 1\n",
    "\n",
    "print('{} words encoded with an embedding from SBW-vectors'.format(hits))\n",
    "print('{} word embeddings not found'.format(misses))"
   ]
  },
  {
   "cell_type": "markdown",
   "id": "f0964384-9802-470f-84e9-78068fc23f43",
   "metadata": {},
   "source": [
    "## Initializing the model - LSTM\n",
    "To adress the problem of binary classification we are going to compile a three-layer model organized as follows:\n",
    "\n",
    "Embedding layer that takes the sequences and converts their elements into corresponding word vectors from the previously generated embedding matrix\n",
    "LSTM layer\n",
    "Dense layer"
   ]
  },
  {
   "cell_type": "code",
   "execution_count": 13,
   "id": "13140316-4d73-4dec-a241-635f5b025a30",
   "metadata": {},
   "outputs": [
    {
     "name": "stdout",
     "output_type": "stream",
     "text": [
      "Model: \"sequential_1\"\n",
      "_________________________________________________________________\n",
      " Layer (type)                Output Shape              Param #   \n",
      "=================================================================\n",
      " embedding_1 (Embedding)     (None, 100, 300)          2109600   \n",
      "                                                                 \n",
      " lstm_1 (LSTM)               (None, 128)               219648    \n",
      "                                                                 \n",
      " dropout (Dropout)           (None, 128)               0         \n",
      "                                                                 \n",
      " dense_1 (Dense)             (None, 1)                 129       \n",
      "                                                                 \n",
      "=================================================================\n",
      "Total params: 2,329,377\n",
      "Trainable params: 2,329,377\n",
      "Non-trainable params: 0\n",
      "_________________________________________________________________\n"
     ]
    }
   ],
   "source": [
    "model = Sequential()\n",
    "\n",
    "model.add(\n",
    "    layers.Embedding(input_dim=vocab_size,\n",
    "                     embeddings_initializer=tf.keras.initializers.Constant(embedding_matrix),\n",
    "                     mask_zero=True,\n",
    "                     output_dim=embedding_dim,  #embedding_dim, # dimension of dense embedding. \n",
    "                     input_length=max_seq)\n",
    ")\n",
    "\n",
    "# LSTM layer\n",
    "model.add(layers.LSTM(128))\n",
    "model.add(layers.Dropout(0.5))\n",
    "# Dense output layer\n",
    "model.add(layers.Dense(units=1, activation='sigmoid'))\n",
    "\n",
    "# Model compilation \n",
    "model.compile(\n",
    "    optimizer='adam',\n",
    "    loss='binary_crossentropy',\n",
    "    metrics=['accuracy']\n",
    ")\n",
    "\n",
    "#Model recap\n",
    "model.summary()"
   ]
  },
  {
   "cell_type": "markdown",
   "id": "55e4d3cc-b9f3-47b3-a983-6f0e40b24669",
   "metadata": {},
   "source": [
    "## Training"
   ]
  },
  {
   "cell_type": "code",
   "execution_count": 14,
   "id": "5738a2b5-55cf-4037-bfd4-0a2343713158",
   "metadata": {},
   "outputs": [
    {
     "name": "stdout",
     "output_type": "stream",
     "text": [
      "Epoch 1/15\n"
     ]
    },
    {
     "name": "stderr",
     "output_type": "stream",
     "text": [
      "2023-05-06 01:12:19.774150: W tensorflow/tsl/platform/profile_utils/cpu_utils.cc:128] Failed to get CPU frequency: 0 Hz\n"
     ]
    },
    {
     "name": "stdout",
     "output_type": "stream",
     "text": [
      "166/166 [==============================] - 41s 234ms/step - loss: 0.1406 - accuracy: 0.9702\n",
      "Epoch 2/15\n",
      "166/166 [==============================] - 38s 227ms/step - loss: 0.0921 - accuracy: 0.9734\n",
      "Epoch 3/15\n",
      "166/166 [==============================] - 38s 229ms/step - loss: 0.0788 - accuracy: 0.9760\n",
      "Epoch 4/15\n",
      "166/166 [==============================] - 38s 228ms/step - loss: 0.0701 - accuracy: 0.9772\n",
      "Epoch 5/15\n",
      "166/166 [==============================] - 38s 230ms/step - loss: 0.0632 - accuracy: 0.9794\n",
      "Epoch 6/15\n",
      "166/166 [==============================] - 38s 231ms/step - loss: 0.0586 - accuracy: 0.9804\n",
      "Epoch 7/15\n",
      "166/166 [==============================] - 39s 235ms/step - loss: 0.0541 - accuracy: 0.9823\n",
      "Epoch 8/15\n",
      "166/166 [==============================] - 42s 252ms/step - loss: 0.0495 - accuracy: 0.9824\n",
      "Epoch 9/15\n",
      "166/166 [==============================] - 42s 254ms/step - loss: 0.0460 - accuracy: 0.9837\n",
      "Epoch 10/15\n",
      "166/166 [==============================] - 55s 333ms/step - loss: 0.0448 - accuracy: 0.9843\n",
      "Epoch 11/15\n",
      "166/166 [==============================] - 47s 284ms/step - loss: 0.0430 - accuracy: 0.9850\n",
      "Epoch 12/15\n",
      "166/166 [==============================] - 45s 272ms/step - loss: 0.0399 - accuracy: 0.9858\n",
      "Epoch 13/15\n",
      "166/166 [==============================] - 40s 239ms/step - loss: 0.0385 - accuracy: 0.9856\n",
      "Epoch 14/15\n",
      "166/166 [==============================] - 45s 268ms/step - loss: 0.0373 - accuracy: 0.9867\n",
      "Epoch 15/15\n",
      "166/166 [==============================] - 42s 254ms/step - loss: 0.0345 - accuracy: 0.9870\n"
     ]
    }
   ],
   "source": [
    "es = EarlyStopping('loss', patience=2 , verbose=1)\n",
    "history = model.fit(\n",
    "    x=X_train_processed,\n",
    "    y=y_train,\n",
    "    callbacks=[es],\n",
    "    epochs=15, \n",
    "    batch_size=128\n",
    ")"
   ]
  },
  {
   "cell_type": "code",
   "execution_count": 14,
   "id": "46b12bd8-c905-4e82-813f-e11225e3eb77",
   "metadata": {},
   "outputs": [
    {
     "data": {
      "image/png": "[encoded data removed]",
      "text/plain": [
       "<Figure size 640x480 with 1 Axes>"
      ]
     },
     "metadata": {},
     "output_type": "display_data"
    },
    {
     "data": {
      "image/png": "[encoded data removed]",
      "text/plain": [
       "<Figure size 640x480 with 1 Axes>"
      ]
     },
     "metadata": {},
     "output_type": "display_data"
    }
   ],
   "source": [
    "# Loss plot\n",
    "plt.plot(history.history['loss'])\n",
    "plt.title('model loss')\n",
    "plt.ylabel('loss')\n",
    "plt.xlabel('epoch')\n",
    "plt.show()\n",
    "\n",
    "# Accuracy plot\n",
    "plt.plot(history.history['accuracy'])\n",
    "plt.title('model accuracy')\n",
    "plt.ylabel('accuracy')\n",
    "plt.xlabel('epoch')\n",
    "plt.show()"
   ]
  },
  {
   "cell_type": "markdown",
   "id": "46038e37-d730-4de4-a1c4-07b963e04e70",
   "metadata": {},
   "source": [
    "## Testing and Results"
   ]
  },
  {
   "cell_type": "code",
   "execution_count": 15,
   "id": "78865733-a472-4f0b-a4c2-d3b8de623a62",
   "metadata": {},
   "outputs": [
    {
     "name": "stdout",
     "output_type": "stream",
     "text": [
      "42/42 [==============================] - 3s 66ms/step\n",
      "              precision    recall  f1-score   support\n",
      "\n",
      "           0       0.98      0.98      0.98      5176\n",
      "           1       0.23      0.24      0.24       135\n",
      "\n",
      "    accuracy                           0.96      5311\n",
      "   macro avg       0.61      0.61      0.61      5311\n",
      "weighted avg       0.96      0.96      0.96      5311\n",
      "\n",
      "Accuracy: 0.9608360007531538\n"
     ]
    }
   ],
   "source": [
    "y_pred = model.predict(x=X_test_processed, batch_size=128)\n",
    "y_pred = [0 if y < 0.2 else 1 for y in y_pred]\n",
    "\n",
    "print(classification_report(y_test, y_pred))\n",
    "print('Accuracy:', accuracy_score(y_test, y_pred))"
   ]
  },
  {
   "cell_type": "code",
   "execution_count": 16,
   "id": "bc41cc8a-90db-4722-9c78-4667151bebc4",
   "metadata": {},
   "outputs": [
    {
     "data": {
      "image/png": "[encoded data removed]",
      "text/plain": [
       "<Figure size 640x480 with 2 Axes>"
      ]
     },
     "metadata": {},
     "output_type": "display_data"
    }
   ],
   "source": [
    "cm = confusion_matrix(y_test, y_pred, normalize='true')\n",
    "sns.heatmap(cm, annot=True, cmap=\"YlGnBu\")\n",
    "plt.ylabel('Actual')\n",
    "plt.xlabel('Predicted')\n",
    "plt.title('Confusion matrix')\n",
    "plt.show()\n"
   ]
  },
  {
   "cell_type": "markdown",
   "id": "5ea42d1d-4bf9-4518-9267-3cfc0804518d",
   "metadata": {},
   "source": [
    "## Model CNN"
   ]
  },
  {
   "cell_type": "code",
   "execution_count": 83,
   "id": "5aa2c532-f18d-4a48-b7ad-c3158fb597b0",
   "metadata": {},
   "outputs": [],
   "source": [
    "model = Sequential()\n",
    "model.add(Embedding(vocab_size, embedding_dim, input_length=max_seq))\n",
    "model.add(Conv1D(128, 3, activation='relu', padding=\"same\"))\n",
    "model.add(GlobalMaxPool1D())\n",
    "model.add(Dense(64, activation='relu'))\n",
    "model.add(Dropout(0.5))\n",
    "model.add(layers.Dense(1, activation='sigmoid'))"
   ]
  },
  {
   "cell_type": "code",
   "execution_count": 84,
   "id": "03db8d47-f63a-4e29-ad8a-0b81ea3c5130",
   "metadata": {},
   "outputs": [
    {
     "name": "stdout",
     "output_type": "stream",
     "text": [
      "Model: \"sequential_6\"\n",
      "_________________________________________________________________\n",
      " Layer (type)                Output Shape              Param #   \n",
      "=================================================================\n",
      " embedding_5 (Embedding)     (None, 100, 300)          2109600   \n",
      "                                                                 \n",
      " conv1d_1 (Conv1D)           (None, 100, 256)          230656    \n",
      "                                                                 \n",
      " global_max_pooling1d_1 (Glo  (None, 256)              0         \n",
      " balMaxPooling1D)                                                \n",
      "                                                                 \n",
      " dense_6 (Dense)             (None, 128)               32896     \n",
      "                                                                 \n",
      " dropout_1 (Dropout)         (None, 128)               0         \n",
      "                                                                 \n",
      " dense_7 (Dense)             (None, 1)                 129       \n",
      "                                                                 \n",
      "=================================================================\n",
      "Total params: 2,373,281\n",
      "Trainable params: 2,373,281\n",
      "Non-trainable params: 0\n",
      "_________________________________________________________________\n"
     ]
    }
   ],
   "source": [
    "# Model compilation \n",
    "model.compile(\n",
    "    optimizer='adam',\n",
    "    loss='binary_crossentropy',\n",
    "    metrics=['accuracy']\n",
    ")\n",
    "\n",
    "#Model recap\n",
    "model.summary()"
   ]
  },
  {
   "cell_type": "code",
   "execution_count": 85,
   "id": "6be773d7-11ec-4890-95e9-676785b130d4",
   "metadata": {},
   "outputs": [
    {
     "name": "stdout",
     "output_type": "stream",
     "text": [
      "Epoch 1/10\n",
      "166/166 [==============================] - 23s 138ms/step - loss: 0.1442 - accuracy: 0.9667\n",
      "Epoch 2/10\n",
      "166/166 [==============================] - 23s 137ms/step - loss: 0.0907 - accuracy: 0.9727\n",
      "Epoch 3/10\n",
      "166/166 [==============================] - 22s 133ms/step - loss: 0.0732 - accuracy: 0.9743\n",
      "Epoch 4/10\n",
      "166/166 [==============================] - 22s 132ms/step - loss: 0.0628 - accuracy: 0.9771\n",
      "Epoch 5/10\n",
      "166/166 [==============================] - 21s 130ms/step - loss: 0.0535 - accuracy: 0.9805\n",
      "Epoch 6/10\n",
      "166/166 [==============================] - 16s 99ms/step - loss: 0.0479 - accuracy: 0.9824\n",
      "Epoch 7/10\n",
      "166/166 [==============================] - 15s 88ms/step - loss: 0.0405 - accuracy: 0.9852\n",
      "Epoch 8/10\n",
      "166/166 [==============================] - 13s 78ms/step - loss: 0.0368 - accuracy: 0.9863\n",
      "Epoch 9/10\n",
      "166/166 [==============================] - 18s 110ms/step - loss: 0.0308 - accuracy: 0.9874\n",
      "Epoch 10/10\n",
      "166/166 [==============================] - 23s 139ms/step - loss: 0.0278 - accuracy: 0.9888\n"
     ]
    }
   ],
   "source": [
    "es = EarlyStopping('loss', patience=2 , verbose=1)\n",
    "history = model.fit(\n",
    "    x=X_train_processed,\n",
    "    y=y_train,\n",
    "    callbacks=[es],\n",
    "    epochs=10, \n",
    "    batch_size=128\n",
    ")"
   ]
  },
  {
   "cell_type": "code",
   "execution_count": 86,
   "id": "33fe2510-979e-42a7-b307-fbe0df64b6a6",
   "metadata": {},
   "outputs": [
    {
     "data": {
      "image/png": "[encoded data removed]",
      "text/plain": [
       "<Figure size 640x480 with 1 Axes>"
      ]
     },
     "metadata": {},
     "output_type": "display_data"
    },
    {
     "data": {
      "image/png": "[encoded data removed]",
      "text/plain": [
       "<Figure size 640x480 with 1 Axes>"
      ]
     },
     "metadata": {},
     "output_type": "display_data"
    }
   ],
   "source": [
    "# Loss plot\n",
    "plt.plot(history.history['loss'])\n",
    "plt.title('model loss')\n",
    "plt.ylabel('loss')\n",
    "plt.xlabel('epoch')\n",
    "plt.show()\n",
    "\n",
    "# Accuracy plot\n",
    "plt.plot(history.history['accuracy'])\n",
    "plt.title('model accuracy')\n",
    "plt.ylabel('accuracy')\n",
    "plt.xlabel('epoch')\n",
    "plt.show()"
   ]
  },
  {
   "cell_type": "markdown",
   "id": "7776e7e3-bc3b-4ce8-a587-2d00c33c446a",
   "metadata": {},
   "source": [
    "## Testing and Results"
   ]
  },
  {
   "cell_type": "code",
   "execution_count": 89,
   "id": "f234880b-811b-45ad-a5a5-00919409bce6",
   "metadata": {},
   "outputs": [
    {
     "name": "stdout",
     "output_type": "stream",
     "text": [
      "42/42 [==============================] - 1s 35ms/step\n",
      "              precision    recall  f1-score   support\n",
      "\n",
      "           0       0.98      0.99      0.98      5176\n",
      "           1       0.30      0.21      0.25       135\n",
      "\n",
      "    accuracy                           0.97      5311\n",
      "   macro avg       0.64      0.60      0.62      5311\n",
      "weighted avg       0.96      0.97      0.96      5311\n",
      "\n",
      "Accuracy: 0.9678026736961024\n"
     ]
    }
   ],
   "source": [
    "y_pred = model.predict(x=X_test_processed, batch_size=128)\n",
    "y_pred = [0 if y < 0.4 else 1 for y in y_pred]\n",
    "\n",
    "print(classification_report(y_test, y_pred))\n",
    "print('Accuracy:', accuracy_score(y_test, y_pred))"
   ]
  },
  {
   "cell_type": "code",
   "execution_count": 90,
   "id": "92846ec6-7535-4611-9184-8afb72395dc3",
   "metadata": {},
   "outputs": [
    {
     "data": {
      "image/png": "[encoded data removed]",
      "text/plain": [
       "<Figure size 640x480 with 2 Axes>"
      ]
     },
     "metadata": {},
     "output_type": "display_data"
    }
   ],
   "source": [
    "cm = confusion_matrix(y_test, y_pred, normalize='true')\n",
    "sns.heatmap(cm, annot=True, cmap=\"YlGnBu\")\n",
    "plt.ylabel('Actual')\n",
    "plt.xlabel('Predicted')\n",
    "plt.title('Confusion matrix')\n",
    "plt.show()"
   ]
  },
  {
   "cell_type": "code",
   "execution_count": null,
   "id": "91def032-0d9b-4fd0-8cff-95dc33c7b9f5",
   "metadata": {},
   "outputs": [],
   "source": []
  }
 ],
 "metadata": {
  "kernelspec": {
   "display_name": "Python 3 (ipykernel)",
   "language": "python",
   "name": "python3"
  },
  "language_info": {
   "codemirror_mode": {
    "name": "ipython",
    "version": 3
   },
   "file_extension": ".py",
   "mimetype": "text/x-python",
   "name": "python",
   "nbconvert_exporter": "python",
   "pygments_lexer": "ipython3",
   "version": "3.10.10"
  }
 },
 "nbformat": 4,
 "nbformat_minor": 5
}
