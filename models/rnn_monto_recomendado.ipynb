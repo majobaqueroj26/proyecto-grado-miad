{
 "cells": [
  {
   "cell_type": "code",
   "execution_count": 1,
   "metadata": {
    "ExecuteTime": {
     "end_time": "2023-05-21T05:41:37.046904Z",
     "start_time": "2023-05-21T05:41:33.160113Z"
    }
   },
   "outputs": [],
   "source": [
    "import tensorflow as tf\n",
    "from tensorflow import keras\n",
    "from tensorflow.keras import layers\n",
    "from sklearn.preprocessing import normalize\n",
    "\n",
    "\n",
    "import os\n",
    "import pathlib\n",
    "import sys\n",
    "import matplotlib.pyplot as plt\n",
    "from scipy import linalg\n",
    "\n",
    "\n",
    "sys.path.append(os.path.join(pathlib.Path(os.getcwd()).parent))\n",
    "import pandas as pd\n",
    "import numpy as np\n",
    "import matplotlib.pyplot as plt\n",
    "from datetime import datetime\n",
    "\n",
    "from utils.bq_conn import bq_conn_file\n",
    "# %%\n",
    "bq_client = bq_conn_file(project_id=\"dsa-miad-365616\")"
   ]
  },
  {
   "cell_type": "code",
   "execution_count": 2,
   "metadata": {
    "ExecuteTime": {
     "end_time": "2023-05-21T05:41:41.214625Z",
     "start_time": "2023-05-21T05:41:37.047665Z"
    }
   },
   "outputs": [
    {
     "data": {
      "text/html": [
       "<div>\n",
       "<style scoped>\n",
       "    .dataframe tbody tr th:only-of-type {\n",
       "        vertical-align: middle;\n",
       "    }\n",
       "\n",
       "    .dataframe tbody tr th {\n",
       "        vertical-align: top;\n",
       "    }\n",
       "\n",
       "    .dataframe thead th {\n",
       "        text-align: right;\n",
       "    }\n",
       "</style>\n",
       "<table border=\"1\" class=\"dataframe\">\n",
       "  <thead>\n",
       "    <tr style=\"text-align: right;\">\n",
       "      <th></th>\n",
       "      <th>uid</th>\n",
       "      <th>anno_cargue_secop</th>\n",
       "      <th>id_modalidad</th>\n",
       "      <th>modalidad_de_contratacion</th>\n",
       "      <th>estado_del_proceso</th>\n",
       "      <th>id_objeto_a_contratar</th>\n",
       "      <th>detalle_del_objeto_a_contratar</th>\n",
       "      <th>tipo_de_contrato</th>\n",
       "      <th>municipio_de_obtencion</th>\n",
       "      <th>municipios_ejecucion_</th>\n",
       "      <th>departamento_ejecucion</th>\n",
       "      <th>numero_de_proceso</th>\n",
       "      <th>numero_de_contrato</th>\n",
       "      <th>cuantia_proceso</th>\n",
       "      <th>id_grupo</th>\n",
       "      <th>nombre_grupo</th>\n",
       "      <th>id_familia</th>\n",
       "      <th>nombre_familia</th>\n",
       "      <th>id_clase</th>\n",
       "      <th>nombre_clase</th>\n",
       "      <th>id_adjudicacion</th>\n",
       "      <th>tipo_identifi_del_contratista</th>\n",
       "      <th>identificacion_del_contratista</th>\n",
       "      <th>nom_razon_social_contratista</th>\n",
       "      <th>tipo_doc_representante_legal</th>\n",
       "      <th>identific_representante_legal</th>\n",
       "      <th>plazo_de_ejec_del_contrato_</th>\n",
       "      <th>dias_ejec_final_contrato</th>\n",
       "      <th>rango_de_ejec_del_contrato</th>\n",
       "      <th>prorrogado</th>\n",
       "      <th>tiempo_adiciones_en_dias</th>\n",
       "      <th>cuantia_contrato</th>\n",
       "      <th>con_adicion_pptal</th>\n",
       "      <th>valor_total_de_adiciones</th>\n",
       "      <th>valor_contrato_con_adiciones</th>\n",
       "      <th>moneda</th>\n",
       "      <th>objeto_del_contrato_a_la</th>\n",
       "      <th>ruta_proceso_en_secop_i</th>\n",
       "    </tr>\n",
       "  </thead>\n",
       "  <tbody>\n",
       "    <tr>\n",
       "      <th>0</th>\n",
       "      <td>191389136418143424</td>\n",
       "      <td>2019</td>\n",
       "      <td>13</td>\n",
       "      <td>contratacion minima cuantia</td>\n",
       "      <td>celebrado</td>\n",
       "      <td>50000000</td>\n",
       "      <td>contratar servicio suministro elementos materi...</td>\n",
       "      <td>suministro</td>\n",
       "      <td>facatativa</td>\n",
       "      <td>facatativa</td>\n",
       "      <td>cundinamarca</td>\n",
       "      <td>CPMMSFFAMCNo01DE2019</td>\n",
       "      <td>CPMMSFFAMCNO01DE2019</td>\n",
       "      <td>50000000</td>\n",
       "      <td>E</td>\n",
       "      <td>productos de uso final</td>\n",
       "      <td>5022</td>\n",
       "      <td>productos de cereales legumbres</td>\n",
       "      <td>502213</td>\n",
       "      <td>harina productos de molinos</td>\n",
       "      <td>8143424</td>\n",
       "      <td>nit de persona juridica</td>\n",
       "      <td>900791326</td>\n",
       "      <td>inversiones ocazo</td>\n",
       "      <td>cedula de ciudadania</td>\n",
       "      <td>1022363447</td>\n",
       "      <td>330</td>\n",
       "      <td>330</td>\n",
       "      <td>D</td>\n",
       "      <td>0</td>\n",
       "      <td>0</td>\n",
       "      <td>50000000</td>\n",
       "      <td>0</td>\n",
       "      <td>0</td>\n",
       "      <td>50000000</td>\n",
       "      <td>peso colombiano</td>\n",
       "      <td>contratar compra elementos materia prima para ...</td>\n",
       "      <td>{'url': 'https://www.contratos.gov.co/consulta...</td>\n",
       "    </tr>\n",
       "    <tr>\n",
       "      <th>1</th>\n",
       "      <td>1912101041779226352</td>\n",
       "      <td>2019</td>\n",
       "      <td>12</td>\n",
       "      <td>contratacion directa ley de</td>\n",
       "      <td>celebrado</td>\n",
       "      <td>53000000</td>\n",
       "      <td>adquisicion uniformes para dotar personal cuer...</td>\n",
       "      <td>prestacion de servicios</td>\n",
       "      <td>bogota</td>\n",
       "      <td>bogota</td>\n",
       "      <td>bogota</td>\n",
       "      <td>DIRGENERALCONTRATACIONDIRECTA184DE2019</td>\n",
       "      <td>184DE2019</td>\n",
       "      <td>22980096902</td>\n",
       "      <td>E</td>\n",
       "      <td>productos de uso final</td>\n",
       "      <td>5310</td>\n",
       "      <td>ropa</td>\n",
       "      <td>531027</td>\n",
       "      <td>uniformes</td>\n",
       "      <td>9226352</td>\n",
       "      <td>nit de persona juridica</td>\n",
       "      <td>860020227</td>\n",
       "      <td>fondo rotatorio de la policia forpo</td>\n",
       "      <td>nit de persona juridica</td>\n",
       "      <td>860020227</td>\n",
       "      <td>660</td>\n",
       "      <td>690</td>\n",
       "      <td>D</td>\n",
       "      <td>1</td>\n",
       "      <td>30</td>\n",
       "      <td>22980096902</td>\n",
       "      <td>0</td>\n",
       "      <td>0</td>\n",
       "      <td>22980096902</td>\n",
       "      <td>peso colombiano</td>\n",
       "      <td>adquisicion uniformes para dotar personal cuer...</td>\n",
       "      <td>{'url': 'https://www.contratos.gov.co/consulta...</td>\n",
       "    </tr>\n",
       "    <tr>\n",
       "      <th>2</th>\n",
       "      <td>1912101443259265538</td>\n",
       "      <td>2019</td>\n",
       "      <td>12</td>\n",
       "      <td>contratacion directa ley de</td>\n",
       "      <td>celebrado</td>\n",
       "      <td>55000000</td>\n",
       "      <td>contratar diseno produccion tarjetas presentac...</td>\n",
       "      <td>prestacion de servicios</td>\n",
       "      <td>bogota</td>\n",
       "      <td>bogota</td>\n",
       "      <td>bogota</td>\n",
       "      <td>DIRGENERALCONTRATACIONDIRECTA188DE2019</td>\n",
       "      <td>188DE2019</td>\n",
       "      <td>35998452</td>\n",
       "      <td>E</td>\n",
       "      <td>productos de uso final</td>\n",
       "      <td>5510</td>\n",
       "      <td>medios impresos</td>\n",
       "      <td>551015</td>\n",
       "      <td>publicaciones impresas</td>\n",
       "      <td>9265538</td>\n",
       "      <td>nit de persona juridica</td>\n",
       "      <td>830001113</td>\n",
       "      <td>imprenta nacional de colombia</td>\n",
       "      <td>nit de persona juridica</td>\n",
       "      <td>830001113</td>\n",
       "      <td>31</td>\n",
       "      <td>71</td>\n",
       "      <td>D</td>\n",
       "      <td>1</td>\n",
       "      <td>40</td>\n",
       "      <td>35998452</td>\n",
       "      <td>0</td>\n",
       "      <td>0</td>\n",
       "      <td>35998452</td>\n",
       "      <td>peso colombiano</td>\n",
       "      <td>contratar diseno produccion tarjetas presentac...</td>\n",
       "      <td>{'url': 'https://www.contratos.gov.co/consulta...</td>\n",
       "    </tr>\n",
       "    <tr>\n",
       "      <th>3</th>\n",
       "      <td>191294985788644918</td>\n",
       "      <td>2019</td>\n",
       "      <td>12</td>\n",
       "      <td>contratacion directa ley de</td>\n",
       "      <td>liquidado</td>\n",
       "      <td>72000000</td>\n",
       "      <td>prestar servicio mantenimiento preventivo corr...</td>\n",
       "      <td>prestacion de servicios</td>\n",
       "      <td>bogota</td>\n",
       "      <td>bogota</td>\n",
       "      <td>bogota</td>\n",
       "      <td>DIRGENERALCONTRATACIONDIRECTA106DE2019</td>\n",
       "      <td>106DE2019</td>\n",
       "      <td>16767536</td>\n",
       "      <td>F</td>\n",
       "      <td>servicios</td>\n",
       "      <td>7210</td>\n",
       "      <td>servicios de mantenimiento reparaciones de con...</td>\n",
       "      <td>721015</td>\n",
       "      <td>servicios de apoyo para la construccion</td>\n",
       "      <td>8644918</td>\n",
       "      <td>nit de persona juridica</td>\n",
       "      <td>860025639</td>\n",
       "      <td>mitsubishi electric de colombia limitada</td>\n",
       "      <td>nit de persona juridica</td>\n",
       "      <td>860025639</td>\n",
       "      <td>170</td>\n",
       "      <td>170</td>\n",
       "      <td>D</td>\n",
       "      <td>0</td>\n",
       "      <td>0</td>\n",
       "      <td>16767536</td>\n",
       "      <td>0</td>\n",
       "      <td>0</td>\n",
       "      <td>16767536</td>\n",
       "      <td>peso colombiano</td>\n",
       "      <td>prestar servicio mantenimiento preventivo corr...</td>\n",
       "      <td>{'url': 'https://www.contratos.gov.co/consulta...</td>\n",
       "    </tr>\n",
       "    <tr>\n",
       "      <th>4</th>\n",
       "      <td>191988590538059861</td>\n",
       "      <td>2019</td>\n",
       "      <td>19</td>\n",
       "      <td>asociacion publico privada</td>\n",
       "      <td>celebrado</td>\n",
       "      <td>73000000</td>\n",
       "      <td>desintegracion vehiculos automotores estado in...</td>\n",
       "      <td>no encontrado en hoja proceso</td>\n",
       "      <td>bogota</td>\n",
       "      <td>bogota</td>\n",
       "      <td>bogota</td>\n",
       "      <td>CONVENIODEASOCIACIÓN231DE2018</td>\n",
       "      <td>231DE2018</td>\n",
       "      <td>0</td>\n",
       "      <td>F</td>\n",
       "      <td>servicios</td>\n",
       "      <td>7318</td>\n",
       "      <td>servicios de maquinado procesado</td>\n",
       "      <td>731810</td>\n",
       "      <td>servicios de maquinado</td>\n",
       "      <td>8059861</td>\n",
       "      <td>nit de persona juridica</td>\n",
       "      <td>806011019</td>\n",
       "      <td>recuperaciones naranjo recycling sas</td>\n",
       "      <td>cedula de ciudadania</td>\n",
       "      <td>57439563</td>\n",
       "      <td>360</td>\n",
       "      <td>360</td>\n",
       "      <td>D</td>\n",
       "      <td>0</td>\n",
       "      <td>0</td>\n",
       "      <td>0</td>\n",
       "      <td>0</td>\n",
       "      <td>0</td>\n",
       "      <td>0</td>\n",
       "      <td>peso colombiano</td>\n",
       "      <td>desintegracion vehiculos automotores estado in...</td>\n",
       "      <td>{'url': 'https://www.contratos.gov.co/consulta...</td>\n",
       "    </tr>\n",
       "  </tbody>\n",
       "</table>\n",
       "</div>"
      ],
      "text/plain": [
       "                   uid  anno_cargue_secop  id_modalidad  \\\n",
       "0   191389136418143424               2019            13   \n",
       "1  1912101041779226352               2019            12   \n",
       "2  1912101443259265538               2019            12   \n",
       "3   191294985788644918               2019            12   \n",
       "4   191988590538059861               2019            19   \n",
       "\n",
       "     modalidad_de_contratacion estado_del_proceso  id_objeto_a_contratar  \\\n",
       "0  contratacion minima cuantia          celebrado               50000000   \n",
       "1  contratacion directa ley de          celebrado               53000000   \n",
       "2  contratacion directa ley de          celebrado               55000000   \n",
       "3  contratacion directa ley de          liquidado               72000000   \n",
       "4   asociacion publico privada          celebrado               73000000   \n",
       "\n",
       "                      detalle_del_objeto_a_contratar  \\\n",
       "0  contratar servicio suministro elementos materi...   \n",
       "1  adquisicion uniformes para dotar personal cuer...   \n",
       "2  contratar diseno produccion tarjetas presentac...   \n",
       "3  prestar servicio mantenimiento preventivo corr...   \n",
       "4  desintegracion vehiculos automotores estado in...   \n",
       "\n",
       "                tipo_de_contrato municipio_de_obtencion municipios_ejecucion_  \\\n",
       "0                     suministro             facatativa            facatativa   \n",
       "1        prestacion de servicios                 bogota                bogota   \n",
       "2        prestacion de servicios                 bogota                bogota   \n",
       "3        prestacion de servicios                 bogota                bogota   \n",
       "4  no encontrado en hoja proceso                 bogota                bogota   \n",
       "\n",
       "  departamento_ejecucion                       numero_de_proceso  \\\n",
       "0           cundinamarca                    CPMMSFFAMCNo01DE2019   \n",
       "1                 bogota  DIRGENERALCONTRATACIONDIRECTA184DE2019   \n",
       "2                 bogota  DIRGENERALCONTRATACIONDIRECTA188DE2019   \n",
       "3                 bogota  DIRGENERALCONTRATACIONDIRECTA106DE2019   \n",
       "4                 bogota           CONVENIODEASOCIACIÓN231DE2018   \n",
       "\n",
       "     numero_de_contrato  cuantia_proceso id_grupo            nombre_grupo  \\\n",
       "0  CPMMSFFAMCNO01DE2019         50000000        E  productos de uso final   \n",
       "1             184DE2019      22980096902        E  productos de uso final   \n",
       "2             188DE2019         35998452        E  productos de uso final   \n",
       "3             106DE2019         16767536        F               servicios   \n",
       "4             231DE2018                0        F               servicios   \n",
       "\n",
       "  id_familia                                     nombre_familia id_clase  \\\n",
       "0       5022                    productos de cereales legumbres   502213   \n",
       "1       5310                                               ropa   531027   \n",
       "2       5510                                    medios impresos   551015   \n",
       "3       7210  servicios de mantenimiento reparaciones de con...   721015   \n",
       "4       7318                   servicios de maquinado procesado   731810   \n",
       "\n",
       "                              nombre_clase id_adjudicacion  \\\n",
       "0              harina productos de molinos         8143424   \n",
       "1                                uniformes         9226352   \n",
       "2                   publicaciones impresas         9265538   \n",
       "3  servicios de apoyo para la construccion         8644918   \n",
       "4                   servicios de maquinado         8059861   \n",
       "\n",
       "  tipo_identifi_del_contratista identificacion_del_contratista  \\\n",
       "0       nit de persona juridica                      900791326   \n",
       "1       nit de persona juridica                      860020227   \n",
       "2       nit de persona juridica                      830001113   \n",
       "3       nit de persona juridica                      860025639   \n",
       "4       nit de persona juridica                      806011019   \n",
       "\n",
       "               nom_razon_social_contratista tipo_doc_representante_legal  \\\n",
       "0                         inversiones ocazo         cedula de ciudadania   \n",
       "1       fondo rotatorio de la policia forpo      nit de persona juridica   \n",
       "2             imprenta nacional de colombia      nit de persona juridica   \n",
       "3  mitsubishi electric de colombia limitada      nit de persona juridica   \n",
       "4      recuperaciones naranjo recycling sas         cedula de ciudadania   \n",
       "\n",
       "  identific_representante_legal  plazo_de_ejec_del_contrato_  \\\n",
       "0                    1022363447                          330   \n",
       "1                     860020227                          660   \n",
       "2                     830001113                           31   \n",
       "3                     860025639                          170   \n",
       "4                      57439563                          360   \n",
       "\n",
       "   dias_ejec_final_contrato rango_de_ejec_del_contrato  prorrogado  \\\n",
       "0                       330                          D           0   \n",
       "1                       690                          D           1   \n",
       "2                        71                          D           1   \n",
       "3                       170                          D           0   \n",
       "4                       360                          D           0   \n",
       "\n",
       "   tiempo_adiciones_en_dias  cuantia_contrato  con_adicion_pptal  \\\n",
       "0                         0          50000000                  0   \n",
       "1                        30       22980096902                  0   \n",
       "2                        40          35998452                  0   \n",
       "3                         0          16767536                  0   \n",
       "4                         0                 0                  0   \n",
       "\n",
       "   valor_total_de_adiciones  valor_contrato_con_adiciones           moneda  \\\n",
       "0                         0                      50000000  peso colombiano   \n",
       "1                         0                   22980096902  peso colombiano   \n",
       "2                         0                      35998452  peso colombiano   \n",
       "3                         0                      16767536  peso colombiano   \n",
       "4                         0                             0  peso colombiano   \n",
       "\n",
       "                            objeto_del_contrato_a_la  \\\n",
       "0  contratar compra elementos materia prima para ...   \n",
       "1  adquisicion uniformes para dotar personal cuer...   \n",
       "2  contratar diseno produccion tarjetas presentac...   \n",
       "3  prestar servicio mantenimiento preventivo corr...   \n",
       "4  desintegracion vehiculos automotores estado in...   \n",
       "\n",
       "                             ruta_proceso_en_secop_i  \n",
       "0  {'url': 'https://www.contratos.gov.co/consulta...  \n",
       "1  {'url': 'https://www.contratos.gov.co/consulta...  \n",
       "2  {'url': 'https://www.contratos.gov.co/consulta...  \n",
       "3  {'url': 'https://www.contratos.gov.co/consulta...  \n",
       "4  {'url': 'https://www.contratos.gov.co/consulta...  "
      ]
     },
     "execution_count": 2,
     "metadata": {},
     "output_type": "execute_result"
    }
   ],
   "source": [
    "pd.options.display.max_columns = None\n",
    "\n",
    "query = '''\n",
    "SELECT\n",
    "    *\n",
    "FROM `Proyecto.DatosSecopI`\n",
    "ORDER BY anno_cargue_secop DESC\n",
    "'''\n",
    "bq_client = bq_conn_file(project_id=\"dsa-miad-365616\")\n",
    "secop_I = bq_client.execute_query(query=query)\n",
    "#print(f\"El número de filas del dataset: {secop_I.shape[0]}\\nEl número de columnas del dataset: {secop_I.shape[1]}\")\n",
    "secop_I.head(5)"
   ]
  },
  {
   "cell_type": "code",
   "execution_count": 3,
   "metadata": {
    "ExecuteTime": {
     "end_time": "2023-05-21T14:36:22.472061Z",
     "start_time": "2023-05-21T14:36:22.400168Z"
    }
   },
   "outputs": [
    {
     "data": {
      "text/html": [
       "<div>\n",
       "<style scoped>\n",
       "    .dataframe tbody tr th:only-of-type {\n",
       "        vertical-align: middle;\n",
       "    }\n",
       "\n",
       "    .dataframe tbody tr th {\n",
       "        vertical-align: top;\n",
       "    }\n",
       "\n",
       "    .dataframe thead th {\n",
       "        text-align: right;\n",
       "    }\n",
       "</style>\n",
       "<table border=\"1\" class=\"dataframe\">\n",
       "  <thead>\n",
       "    <tr style=\"text-align: right;\">\n",
       "      <th></th>\n",
       "      <th>tipo_de_contrato</th>\n",
       "      <th>id_grupo</th>\n",
       "      <th>cuantia_proceso</th>\n",
       "      <th>departamento_ejecucion</th>\n",
       "      <th>plazo_de_ejec_del_contrato_</th>\n",
       "      <th>id_objeto_a_contratar</th>\n",
       "      <th>valor_total_de_adiciones</th>\n",
       "    </tr>\n",
       "  </thead>\n",
       "  <tbody>\n",
       "    <tr>\n",
       "      <th>0</th>\n",
       "      <td>suministro</td>\n",
       "      <td>E</td>\n",
       "      <td>50000000</td>\n",
       "      <td>cundinamarca</td>\n",
       "      <td>330</td>\n",
       "      <td>50000000</td>\n",
       "      <td>0</td>\n",
       "    </tr>\n",
       "    <tr>\n",
       "      <th>1</th>\n",
       "      <td>prestacion de servicios</td>\n",
       "      <td>E</td>\n",
       "      <td>22980096902</td>\n",
       "      <td>bogota</td>\n",
       "      <td>660</td>\n",
       "      <td>53000000</td>\n",
       "      <td>0</td>\n",
       "    </tr>\n",
       "    <tr>\n",
       "      <th>2</th>\n",
       "      <td>prestacion de servicios</td>\n",
       "      <td>E</td>\n",
       "      <td>35998452</td>\n",
       "      <td>bogota</td>\n",
       "      <td>31</td>\n",
       "      <td>55000000</td>\n",
       "      <td>0</td>\n",
       "    </tr>\n",
       "    <tr>\n",
       "      <th>3</th>\n",
       "      <td>prestacion de servicios</td>\n",
       "      <td>F</td>\n",
       "      <td>16767536</td>\n",
       "      <td>bogota</td>\n",
       "      <td>170</td>\n",
       "      <td>72000000</td>\n",
       "      <td>0</td>\n",
       "    </tr>\n",
       "    <tr>\n",
       "      <th>4</th>\n",
       "      <td>no encontrado en hoja proceso</td>\n",
       "      <td>F</td>\n",
       "      <td>0</td>\n",
       "      <td>bogota</td>\n",
       "      <td>360</td>\n",
       "      <td>73000000</td>\n",
       "      <td>0</td>\n",
       "    </tr>\n",
       "  </tbody>\n",
       "</table>\n",
       "</div>"
      ],
      "text/plain": [
       "                tipo_de_contrato id_grupo  cuantia_proceso  \\\n",
       "0                     suministro        E         50000000   \n",
       "1        prestacion de servicios        E      22980096902   \n",
       "2        prestacion de servicios        E         35998452   \n",
       "3        prestacion de servicios        F         16767536   \n",
       "4  no encontrado en hoja proceso        F                0   \n",
       "\n",
       "  departamento_ejecucion  plazo_de_ejec_del_contrato_  id_objeto_a_contratar  \\\n",
       "0           cundinamarca                          330               50000000   \n",
       "1                 bogota                          660               53000000   \n",
       "2                 bogota                           31               55000000   \n",
       "3                 bogota                          170               72000000   \n",
       "4                 bogota                          360               73000000   \n",
       "\n",
       "   valor_total_de_adiciones  \n",
       "0                         0  \n",
       "1                         0  \n",
       "2                         0  \n",
       "3                         0  \n",
       "4                         0  "
      ]
     },
     "execution_count": 3,
     "metadata": {},
     "output_type": "execute_result"
    }
   ],
   "source": [
    "secopI_filter = secop_I.filter(items=['tipo_de_contrato', \n",
    "                'id_grupo', \n",
    "                'cuantia_proceso',\n",
    "                'departamento_ejecucion',\n",
    "                'plazo_de_ejec_del_contrato_',\n",
    "                'id_objeto_a_contratar',\n",
    "                'valor_total_de_adiciones',\n",
    "                                      ])\n",
    "secopI_filter.head(5)\n"
   ]
  },
  {
   "cell_type": "code",
   "execution_count": 4,
   "metadata": {
    "ExecuteTime": {
     "end_time": "2023-05-21T14:36:52.175439Z",
     "start_time": "2023-05-21T14:36:52.164224Z"
    }
   },
   "outputs": [],
   "source": [
    "secopI_filter['tipo_de_contrato'] = secopI_filter['tipo_de_contrato'].astype('category')\n",
    "secopI_filter['departamento_ejecucion'] = secopI_filter['departamento_ejecucion'].astype('category')\n",
    "secopI_filter['id_objeto_a_contratar'] = secopI_filter['id_objeto_a_contratar'].astype('category')\n",
    "secopI_filter['cuantia_proceso'] = secopI_filter['cuantia_proceso'].astype('int')\n",
    "secopI_filter['plazo_de_ejec_del_contrato_'] = secopI_filter['plazo_de_ejec_del_contrato_'].astype('int')"
   ]
  },
  {
   "cell_type": "code",
   "execution_count": 5,
   "metadata": {
    "ExecuteTime": {
     "end_time": "2023-05-21T14:36:54.414210Z",
     "start_time": "2023-05-21T14:36:54.352526Z"
    }
   },
   "outputs": [
    {
     "name": "stdout",
     "output_type": "stream",
     "text": [
      "<class 'pandas.core.frame.DataFrame'>\n",
      "RangeIndex: 26553 entries, 0 to 26552\n",
      "Data columns (total 7 columns):\n",
      " #   Column                       Non-Null Count  Dtype   \n",
      "---  ------                       --------------  -----   \n",
      " 0   tipo_de_contrato             26553 non-null  category\n",
      " 1   id_grupo                     26553 non-null  object  \n",
      " 2   cuantia_proceso              26553 non-null  int64   \n",
      " 3   departamento_ejecucion       26553 non-null  category\n",
      " 4   plazo_de_ejec_del_contrato_  26553 non-null  int64   \n",
      " 5   id_objeto_a_contratar        26553 non-null  category\n",
      " 6   valor_total_de_adiciones     26553 non-null  Int64   \n",
      "dtypes: Int64(1), category(3), int64(2), object(1)\n",
      "memory usage: 937.8+ KB\n"
     ]
    }
   ],
   "source": [
    "secopI_filter.info()"
   ]
  },
  {
   "cell_type": "code",
   "execution_count": 6,
   "metadata": {},
   "outputs": [],
   "source": [
    "train_dataset = secopI_filter.sample(frac=0.95,random_state=0)\n",
    "test_dataset = secopI_filter.drop(train_dataset.index)\n",
    "\n",
    "# Xtrain\n",
    "train_X = train_dataset.drop(['valor_total_de_adiciones'], axis=1)\n",
    "test_X = test_dataset.drop(['valor_total_de_adiciones'], axis=1)\n",
    "# Ytrain\n",
    "train_labels = train_dataset.pop('valor_total_de_adiciones')\n",
    "test_labels = test_dataset.pop('valor_total_de_adiciones')"
   ]
  },
  {
   "cell_type": "code",
   "execution_count": 11,
   "metadata": {},
   "outputs": [],
   "source": [
    "from sklearn.pipeline import Pipeline\n",
    "from sklearn.compose import ColumnTransformer\n",
    "from sklearn.impute import SimpleImputer\n",
    "from sklearn.preprocessing import OneHotEncoder\n",
    "from sklearn.preprocessing import StandardScaler\n",
    "\n",
    "numeric_cols = train_dataset.select_dtypes(include=['float64', 'int']).columns.to_list()\n",
    "cat_cols = train_dataset.select_dtypes(include=['object', 'category']).columns.to_list()\n",
    "\n",
    "# Transformaciones para las variables numéricas\n",
    "numeric_transformer = Pipeline(\n",
    "                        steps=[\n",
    "                            ('imputer', SimpleImputer(strategy='median')),\n",
    "                            ('scaler', StandardScaler())\n",
    "                        ]\n",
    "                      )\n",
    "\n",
    "\n",
    "# Transformaciones para las variables categóricas\n",
    "categorical_transformer = Pipeline(\n",
    "                            steps=[\n",
    "                                ('imputer', SimpleImputer(strategy='most_frequent')),\n",
    "                                ('onehot', OneHotEncoder(handle_unknown='ignore', sparse_output=False))\n",
    "                            ]\n",
    "                          )\n",
    "\n",
    "preprocessor = ColumnTransformer(\n",
    "                    transformers=[\n",
    "                        ('numeric', numeric_transformer, numeric_cols),\n",
    "                        ('cat', categorical_transformer, cat_cols)\n",
    "                    ],\n",
    "                    remainder='passthrough',\n",
    "                    verbose_feature_names_out = False\n",
    "               ).set_output(transform=\"pandas\")\n",
    "\n",
    "data_prep = preprocessor.fit_transform(train_dataset)\n",
    "data_test = preprocessor.transform(test_dataset)"
   ]
  },
  {
   "cell_type": "code",
   "execution_count": 12,
   "metadata": {},
   "outputs": [],
   "source": [
    "from pickle import dump\n",
    "# save the scaler\n",
    "dump(preprocessor, open('/Users/nataliajimenez/Documents/Master_IA/proyecto-grado-miad/app_tool/utils/preprocessor_keras.pkl', 'wb'))"
   ]
  },
  {
   "cell_type": "code",
   "execution_count": 13,
   "metadata": {
    "ExecuteTime": {
     "end_time": "2023-05-21T14:37:12.023286Z",
     "start_time": "2023-05-21T14:37:12.019289Z"
    }
   },
   "outputs": [],
   "source": [
    "def build_model ():\n",
    "  model = keras.Sequential([\n",
    "    layers.Dense(6, activation='relu', input_shape=[len(data_prep.keys())]),\n",
    "    layers.Dense(3, activation='relu'),\n",
    "    layers.Dense(1)\n",
    "  ])\n",
    "  optimizer = tf.keras.optimizers.RMSprop(0.001)\n",
    "\n",
    "  model.compile(loss='mse',\n",
    "                optimizer=optimizer,\n",
    "                metrics=['mae', 'mse'])\n",
    "  return model"
   ]
  },
  {
   "cell_type": "code",
   "execution_count": 14,
   "metadata": {
    "ExecuteTime": {
     "end_time": "2023-05-21T14:37:12.672524Z",
     "start_time": "2023-05-21T14:37:12.608975Z"
    }
   },
   "outputs": [
    {
     "name": "stderr",
     "output_type": "stream",
     "text": [
      "WARNING:absl:At this time, the v2.11+ optimizer `tf.keras.optimizers.RMSprop` runs slowly on M1/M2 Macs, please use the legacy Keras optimizer instead, located at `tf.keras.optimizers.legacy.RMSprop`.\n",
      "WARNING:absl:There is a known slowdown when using v2.11+ Keras optimizers on M1/M2 Macs. Falling back to the legacy Keras optimizer, i.e., `tf.keras.optimizers.legacy.RMSprop`.\n"
     ]
    }
   ],
   "source": [
    "model = build_model()"
   ]
  },
  {
   "cell_type": "code",
   "execution_count": 15,
   "metadata": {
    "ExecuteTime": {
     "end_time": "2023-05-21T14:37:13.192941Z",
     "start_time": "2023-05-21T14:37:13.148229Z"
    }
   },
   "outputs": [
    {
     "name": "stdout",
     "output_type": "stream",
     "text": [
      "Model: \"sequential\"\n",
      "_________________________________________________________________\n",
      " Layer (type)                Output Shape              Param #   \n",
      "=================================================================\n",
      " dense (Dense)               (None, 6)                 642       \n",
      "                                                                 \n",
      " dense_1 (Dense)             (None, 3)                 21        \n",
      "                                                                 \n",
      " dense_2 (Dense)             (None, 1)                 4         \n",
      "                                                                 \n",
      "=================================================================\n",
      "Total params: 667\n",
      "Trainable params: 667\n",
      "Non-trainable params: 0\n",
      "_________________________________________________________________\n"
     ]
    }
   ],
   "source": [
    "model.summary()"
   ]
  },
  {
   "cell_type": "code",
   "execution_count": 16,
   "metadata": {
    "ExecuteTime": {
     "end_time": "2023-05-21T14:37:13.798605Z",
     "start_time": "2023-05-21T14:37:13.781174Z"
    }
   },
   "outputs": [],
   "source": [
    "train_data = np.asarray(data_prep).astype(np.float32)\n",
    "test_data = np.asarray(data_test).astype(np.float32)"
   ]
  },
  {
   "cell_type": "code",
   "execution_count": 17,
   "metadata": {
    "ExecuteTime": {
     "end_time": "2023-05-21T14:37:14.668896Z",
     "start_time": "2023-05-21T14:37:14.173571Z"
    }
   },
   "outputs": [],
   "source": [
    "from tensorflow.keras.callbacks import ModelCheckpoint, EarlyStopping\n",
    "\n",
    "model_folder = \"/Users/nataliajimenez/Documents/Master_IA/proyecto-grado-miad/app_tool/models/keras_model_monto\"\n",
    "mc = ModelCheckpoint(model_folder, monitor='val_loss', verbose=0, save_best_only=True)"
   ]
  },
  {
   "cell_type": "code",
   "execution_count": 18,
   "metadata": {
    "ExecuteTime": {
     "end_time": "2023-05-21T14:38:15.881971Z",
     "start_time": "2023-05-21T14:37:14.655511Z"
    }
   },
   "outputs": [
    {
     "name": "stderr",
     "output_type": "stream",
     "text": [
      "2023-05-23 08:46:43.695052: W tensorflow/tsl/platform/profile_utils/cpu_utils.cc:128] Failed to get CPU frequency: 0 Hz\n"
     ]
    },
    {
     "name": "stdout",
     "output_type": "stream",
     "text": [
      "\n",
      ".INFO:tensorflow:Assets written to: /Users/nataliajimenez/Documents/Master_IA/proyecto-grado-miad/app_tool/models/keras_model_monto/assets\n"
     ]
    },
    {
     "name": "stderr",
     "output_type": "stream",
     "text": [
      "INFO:tensorflow:Assets written to: /Users/nataliajimenez/Documents/Master_IA/proyecto-grado-miad/app_tool/models/keras_model_monto/assets\n"
     ]
    },
    {
     "name": "stdout",
     "output_type": "stream",
     "text": [
      ".INFO:tensorflow:Assets written to: /Users/nataliajimenez/Documents/Master_IA/proyecto-grado-miad/app_tool/models/keras_model_monto/assets\n"
     ]
    },
    {
     "name": "stderr",
     "output_type": "stream",
     "text": [
      "INFO:tensorflow:Assets written to: /Users/nataliajimenez/Documents/Master_IA/proyecto-grado-miad/app_tool/models/keras_model_monto/assets\n"
     ]
    },
    {
     "name": "stdout",
     "output_type": "stream",
     "text": [
      ".INFO:tensorflow:Assets written to: /Users/nataliajimenez/Documents/Master_IA/proyecto-grado-miad/app_tool/models/keras_model_monto/assets\n"
     ]
    },
    {
     "name": "stderr",
     "output_type": "stream",
     "text": [
      "INFO:tensorflow:Assets written to: /Users/nataliajimenez/Documents/Master_IA/proyecto-grado-miad/app_tool/models/keras_model_monto/assets\n"
     ]
    },
    {
     "name": "stdout",
     "output_type": "stream",
     "text": [
      ".INFO:tensorflow:Assets written to: /Users/nataliajimenez/Documents/Master_IA/proyecto-grado-miad/app_tool/models/keras_model_monto/assets\n"
     ]
    },
    {
     "name": "stderr",
     "output_type": "stream",
     "text": [
      "INFO:tensorflow:Assets written to: /Users/nataliajimenez/Documents/Master_IA/proyecto-grado-miad/app_tool/models/keras_model_monto/assets\n"
     ]
    },
    {
     "name": "stdout",
     "output_type": "stream",
     "text": [
      ".INFO:tensorflow:Assets written to: /Users/nataliajimenez/Documents/Master_IA/proyecto-grado-miad/app_tool/models/keras_model_monto/assets\n"
     ]
    },
    {
     "name": "stderr",
     "output_type": "stream",
     "text": [
      "INFO:tensorflow:Assets written to: /Users/nataliajimenez/Documents/Master_IA/proyecto-grado-miad/app_tool/models/keras_model_monto/assets\n"
     ]
    },
    {
     "name": "stdout",
     "output_type": "stream",
     "text": [
      ".INFO:tensorflow:Assets written to: /Users/nataliajimenez/Documents/Master_IA/proyecto-grado-miad/app_tool/models/keras_model_monto/assets\n"
     ]
    },
    {
     "name": "stderr",
     "output_type": "stream",
     "text": [
      "INFO:tensorflow:Assets written to: /Users/nataliajimenez/Documents/Master_IA/proyecto-grado-miad/app_tool/models/keras_model_monto/assets\n"
     ]
    },
    {
     "name": "stdout",
     "output_type": "stream",
     "text": [
      ".INFO:tensorflow:Assets written to: /Users/nataliajimenez/Documents/Master_IA/proyecto-grado-miad/app_tool/models/keras_model_monto/assets\n"
     ]
    },
    {
     "name": "stderr",
     "output_type": "stream",
     "text": [
      "INFO:tensorflow:Assets written to: /Users/nataliajimenez/Documents/Master_IA/proyecto-grado-miad/app_tool/models/keras_model_monto/assets\n"
     ]
    },
    {
     "name": "stdout",
     "output_type": "stream",
     "text": [
      ".INFO:tensorflow:Assets written to: /Users/nataliajimenez/Documents/Master_IA/proyecto-grado-miad/app_tool/models/keras_model_monto/assets\n"
     ]
    },
    {
     "name": "stderr",
     "output_type": "stream",
     "text": [
      "INFO:tensorflow:Assets written to: /Users/nataliajimenez/Documents/Master_IA/proyecto-grado-miad/app_tool/models/keras_model_monto/assets\n"
     ]
    },
    {
     "name": "stdout",
     "output_type": "stream",
     "text": [
      ".INFO:tensorflow:Assets written to: /Users/nataliajimenez/Documents/Master_IA/proyecto-grado-miad/app_tool/models/keras_model_monto/assets\n"
     ]
    },
    {
     "name": "stderr",
     "output_type": "stream",
     "text": [
      "INFO:tensorflow:Assets written to: /Users/nataliajimenez/Documents/Master_IA/proyecto-grado-miad/app_tool/models/keras_model_monto/assets\n"
     ]
    },
    {
     "name": "stdout",
     "output_type": "stream",
     "text": [
      ".INFO:tensorflow:Assets written to: /Users/nataliajimenez/Documents/Master_IA/proyecto-grado-miad/app_tool/models/keras_model_monto/assets\n"
     ]
    },
    {
     "name": "stderr",
     "output_type": "stream",
     "text": [
      "INFO:tensorflow:Assets written to: /Users/nataliajimenez/Documents/Master_IA/proyecto-grado-miad/app_tool/models/keras_model_monto/assets\n"
     ]
    },
    {
     "name": "stdout",
     "output_type": "stream",
     "text": [
      ".INFO:tensorflow:Assets written to: /Users/nataliajimenez/Documents/Master_IA/proyecto-grado-miad/app_tool/models/keras_model_monto/assets\n"
     ]
    },
    {
     "name": "stderr",
     "output_type": "stream",
     "text": [
      "INFO:tensorflow:Assets written to: /Users/nataliajimenez/Documents/Master_IA/proyecto-grado-miad/app_tool/models/keras_model_monto/assets\n"
     ]
    },
    {
     "name": "stdout",
     "output_type": "stream",
     "text": [
      ".INFO:tensorflow:Assets written to: /Users/nataliajimenez/Documents/Master_IA/proyecto-grado-miad/app_tool/models/keras_model_monto/assets\n"
     ]
    },
    {
     "name": "stderr",
     "output_type": "stream",
     "text": [
      "INFO:tensorflow:Assets written to: /Users/nataliajimenez/Documents/Master_IA/proyecto-grado-miad/app_tool/models/keras_model_monto/assets\n"
     ]
    },
    {
     "name": "stdout",
     "output_type": "stream",
     "text": [
      ".INFO:tensorflow:Assets written to: /Users/nataliajimenez/Documents/Master_IA/proyecto-grado-miad/app_tool/models/keras_model_monto/assets\n"
     ]
    },
    {
     "name": "stderr",
     "output_type": "stream",
     "text": [
      "INFO:tensorflow:Assets written to: /Users/nataliajimenez/Documents/Master_IA/proyecto-grado-miad/app_tool/models/keras_model_monto/assets\n"
     ]
    },
    {
     "name": "stdout",
     "output_type": "stream",
     "text": [
      ".INFO:tensorflow:Assets written to: /Users/nataliajimenez/Documents/Master_IA/proyecto-grado-miad/app_tool/models/keras_model_monto/assets\n"
     ]
    },
    {
     "name": "stderr",
     "output_type": "stream",
     "text": [
      "INFO:tensorflow:Assets written to: /Users/nataliajimenez/Documents/Master_IA/proyecto-grado-miad/app_tool/models/keras_model_monto/assets\n"
     ]
    },
    {
     "name": "stdout",
     "output_type": "stream",
     "text": [
      ".INFO:tensorflow:Assets written to: /Users/nataliajimenez/Documents/Master_IA/proyecto-grado-miad/app_tool/models/keras_model_monto/assets\n"
     ]
    },
    {
     "name": "stderr",
     "output_type": "stream",
     "text": [
      "INFO:tensorflow:Assets written to: /Users/nataliajimenez/Documents/Master_IA/proyecto-grado-miad/app_tool/models/keras_model_monto/assets\n"
     ]
    },
    {
     "name": "stdout",
     "output_type": "stream",
     "text": [
      ".INFO:tensorflow:Assets written to: /Users/nataliajimenez/Documents/Master_IA/proyecto-grado-miad/app_tool/models/keras_model_monto/assets\n"
     ]
    },
    {
     "name": "stderr",
     "output_type": "stream",
     "text": [
      "INFO:tensorflow:Assets written to: /Users/nataliajimenez/Documents/Master_IA/proyecto-grado-miad/app_tool/models/keras_model_monto/assets\n"
     ]
    },
    {
     "name": "stdout",
     "output_type": "stream",
     "text": [
      ".INFO:tensorflow:Assets written to: /Users/nataliajimenez/Documents/Master_IA/proyecto-grado-miad/app_tool/models/keras_model_monto/assets\n"
     ]
    },
    {
     "name": "stderr",
     "output_type": "stream",
     "text": [
      "INFO:tensorflow:Assets written to: /Users/nataliajimenez/Documents/Master_IA/proyecto-grado-miad/app_tool/models/keras_model_monto/assets\n"
     ]
    },
    {
     "name": "stdout",
     "output_type": "stream",
     "text": [
      ".INFO:tensorflow:Assets written to: /Users/nataliajimenez/Documents/Master_IA/proyecto-grado-miad/app_tool/models/keras_model_monto/assets\n"
     ]
    },
    {
     "name": "stderr",
     "output_type": "stream",
     "text": [
      "INFO:tensorflow:Assets written to: /Users/nataliajimenez/Documents/Master_IA/proyecto-grado-miad/app_tool/models/keras_model_monto/assets\n"
     ]
    },
    {
     "name": "stdout",
     "output_type": "stream",
     "text": [
      ".INFO:tensorflow:Assets written to: /Users/nataliajimenez/Documents/Master_IA/proyecto-grado-miad/app_tool/models/keras_model_monto/assets\n"
     ]
    },
    {
     "name": "stderr",
     "output_type": "stream",
     "text": [
      "INFO:tensorflow:Assets written to: /Users/nataliajimenez/Documents/Master_IA/proyecto-grado-miad/app_tool/models/keras_model_monto/assets\n"
     ]
    },
    {
     "name": "stdout",
     "output_type": "stream",
     "text": [
      ".INFO:tensorflow:Assets written to: /Users/nataliajimenez/Documents/Master_IA/proyecto-grado-miad/app_tool/models/keras_model_monto/assets\n"
     ]
    },
    {
     "name": "stderr",
     "output_type": "stream",
     "text": [
      "INFO:tensorflow:Assets written to: /Users/nataliajimenez/Documents/Master_IA/proyecto-grado-miad/app_tool/models/keras_model_monto/assets\n"
     ]
    },
    {
     "name": "stdout",
     "output_type": "stream",
     "text": [
      ".INFO:tensorflow:Assets written to: /Users/nataliajimenez/Documents/Master_IA/proyecto-grado-miad/app_tool/models/keras_model_monto/assets\n"
     ]
    },
    {
     "name": "stderr",
     "output_type": "stream",
     "text": [
      "INFO:tensorflow:Assets written to: /Users/nataliajimenez/Documents/Master_IA/proyecto-grado-miad/app_tool/models/keras_model_monto/assets\n"
     ]
    },
    {
     "name": "stdout",
     "output_type": "stream",
     "text": [
      ".INFO:tensorflow:Assets written to: /Users/nataliajimenez/Documents/Master_IA/proyecto-grado-miad/app_tool/models/keras_model_monto/assets\n"
     ]
    },
    {
     "name": "stderr",
     "output_type": "stream",
     "text": [
      "INFO:tensorflow:Assets written to: /Users/nataliajimenez/Documents/Master_IA/proyecto-grado-miad/app_tool/models/keras_model_monto/assets\n"
     ]
    },
    {
     "name": "stdout",
     "output_type": "stream",
     "text": [
      ".INFO:tensorflow:Assets written to: /Users/nataliajimenez/Documents/Master_IA/proyecto-grado-miad/app_tool/models/keras_model_monto/assets\n"
     ]
    },
    {
     "name": "stderr",
     "output_type": "stream",
     "text": [
      "INFO:tensorflow:Assets written to: /Users/nataliajimenez/Documents/Master_IA/proyecto-grado-miad/app_tool/models/keras_model_monto/assets\n"
     ]
    },
    {
     "name": "stdout",
     "output_type": "stream",
     "text": [
      ".INFO:tensorflow:Assets written to: /Users/nataliajimenez/Documents/Master_IA/proyecto-grado-miad/app_tool/models/keras_model_monto/assets\n"
     ]
    },
    {
     "name": "stderr",
     "output_type": "stream",
     "text": [
      "INFO:tensorflow:Assets written to: /Users/nataliajimenez/Documents/Master_IA/proyecto-grado-miad/app_tool/models/keras_model_monto/assets\n"
     ]
    },
    {
     "name": "stdout",
     "output_type": "stream",
     "text": [
      ".INFO:tensorflow:Assets written to: /Users/nataliajimenez/Documents/Master_IA/proyecto-grado-miad/app_tool/models/keras_model_monto/assets\n"
     ]
    },
    {
     "name": "stderr",
     "output_type": "stream",
     "text": [
      "INFO:tensorflow:Assets written to: /Users/nataliajimenez/Documents/Master_IA/proyecto-grado-miad/app_tool/models/keras_model_monto/assets\n"
     ]
    },
    {
     "name": "stdout",
     "output_type": "stream",
     "text": [
      ".INFO:tensorflow:Assets written to: /Users/nataliajimenez/Documents/Master_IA/proyecto-grado-miad/app_tool/models/keras_model_monto/assets\n"
     ]
    },
    {
     "name": "stderr",
     "output_type": "stream",
     "text": [
      "INFO:tensorflow:Assets written to: /Users/nataliajimenez/Documents/Master_IA/proyecto-grado-miad/app_tool/models/keras_model_monto/assets\n"
     ]
    },
    {
     "name": "stdout",
     "output_type": "stream",
     "text": [
      ".INFO:tensorflow:Assets written to: /Users/nataliajimenez/Documents/Master_IA/proyecto-grado-miad/app_tool/models/keras_model_monto/assets\n"
     ]
    },
    {
     "name": "stderr",
     "output_type": "stream",
     "text": [
      "INFO:tensorflow:Assets written to: /Users/nataliajimenez/Documents/Master_IA/proyecto-grado-miad/app_tool/models/keras_model_monto/assets\n"
     ]
    },
    {
     "name": "stdout",
     "output_type": "stream",
     "text": [
      ".INFO:tensorflow:Assets written to: /Users/nataliajimenez/Documents/Master_IA/proyecto-grado-miad/app_tool/models/keras_model_monto/assets\n"
     ]
    },
    {
     "name": "stderr",
     "output_type": "stream",
     "text": [
      "INFO:tensorflow:Assets written to: /Users/nataliajimenez/Documents/Master_IA/proyecto-grado-miad/app_tool/models/keras_model_monto/assets\n"
     ]
    },
    {
     "name": "stdout",
     "output_type": "stream",
     "text": [
      ".INFO:tensorflow:Assets written to: /Users/nataliajimenez/Documents/Master_IA/proyecto-grado-miad/app_tool/models/keras_model_monto/assets\n"
     ]
    },
    {
     "name": "stderr",
     "output_type": "stream",
     "text": [
      "INFO:tensorflow:Assets written to: /Users/nataliajimenez/Documents/Master_IA/proyecto-grado-miad/app_tool/models/keras_model_monto/assets\n"
     ]
    },
    {
     "name": "stdout",
     "output_type": "stream",
     "text": [
      ".INFO:tensorflow:Assets written to: /Users/nataliajimenez/Documents/Master_IA/proyecto-grado-miad/app_tool/models/keras_model_monto/assets\n"
     ]
    },
    {
     "name": "stderr",
     "output_type": "stream",
     "text": [
      "INFO:tensorflow:Assets written to: /Users/nataliajimenez/Documents/Master_IA/proyecto-grado-miad/app_tool/models/keras_model_monto/assets\n"
     ]
    },
    {
     "name": "stdout",
     "output_type": "stream",
     "text": [
      ".INFO:tensorflow:Assets written to: /Users/nataliajimenez/Documents/Master_IA/proyecto-grado-miad/app_tool/models/keras_model_monto/assets\n"
     ]
    },
    {
     "name": "stderr",
     "output_type": "stream",
     "text": [
      "INFO:tensorflow:Assets written to: /Users/nataliajimenez/Documents/Master_IA/proyecto-grado-miad/app_tool/models/keras_model_monto/assets\n"
     ]
    },
    {
     "name": "stdout",
     "output_type": "stream",
     "text": [
      ".INFO:tensorflow:Assets written to: /Users/nataliajimenez/Documents/Master_IA/proyecto-grado-miad/app_tool/models/keras_model_monto/assets\n"
     ]
    },
    {
     "name": "stderr",
     "output_type": "stream",
     "text": [
      "INFO:tensorflow:Assets written to: /Users/nataliajimenez/Documents/Master_IA/proyecto-grado-miad/app_tool/models/keras_model_monto/assets\n"
     ]
    },
    {
     "name": "stdout",
     "output_type": "stream",
     "text": [
      ".INFO:tensorflow:Assets written to: /Users/nataliajimenez/Documents/Master_IA/proyecto-grado-miad/app_tool/models/keras_model_monto/assets\n"
     ]
    },
    {
     "name": "stderr",
     "output_type": "stream",
     "text": [
      "INFO:tensorflow:Assets written to: /Users/nataliajimenez/Documents/Master_IA/proyecto-grado-miad/app_tool/models/keras_model_monto/assets\n"
     ]
    },
    {
     "name": "stdout",
     "output_type": "stream",
     "text": [
      ".INFO:tensorflow:Assets written to: /Users/nataliajimenez/Documents/Master_IA/proyecto-grado-miad/app_tool/models/keras_model_monto/assets\n"
     ]
    },
    {
     "name": "stderr",
     "output_type": "stream",
     "text": [
      "INFO:tensorflow:Assets written to: /Users/nataliajimenez/Documents/Master_IA/proyecto-grado-miad/app_tool/models/keras_model_monto/assets\n"
     ]
    },
    {
     "name": "stdout",
     "output_type": "stream",
     "text": [
      ".INFO:tensorflow:Assets written to: /Users/nataliajimenez/Documents/Master_IA/proyecto-grado-miad/app_tool/models/keras_model_monto/assets\n"
     ]
    },
    {
     "name": "stderr",
     "output_type": "stream",
     "text": [
      "INFO:tensorflow:Assets written to: /Users/nataliajimenez/Documents/Master_IA/proyecto-grado-miad/app_tool/models/keras_model_monto/assets\n"
     ]
    },
    {
     "name": "stdout",
     "output_type": "stream",
     "text": [
      ".INFO:tensorflow:Assets written to: /Users/nataliajimenez/Documents/Master_IA/proyecto-grado-miad/app_tool/models/keras_model_monto/assets\n"
     ]
    },
    {
     "name": "stderr",
     "output_type": "stream",
     "text": [
      "INFO:tensorflow:Assets written to: /Users/nataliajimenez/Documents/Master_IA/proyecto-grado-miad/app_tool/models/keras_model_monto/assets\n"
     ]
    },
    {
     "name": "stdout",
     "output_type": "stream",
     "text": [
      ".INFO:tensorflow:Assets written to: /Users/nataliajimenez/Documents/Master_IA/proyecto-grado-miad/app_tool/models/keras_model_monto/assets\n"
     ]
    },
    {
     "name": "stderr",
     "output_type": "stream",
     "text": [
      "INFO:tensorflow:Assets written to: /Users/nataliajimenez/Documents/Master_IA/proyecto-grado-miad/app_tool/models/keras_model_monto/assets\n"
     ]
    },
    {
     "name": "stdout",
     "output_type": "stream",
     "text": [
      ".INFO:tensorflow:Assets written to: /Users/nataliajimenez/Documents/Master_IA/proyecto-grado-miad/app_tool/models/keras_model_monto/assets\n"
     ]
    },
    {
     "name": "stderr",
     "output_type": "stream",
     "text": [
      "INFO:tensorflow:Assets written to: /Users/nataliajimenez/Documents/Master_IA/proyecto-grado-miad/app_tool/models/keras_model_monto/assets\n"
     ]
    },
    {
     "name": "stdout",
     "output_type": "stream",
     "text": [
      ".INFO:tensorflow:Assets written to: /Users/nataliajimenez/Documents/Master_IA/proyecto-grado-miad/app_tool/models/keras_model_monto/assets\n"
     ]
    },
    {
     "name": "stderr",
     "output_type": "stream",
     "text": [
      "INFO:tensorflow:Assets written to: /Users/nataliajimenez/Documents/Master_IA/proyecto-grado-miad/app_tool/models/keras_model_monto/assets\n"
     ]
    },
    {
     "name": "stdout",
     "output_type": "stream",
     "text": [
      ".INFO:tensorflow:Assets written to: /Users/nataliajimenez/Documents/Master_IA/proyecto-grado-miad/app_tool/models/keras_model_monto/assets\n"
     ]
    },
    {
     "name": "stderr",
     "output_type": "stream",
     "text": [
      "INFO:tensorflow:Assets written to: /Users/nataliajimenez/Documents/Master_IA/proyecto-grado-miad/app_tool/models/keras_model_monto/assets\n"
     ]
    },
    {
     "name": "stdout",
     "output_type": "stream",
     "text": [
      ".INFO:tensorflow:Assets written to: /Users/nataliajimenez/Documents/Master_IA/proyecto-grado-miad/app_tool/models/keras_model_monto/assets\n"
     ]
    },
    {
     "name": "stderr",
     "output_type": "stream",
     "text": [
      "INFO:tensorflow:Assets written to: /Users/nataliajimenez/Documents/Master_IA/proyecto-grado-miad/app_tool/models/keras_model_monto/assets\n"
     ]
    },
    {
     "name": "stdout",
     "output_type": "stream",
     "text": [
      ".INFO:tensorflow:Assets written to: /Users/nataliajimenez/Documents/Master_IA/proyecto-grado-miad/app_tool/models/keras_model_monto/assets\n"
     ]
    },
    {
     "name": "stderr",
     "output_type": "stream",
     "text": [
      "INFO:tensorflow:Assets written to: /Users/nataliajimenez/Documents/Master_IA/proyecto-grado-miad/app_tool/models/keras_model_monto/assets\n"
     ]
    },
    {
     "name": "stdout",
     "output_type": "stream",
     "text": [
      ".INFO:tensorflow:Assets written to: /Users/nataliajimenez/Documents/Master_IA/proyecto-grado-miad/app_tool/models/keras_model_monto/assets\n"
     ]
    },
    {
     "name": "stderr",
     "output_type": "stream",
     "text": [
      "INFO:tensorflow:Assets written to: /Users/nataliajimenez/Documents/Master_IA/proyecto-grado-miad/app_tool/models/keras_model_monto/assets\n"
     ]
    },
    {
     "name": "stdout",
     "output_type": "stream",
     "text": [
      ".INFO:tensorflow:Assets written to: /Users/nataliajimenez/Documents/Master_IA/proyecto-grado-miad/app_tool/models/keras_model_monto/assets\n"
     ]
    },
    {
     "name": "stderr",
     "output_type": "stream",
     "text": [
      "INFO:tensorflow:Assets written to: /Users/nataliajimenez/Documents/Master_IA/proyecto-grado-miad/app_tool/models/keras_model_monto/assets\n"
     ]
    },
    {
     "name": "stdout",
     "output_type": "stream",
     "text": [
      ".INFO:tensorflow:Assets written to: /Users/nataliajimenez/Documents/Master_IA/proyecto-grado-miad/app_tool/models/keras_model_monto/assets\n"
     ]
    },
    {
     "name": "stderr",
     "output_type": "stream",
     "text": [
      "INFO:tensorflow:Assets written to: /Users/nataliajimenez/Documents/Master_IA/proyecto-grado-miad/app_tool/models/keras_model_monto/assets\n"
     ]
    },
    {
     "name": "stdout",
     "output_type": "stream",
     "text": [
      ".INFO:tensorflow:Assets written to: /Users/nataliajimenez/Documents/Master_IA/proyecto-grado-miad/app_tool/models/keras_model_monto/assets\n"
     ]
    },
    {
     "name": "stderr",
     "output_type": "stream",
     "text": [
      "INFO:tensorflow:Assets written to: /Users/nataliajimenez/Documents/Master_IA/proyecto-grado-miad/app_tool/models/keras_model_monto/assets\n"
     ]
    },
    {
     "name": "stdout",
     "output_type": "stream",
     "text": [
      ".INFO:tensorflow:Assets written to: /Users/nataliajimenez/Documents/Master_IA/proyecto-grado-miad/app_tool/models/keras_model_monto/assets\n"
     ]
    },
    {
     "name": "stderr",
     "output_type": "stream",
     "text": [
      "INFO:tensorflow:Assets written to: /Users/nataliajimenez/Documents/Master_IA/proyecto-grado-miad/app_tool/models/keras_model_monto/assets\n"
     ]
    },
    {
     "name": "stdout",
     "output_type": "stream",
     "text": [
      ".INFO:tensorflow:Assets written to: /Users/nataliajimenez/Documents/Master_IA/proyecto-grado-miad/app_tool/models/keras_model_monto/assets\n"
     ]
    },
    {
     "name": "stderr",
     "output_type": "stream",
     "text": [
      "INFO:tensorflow:Assets written to: /Users/nataliajimenez/Documents/Master_IA/proyecto-grado-miad/app_tool/models/keras_model_monto/assets\n"
     ]
    },
    {
     "name": "stdout",
     "output_type": "stream",
     "text": [
      ".INFO:tensorflow:Assets written to: /Users/nataliajimenez/Documents/Master_IA/proyecto-grado-miad/app_tool/models/keras_model_monto/assets\n"
     ]
    },
    {
     "name": "stderr",
     "output_type": "stream",
     "text": [
      "INFO:tensorflow:Assets written to: /Users/nataliajimenez/Documents/Master_IA/proyecto-grado-miad/app_tool/models/keras_model_monto/assets\n"
     ]
    },
    {
     "name": "stdout",
     "output_type": "stream",
     "text": [
      ".INFO:tensorflow:Assets written to: /Users/nataliajimenez/Documents/Master_IA/proyecto-grado-miad/app_tool/models/keras_model_monto/assets\n"
     ]
    },
    {
     "name": "stderr",
     "output_type": "stream",
     "text": [
      "INFO:tensorflow:Assets written to: /Users/nataliajimenez/Documents/Master_IA/proyecto-grado-miad/app_tool/models/keras_model_monto/assets\n"
     ]
    },
    {
     "name": "stdout",
     "output_type": "stream",
     "text": [
      ".INFO:tensorflow:Assets written to: /Users/nataliajimenez/Documents/Master_IA/proyecto-grado-miad/app_tool/models/keras_model_monto/assets\n"
     ]
    },
    {
     "name": "stderr",
     "output_type": "stream",
     "text": [
      "INFO:tensorflow:Assets written to: /Users/nataliajimenez/Documents/Master_IA/proyecto-grado-miad/app_tool/models/keras_model_monto/assets\n"
     ]
    },
    {
     "name": "stdout",
     "output_type": "stream",
     "text": [
      ".INFO:tensorflow:Assets written to: /Users/nataliajimenez/Documents/Master_IA/proyecto-grado-miad/app_tool/models/keras_model_monto/assets\n"
     ]
    },
    {
     "name": "stderr",
     "output_type": "stream",
     "text": [
      "INFO:tensorflow:Assets written to: /Users/nataliajimenez/Documents/Master_IA/proyecto-grado-miad/app_tool/models/keras_model_monto/assets\n"
     ]
    },
    {
     "name": "stdout",
     "output_type": "stream",
     "text": [
      ".INFO:tensorflow:Assets written to: /Users/nataliajimenez/Documents/Master_IA/proyecto-grado-miad/app_tool/models/keras_model_monto/assets\n"
     ]
    },
    {
     "name": "stderr",
     "output_type": "stream",
     "text": [
      "INFO:tensorflow:Assets written to: /Users/nataliajimenez/Documents/Master_IA/proyecto-grado-miad/app_tool/models/keras_model_monto/assets\n"
     ]
    },
    {
     "name": "stdout",
     "output_type": "stream",
     "text": [
      ".INFO:tensorflow:Assets written to: /Users/nataliajimenez/Documents/Master_IA/proyecto-grado-miad/app_tool/models/keras_model_monto/assets\n"
     ]
    },
    {
     "name": "stderr",
     "output_type": "stream",
     "text": [
      "INFO:tensorflow:Assets written to: /Users/nataliajimenez/Documents/Master_IA/proyecto-grado-miad/app_tool/models/keras_model_monto/assets\n"
     ]
    },
    {
     "name": "stdout",
     "output_type": "stream",
     "text": [
      ".INFO:tensorflow:Assets written to: /Users/nataliajimenez/Documents/Master_IA/proyecto-grado-miad/app_tool/models/keras_model_monto/assets\n"
     ]
    },
    {
     "name": "stderr",
     "output_type": "stream",
     "text": [
      "INFO:tensorflow:Assets written to: /Users/nataliajimenez/Documents/Master_IA/proyecto-grado-miad/app_tool/models/keras_model_monto/assets\n"
     ]
    },
    {
     "name": "stdout",
     "output_type": "stream",
     "text": [
      ".INFO:tensorflow:Assets written to: /Users/nataliajimenez/Documents/Master_IA/proyecto-grado-miad/app_tool/models/keras_model_monto/assets\n"
     ]
    },
    {
     "name": "stderr",
     "output_type": "stream",
     "text": [
      "INFO:tensorflow:Assets written to: /Users/nataliajimenez/Documents/Master_IA/proyecto-grado-miad/app_tool/models/keras_model_monto/assets\n"
     ]
    },
    {
     "name": "stdout",
     "output_type": "stream",
     "text": [
      ".INFO:tensorflow:Assets written to: /Users/nataliajimenez/Documents/Master_IA/proyecto-grado-miad/app_tool/models/keras_model_monto/assets\n"
     ]
    },
    {
     "name": "stderr",
     "output_type": "stream",
     "text": [
      "INFO:tensorflow:Assets written to: /Users/nataliajimenez/Documents/Master_IA/proyecto-grado-miad/app_tool/models/keras_model_monto/assets\n"
     ]
    },
    {
     "name": "stdout",
     "output_type": "stream",
     "text": [
      ".INFO:tensorflow:Assets written to: /Users/nataliajimenez/Documents/Master_IA/proyecto-grado-miad/app_tool/models/keras_model_monto/assets\n"
     ]
    },
    {
     "name": "stderr",
     "output_type": "stream",
     "text": [
      "INFO:tensorflow:Assets written to: /Users/nataliajimenez/Documents/Master_IA/proyecto-grado-miad/app_tool/models/keras_model_monto/assets\n"
     ]
    },
    {
     "name": "stdout",
     "output_type": "stream",
     "text": [
      ".INFO:tensorflow:Assets written to: /Users/nataliajimenez/Documents/Master_IA/proyecto-grado-miad/app_tool/models/keras_model_monto/assets\n"
     ]
    },
    {
     "name": "stderr",
     "output_type": "stream",
     "text": [
      "INFO:tensorflow:Assets written to: /Users/nataliajimenez/Documents/Master_IA/proyecto-grado-miad/app_tool/models/keras_model_monto/assets\n"
     ]
    },
    {
     "name": "stdout",
     "output_type": "stream",
     "text": [
      ".INFO:tensorflow:Assets written to: /Users/nataliajimenez/Documents/Master_IA/proyecto-grado-miad/app_tool/models/keras_model_monto/assets\n"
     ]
    },
    {
     "name": "stderr",
     "output_type": "stream",
     "text": [
      "INFO:tensorflow:Assets written to: /Users/nataliajimenez/Documents/Master_IA/proyecto-grado-miad/app_tool/models/keras_model_monto/assets\n"
     ]
    },
    {
     "name": "stdout",
     "output_type": "stream",
     "text": [
      ".INFO:tensorflow:Assets written to: /Users/nataliajimenez/Documents/Master_IA/proyecto-grado-miad/app_tool/models/keras_model_monto/assets\n"
     ]
    },
    {
     "name": "stderr",
     "output_type": "stream",
     "text": [
      "INFO:tensorflow:Assets written to: /Users/nataliajimenez/Documents/Master_IA/proyecto-grado-miad/app_tool/models/keras_model_monto/assets\n"
     ]
    },
    {
     "name": "stdout",
     "output_type": "stream",
     "text": [
      ".INFO:tensorflow:Assets written to: /Users/nataliajimenez/Documents/Master_IA/proyecto-grado-miad/app_tool/models/keras_model_monto/assets\n"
     ]
    },
    {
     "name": "stderr",
     "output_type": "stream",
     "text": [
      "INFO:tensorflow:Assets written to: /Users/nataliajimenez/Documents/Master_IA/proyecto-grado-miad/app_tool/models/keras_model_monto/assets\n"
     ]
    },
    {
     "name": "stdout",
     "output_type": "stream",
     "text": [
      ".INFO:tensorflow:Assets written to: /Users/nataliajimenez/Documents/Master_IA/proyecto-grado-miad/app_tool/models/keras_model_monto/assets\n"
     ]
    },
    {
     "name": "stderr",
     "output_type": "stream",
     "text": [
      "INFO:tensorflow:Assets written to: /Users/nataliajimenez/Documents/Master_IA/proyecto-grado-miad/app_tool/models/keras_model_monto/assets\n"
     ]
    },
    {
     "name": "stdout",
     "output_type": "stream",
     "text": [
      ".INFO:tensorflow:Assets written to: /Users/nataliajimenez/Documents/Master_IA/proyecto-grado-miad/app_tool/models/keras_model_monto/assets\n"
     ]
    },
    {
     "name": "stderr",
     "output_type": "stream",
     "text": [
      "INFO:tensorflow:Assets written to: /Users/nataliajimenez/Documents/Master_IA/proyecto-grado-miad/app_tool/models/keras_model_monto/assets\n"
     ]
    },
    {
     "name": "stdout",
     "output_type": "stream",
     "text": [
      ".INFO:tensorflow:Assets written to: /Users/nataliajimenez/Documents/Master_IA/proyecto-grado-miad/app_tool/models/keras_model_monto/assets\n"
     ]
    },
    {
     "name": "stderr",
     "output_type": "stream",
     "text": [
      "INFO:tensorflow:Assets written to: /Users/nataliajimenez/Documents/Master_IA/proyecto-grado-miad/app_tool/models/keras_model_monto/assets\n"
     ]
    },
    {
     "name": "stdout",
     "output_type": "stream",
     "text": [
      ".INFO:tensorflow:Assets written to: /Users/nataliajimenez/Documents/Master_IA/proyecto-grado-miad/app_tool/models/keras_model_monto/assets\n"
     ]
    },
    {
     "name": "stderr",
     "output_type": "stream",
     "text": [
      "INFO:tensorflow:Assets written to: /Users/nataliajimenez/Documents/Master_IA/proyecto-grado-miad/app_tool/models/keras_model_monto/assets\n"
     ]
    },
    {
     "name": "stdout",
     "output_type": "stream",
     "text": [
      ".INFO:tensorflow:Assets written to: /Users/nataliajimenez/Documents/Master_IA/proyecto-grado-miad/app_tool/models/keras_model_monto/assets\n"
     ]
    },
    {
     "name": "stderr",
     "output_type": "stream",
     "text": [
      "INFO:tensorflow:Assets written to: /Users/nataliajimenez/Documents/Master_IA/proyecto-grado-miad/app_tool/models/keras_model_monto/assets\n"
     ]
    },
    {
     "name": "stdout",
     "output_type": "stream",
     "text": [
      ".INFO:tensorflow:Assets written to: /Users/nataliajimenez/Documents/Master_IA/proyecto-grado-miad/app_tool/models/keras_model_monto/assets\n"
     ]
    },
    {
     "name": "stderr",
     "output_type": "stream",
     "text": [
      "INFO:tensorflow:Assets written to: /Users/nataliajimenez/Documents/Master_IA/proyecto-grado-miad/app_tool/models/keras_model_monto/assets\n"
     ]
    },
    {
     "name": "stdout",
     "output_type": "stream",
     "text": [
      ".INFO:tensorflow:Assets written to: /Users/nataliajimenez/Documents/Master_IA/proyecto-grado-miad/app_tool/models/keras_model_monto/assets\n"
     ]
    },
    {
     "name": "stderr",
     "output_type": "stream",
     "text": [
      "INFO:tensorflow:Assets written to: /Users/nataliajimenez/Documents/Master_IA/proyecto-grado-miad/app_tool/models/keras_model_monto/assets\n"
     ]
    },
    {
     "name": "stdout",
     "output_type": "stream",
     "text": [
      ".INFO:tensorflow:Assets written to: /Users/nataliajimenez/Documents/Master_IA/proyecto-grado-miad/app_tool/models/keras_model_monto/assets\n"
     ]
    },
    {
     "name": "stderr",
     "output_type": "stream",
     "text": [
      "INFO:tensorflow:Assets written to: /Users/nataliajimenez/Documents/Master_IA/proyecto-grado-miad/app_tool/models/keras_model_monto/assets\n"
     ]
    },
    {
     "name": "stdout",
     "output_type": "stream",
     "text": [
      ".INFO:tensorflow:Assets written to: /Users/nataliajimenez/Documents/Master_IA/proyecto-grado-miad/app_tool/models/keras_model_monto/assets\n"
     ]
    },
    {
     "name": "stderr",
     "output_type": "stream",
     "text": [
      "INFO:tensorflow:Assets written to: /Users/nataliajimenez/Documents/Master_IA/proyecto-grado-miad/app_tool/models/keras_model_monto/assets\n"
     ]
    },
    {
     "name": "stdout",
     "output_type": "stream",
     "text": [
      ".INFO:tensorflow:Assets written to: /Users/nataliajimenez/Documents/Master_IA/proyecto-grado-miad/app_tool/models/keras_model_monto/assets\n"
     ]
    },
    {
     "name": "stderr",
     "output_type": "stream",
     "text": [
      "INFO:tensorflow:Assets written to: /Users/nataliajimenez/Documents/Master_IA/proyecto-grado-miad/app_tool/models/keras_model_monto/assets\n"
     ]
    },
    {
     "name": "stdout",
     "output_type": "stream",
     "text": [
      ".INFO:tensorflow:Assets written to: /Users/nataliajimenez/Documents/Master_IA/proyecto-grado-miad/app_tool/models/keras_model_monto/assets\n"
     ]
    },
    {
     "name": "stderr",
     "output_type": "stream",
     "text": [
      "INFO:tensorflow:Assets written to: /Users/nataliajimenez/Documents/Master_IA/proyecto-grado-miad/app_tool/models/keras_model_monto/assets\n"
     ]
    },
    {
     "name": "stdout",
     "output_type": "stream",
     "text": [
      ".INFO:tensorflow:Assets written to: /Users/nataliajimenez/Documents/Master_IA/proyecto-grado-miad/app_tool/models/keras_model_monto/assets\n"
     ]
    },
    {
     "name": "stderr",
     "output_type": "stream",
     "text": [
      "INFO:tensorflow:Assets written to: /Users/nataliajimenez/Documents/Master_IA/proyecto-grado-miad/app_tool/models/keras_model_monto/assets\n"
     ]
    },
    {
     "name": "stdout",
     "output_type": "stream",
     "text": [
      ".INFO:tensorflow:Assets written to: /Users/nataliajimenez/Documents/Master_IA/proyecto-grado-miad/app_tool/models/keras_model_monto/assets\n"
     ]
    },
    {
     "name": "stderr",
     "output_type": "stream",
     "text": [
      "INFO:tensorflow:Assets written to: /Users/nataliajimenez/Documents/Master_IA/proyecto-grado-miad/app_tool/models/keras_model_monto/assets\n"
     ]
    },
    {
     "name": "stdout",
     "output_type": "stream",
     "text": [
      ".INFO:tensorflow:Assets written to: /Users/nataliajimenez/Documents/Master_IA/proyecto-grado-miad/app_tool/models/keras_model_monto/assets\n"
     ]
    },
    {
     "name": "stderr",
     "output_type": "stream",
     "text": [
      "INFO:tensorflow:Assets written to: /Users/nataliajimenez/Documents/Master_IA/proyecto-grado-miad/app_tool/models/keras_model_monto/assets\n"
     ]
    },
    {
     "name": "stdout",
     "output_type": "stream",
     "text": [
      ".INFO:tensorflow:Assets written to: /Users/nataliajimenez/Documents/Master_IA/proyecto-grado-miad/app_tool/models/keras_model_monto/assets\n"
     ]
    },
    {
     "name": "stderr",
     "output_type": "stream",
     "text": [
      "INFO:tensorflow:Assets written to: /Users/nataliajimenez/Documents/Master_IA/proyecto-grado-miad/app_tool/models/keras_model_monto/assets\n"
     ]
    },
    {
     "name": "stdout",
     "output_type": "stream",
     "text": [
      ".INFO:tensorflow:Assets written to: /Users/nataliajimenez/Documents/Master_IA/proyecto-grado-miad/app_tool/models/keras_model_monto/assets\n"
     ]
    },
    {
     "name": "stderr",
     "output_type": "stream",
     "text": [
      "INFO:tensorflow:Assets written to: /Users/nataliajimenez/Documents/Master_IA/proyecto-grado-miad/app_tool/models/keras_model_monto/assets\n"
     ]
    },
    {
     "name": "stdout",
     "output_type": "stream",
     "text": [
      ".INFO:tensorflow:Assets written to: /Users/nataliajimenez/Documents/Master_IA/proyecto-grado-miad/app_tool/models/keras_model_monto/assets\n"
     ]
    },
    {
     "name": "stderr",
     "output_type": "stream",
     "text": [
      "INFO:tensorflow:Assets written to: /Users/nataliajimenez/Documents/Master_IA/proyecto-grado-miad/app_tool/models/keras_model_monto/assets\n"
     ]
    },
    {
     "name": "stdout",
     "output_type": "stream",
     "text": [
      ".INFO:tensorflow:Assets written to: /Users/nataliajimenez/Documents/Master_IA/proyecto-grado-miad/app_tool/models/keras_model_monto/assets\n"
     ]
    },
    {
     "name": "stderr",
     "output_type": "stream",
     "text": [
      "INFO:tensorflow:Assets written to: /Users/nataliajimenez/Documents/Master_IA/proyecto-grado-miad/app_tool/models/keras_model_monto/assets\n"
     ]
    },
    {
     "name": "stdout",
     "output_type": "stream",
     "text": [
      ".INFO:tensorflow:Assets written to: /Users/nataliajimenez/Documents/Master_IA/proyecto-grado-miad/app_tool/models/keras_model_monto/assets\n"
     ]
    },
    {
     "name": "stderr",
     "output_type": "stream",
     "text": [
      "INFO:tensorflow:Assets written to: /Users/nataliajimenez/Documents/Master_IA/proyecto-grado-miad/app_tool/models/keras_model_monto/assets\n"
     ]
    },
    {
     "name": "stdout",
     "output_type": "stream",
     "text": [
      ".INFO:tensorflow:Assets written to: /Users/nataliajimenez/Documents/Master_IA/proyecto-grado-miad/app_tool/models/keras_model_monto/assets\n"
     ]
    },
    {
     "name": "stderr",
     "output_type": "stream",
     "text": [
      "INFO:tensorflow:Assets written to: /Users/nataliajimenez/Documents/Master_IA/proyecto-grado-miad/app_tool/models/keras_model_monto/assets\n"
     ]
    },
    {
     "name": "stdout",
     "output_type": "stream",
     "text": [
      ".INFO:tensorflow:Assets written to: /Users/nataliajimenez/Documents/Master_IA/proyecto-grado-miad/app_tool/models/keras_model_monto/assets\n"
     ]
    },
    {
     "name": "stderr",
     "output_type": "stream",
     "text": [
      "INFO:tensorflow:Assets written to: /Users/nataliajimenez/Documents/Master_IA/proyecto-grado-miad/app_tool/models/keras_model_monto/assets\n"
     ]
    },
    {
     "name": "stdout",
     "output_type": "stream",
     "text": [
      ".INFO:tensorflow:Assets written to: /Users/nataliajimenez/Documents/Master_IA/proyecto-grado-miad/app_tool/models/keras_model_monto/assets\n"
     ]
    },
    {
     "name": "stderr",
     "output_type": "stream",
     "text": [
      "INFO:tensorflow:Assets written to: /Users/nataliajimenez/Documents/Master_IA/proyecto-grado-miad/app_tool/models/keras_model_monto/assets\n"
     ]
    },
    {
     "name": "stdout",
     "output_type": "stream",
     "text": [
      ".INFO:tensorflow:Assets written to: /Users/nataliajimenez/Documents/Master_IA/proyecto-grado-miad/app_tool/models/keras_model_monto/assets\n"
     ]
    },
    {
     "name": "stderr",
     "output_type": "stream",
     "text": [
      "INFO:tensorflow:Assets written to: /Users/nataliajimenez/Documents/Master_IA/proyecto-grado-miad/app_tool/models/keras_model_monto/assets\n"
     ]
    },
    {
     "name": "stdout",
     "output_type": "stream",
     "text": [
      ".INFO:tensorflow:Assets written to: /Users/nataliajimenez/Documents/Master_IA/proyecto-grado-miad/app_tool/models/keras_model_monto/assets\n"
     ]
    },
    {
     "name": "stderr",
     "output_type": "stream",
     "text": [
      "INFO:tensorflow:Assets written to: /Users/nataliajimenez/Documents/Master_IA/proyecto-grado-miad/app_tool/models/keras_model_monto/assets\n"
     ]
    },
    {
     "name": "stdout",
     "output_type": "stream",
     "text": [
      ".INFO:tensorflow:Assets written to: /Users/nataliajimenez/Documents/Master_IA/proyecto-grado-miad/app_tool/models/keras_model_monto/assets\n"
     ]
    },
    {
     "name": "stderr",
     "output_type": "stream",
     "text": [
      "INFO:tensorflow:Assets written to: /Users/nataliajimenez/Documents/Master_IA/proyecto-grado-miad/app_tool/models/keras_model_monto/assets\n"
     ]
    },
    {
     "name": "stdout",
     "output_type": "stream",
     "text": [
      ".INFO:tensorflow:Assets written to: /Users/nataliajimenez/Documents/Master_IA/proyecto-grado-miad/app_tool/models/keras_model_monto/assets\n"
     ]
    },
    {
     "name": "stderr",
     "output_type": "stream",
     "text": [
      "INFO:tensorflow:Assets written to: /Users/nataliajimenez/Documents/Master_IA/proyecto-grado-miad/app_tool/models/keras_model_monto/assets\n"
     ]
    },
    {
     "name": "stdout",
     "output_type": "stream",
     "text": [
      ".INFO:tensorflow:Assets written to: /Users/nataliajimenez/Documents/Master_IA/proyecto-grado-miad/app_tool/models/keras_model_monto/assets\n"
     ]
    },
    {
     "name": "stderr",
     "output_type": "stream",
     "text": [
      "INFO:tensorflow:Assets written to: /Users/nataliajimenez/Documents/Master_IA/proyecto-grado-miad/app_tool/models/keras_model_monto/assets\n"
     ]
    },
    {
     "name": "stdout",
     "output_type": "stream",
     "text": [
      ".INFO:tensorflow:Assets written to: /Users/nataliajimenez/Documents/Master_IA/proyecto-grado-miad/app_tool/models/keras_model_monto/assets\n"
     ]
    },
    {
     "name": "stderr",
     "output_type": "stream",
     "text": [
      "INFO:tensorflow:Assets written to: /Users/nataliajimenez/Documents/Master_IA/proyecto-grado-miad/app_tool/models/keras_model_monto/assets\n"
     ]
    },
    {
     "name": "stdout",
     "output_type": "stream",
     "text": [
      ".INFO:tensorflow:Assets written to: /Users/nataliajimenez/Documents/Master_IA/proyecto-grado-miad/app_tool/models/keras_model_monto/assets\n"
     ]
    },
    {
     "name": "stderr",
     "output_type": "stream",
     "text": [
      "INFO:tensorflow:Assets written to: /Users/nataliajimenez/Documents/Master_IA/proyecto-grado-miad/app_tool/models/keras_model_monto/assets\n"
     ]
    },
    {
     "name": "stdout",
     "output_type": "stream",
     "text": [
      ".INFO:tensorflow:Assets written to: /Users/nataliajimenez/Documents/Master_IA/proyecto-grado-miad/app_tool/models/keras_model_monto/assets\n"
     ]
    },
    {
     "name": "stderr",
     "output_type": "stream",
     "text": [
      "INFO:tensorflow:Assets written to: /Users/nataliajimenez/Documents/Master_IA/proyecto-grado-miad/app_tool/models/keras_model_monto/assets\n"
     ]
    },
    {
     "name": "stdout",
     "output_type": "stream",
     "text": [
      ".INFO:tensorflow:Assets written to: /Users/nataliajimenez/Documents/Master_IA/proyecto-grado-miad/app_tool/models/keras_model_monto/assets\n"
     ]
    },
    {
     "name": "stderr",
     "output_type": "stream",
     "text": [
      "INFO:tensorflow:Assets written to: /Users/nataliajimenez/Documents/Master_IA/proyecto-grado-miad/app_tool/models/keras_model_monto/assets\n"
     ]
    },
    {
     "name": "stdout",
     "output_type": "stream",
     "text": [
      ".INFO:tensorflow:Assets written to: /Users/nataliajimenez/Documents/Master_IA/proyecto-grado-miad/app_tool/models/keras_model_monto/assets\n"
     ]
    },
    {
     "name": "stderr",
     "output_type": "stream",
     "text": [
      "INFO:tensorflow:Assets written to: /Users/nataliajimenez/Documents/Master_IA/proyecto-grado-miad/app_tool/models/keras_model_monto/assets\n"
     ]
    },
    {
     "name": "stdout",
     "output_type": "stream",
     "text": [
      ".INFO:tensorflow:Assets written to: /Users/nataliajimenez/Documents/Master_IA/proyecto-grado-miad/app_tool/models/keras_model_monto/assets\n"
     ]
    },
    {
     "name": "stderr",
     "output_type": "stream",
     "text": [
      "INFO:tensorflow:Assets written to: /Users/nataliajimenez/Documents/Master_IA/proyecto-grado-miad/app_tool/models/keras_model_monto/assets\n"
     ]
    },
    {
     "name": "stdout",
     "output_type": "stream",
     "text": [
      ".INFO:tensorflow:Assets written to: /Users/nataliajimenez/Documents/Master_IA/proyecto-grado-miad/app_tool/models/keras_model_monto/assets\n"
     ]
    },
    {
     "name": "stderr",
     "output_type": "stream",
     "text": [
      "INFO:tensorflow:Assets written to: /Users/nataliajimenez/Documents/Master_IA/proyecto-grado-miad/app_tool/models/keras_model_monto/assets\n"
     ]
    },
    {
     "name": "stdout",
     "output_type": "stream",
     "text": [
      ".INFO:tensorflow:Assets written to: /Users/nataliajimenez/Documents/Master_IA/proyecto-grado-miad/app_tool/models/keras_model_monto/assets\n"
     ]
    },
    {
     "name": "stderr",
     "output_type": "stream",
     "text": [
      "INFO:tensorflow:Assets written to: /Users/nataliajimenez/Documents/Master_IA/proyecto-grado-miad/app_tool/models/keras_model_monto/assets\n"
     ]
    },
    {
     "name": "stdout",
     "output_type": "stream",
     "text": [
      ".INFO:tensorflow:Assets written to: /Users/nataliajimenez/Documents/Master_IA/proyecto-grado-miad/app_tool/models/keras_model_monto/assets\n"
     ]
    },
    {
     "name": "stderr",
     "output_type": "stream",
     "text": [
      "INFO:tensorflow:Assets written to: /Users/nataliajimenez/Documents/Master_IA/proyecto-grado-miad/app_tool/models/keras_model_monto/assets\n"
     ]
    },
    {
     "name": "stdout",
     "output_type": "stream",
     "text": [
      ".INFO:tensorflow:Assets written to: /Users/nataliajimenez/Documents/Master_IA/proyecto-grado-miad/app_tool/models/keras_model_monto/assets\n"
     ]
    },
    {
     "name": "stderr",
     "output_type": "stream",
     "text": [
      "INFO:tensorflow:Assets written to: /Users/nataliajimenez/Documents/Master_IA/proyecto-grado-miad/app_tool/models/keras_model_monto/assets\n"
     ]
    },
    {
     "name": "stdout",
     "output_type": "stream",
     "text": [
      ".INFO:tensorflow:Assets written to: /Users/nataliajimenez/Documents/Master_IA/proyecto-grado-miad/app_tool/models/keras_model_monto/assets\n"
     ]
    },
    {
     "name": "stderr",
     "output_type": "stream",
     "text": [
      "INFO:tensorflow:Assets written to: /Users/nataliajimenez/Documents/Master_IA/proyecto-grado-miad/app_tool/models/keras_model_monto/assets\n"
     ]
    },
    {
     "name": "stdout",
     "output_type": "stream",
     "text": [
      "\n",
      ".INFO:tensorflow:Assets written to: /Users/nataliajimenez/Documents/Master_IA/proyecto-grado-miad/app_tool/models/keras_model_monto/assets\n"
     ]
    },
    {
     "name": "stderr",
     "output_type": "stream",
     "text": [
      "INFO:tensorflow:Assets written to: /Users/nataliajimenez/Documents/Master_IA/proyecto-grado-miad/app_tool/models/keras_model_monto/assets\n"
     ]
    },
    {
     "name": "stdout",
     "output_type": "stream",
     "text": [
      ".INFO:tensorflow:Assets written to: /Users/nataliajimenez/Documents/Master_IA/proyecto-grado-miad/app_tool/models/keras_model_monto/assets\n"
     ]
    },
    {
     "name": "stderr",
     "output_type": "stream",
     "text": [
      "INFO:tensorflow:Assets written to: /Users/nataliajimenez/Documents/Master_IA/proyecto-grado-miad/app_tool/models/keras_model_monto/assets\n"
     ]
    },
    {
     "name": "stdout",
     "output_type": "stream",
     "text": [
      ".INFO:tensorflow:Assets written to: /Users/nataliajimenez/Documents/Master_IA/proyecto-grado-miad/app_tool/models/keras_model_monto/assets\n"
     ]
    },
    {
     "name": "stderr",
     "output_type": "stream",
     "text": [
      "INFO:tensorflow:Assets written to: /Users/nataliajimenez/Documents/Master_IA/proyecto-grado-miad/app_tool/models/keras_model_monto/assets\n"
     ]
    },
    {
     "name": "stdout",
     "output_type": "stream",
     "text": [
      ".INFO:tensorflow:Assets written to: /Users/nataliajimenez/Documents/Master_IA/proyecto-grado-miad/app_tool/models/keras_model_monto/assets\n"
     ]
    },
    {
     "name": "stderr",
     "output_type": "stream",
     "text": [
      "INFO:tensorflow:Assets written to: /Users/nataliajimenez/Documents/Master_IA/proyecto-grado-miad/app_tool/models/keras_model_monto/assets\n"
     ]
    },
    {
     "name": "stdout",
     "output_type": "stream",
     "text": [
      ".INFO:tensorflow:Assets written to: /Users/nataliajimenez/Documents/Master_IA/proyecto-grado-miad/app_tool/models/keras_model_monto/assets\n"
     ]
    },
    {
     "name": "stderr",
     "output_type": "stream",
     "text": [
      "INFO:tensorflow:Assets written to: /Users/nataliajimenez/Documents/Master_IA/proyecto-grado-miad/app_tool/models/keras_model_monto/assets\n"
     ]
    },
    {
     "name": "stdout",
     "output_type": "stream",
     "text": [
      ".INFO:tensorflow:Assets written to: /Users/nataliajimenez/Documents/Master_IA/proyecto-grado-miad/app_tool/models/keras_model_monto/assets\n"
     ]
    },
    {
     "name": "stderr",
     "output_type": "stream",
     "text": [
      "INFO:tensorflow:Assets written to: /Users/nataliajimenez/Documents/Master_IA/proyecto-grado-miad/app_tool/models/keras_model_monto/assets\n"
     ]
    },
    {
     "name": "stdout",
     "output_type": "stream",
     "text": [
      ".INFO:tensorflow:Assets written to: /Users/nataliajimenez/Documents/Master_IA/proyecto-grado-miad/app_tool/models/keras_model_monto/assets\n"
     ]
    },
    {
     "name": "stderr",
     "output_type": "stream",
     "text": [
      "INFO:tensorflow:Assets written to: /Users/nataliajimenez/Documents/Master_IA/proyecto-grado-miad/app_tool/models/keras_model_monto/assets\n"
     ]
    },
    {
     "name": "stdout",
     "output_type": "stream",
     "text": [
      ".INFO:tensorflow:Assets written to: /Users/nataliajimenez/Documents/Master_IA/proyecto-grado-miad/app_tool/models/keras_model_monto/assets\n"
     ]
    },
    {
     "name": "stderr",
     "output_type": "stream",
     "text": [
      "INFO:tensorflow:Assets written to: /Users/nataliajimenez/Documents/Master_IA/proyecto-grado-miad/app_tool/models/keras_model_monto/assets\n"
     ]
    },
    {
     "name": "stdout",
     "output_type": "stream",
     "text": [
      ".INFO:tensorflow:Assets written to: /Users/nataliajimenez/Documents/Master_IA/proyecto-grado-miad/app_tool/models/keras_model_monto/assets\n"
     ]
    },
    {
     "name": "stderr",
     "output_type": "stream",
     "text": [
      "INFO:tensorflow:Assets written to: /Users/nataliajimenez/Documents/Master_IA/proyecto-grado-miad/app_tool/models/keras_model_monto/assets\n"
     ]
    },
    {
     "name": "stdout",
     "output_type": "stream",
     "text": [
      ".INFO:tensorflow:Assets written to: /Users/nataliajimenez/Documents/Master_IA/proyecto-grado-miad/app_tool/models/keras_model_monto/assets\n"
     ]
    },
    {
     "name": "stderr",
     "output_type": "stream",
     "text": [
      "INFO:tensorflow:Assets written to: /Users/nataliajimenez/Documents/Master_IA/proyecto-grado-miad/app_tool/models/keras_model_monto/assets\n"
     ]
    },
    {
     "name": "stdout",
     "output_type": "stream",
     "text": [
      ".INFO:tensorflow:Assets written to: /Users/nataliajimenez/Documents/Master_IA/proyecto-grado-miad/app_tool/models/keras_model_monto/assets\n"
     ]
    },
    {
     "name": "stderr",
     "output_type": "stream",
     "text": [
      "INFO:tensorflow:Assets written to: /Users/nataliajimenez/Documents/Master_IA/proyecto-grado-miad/app_tool/models/keras_model_monto/assets\n"
     ]
    },
    {
     "name": "stdout",
     "output_type": "stream",
     "text": [
      ".INFO:tensorflow:Assets written to: /Users/nataliajimenez/Documents/Master_IA/proyecto-grado-miad/app_tool/models/keras_model_monto/assets\n"
     ]
    },
    {
     "name": "stderr",
     "output_type": "stream",
     "text": [
      "INFO:tensorflow:Assets written to: /Users/nataliajimenez/Documents/Master_IA/proyecto-grado-miad/app_tool/models/keras_model_monto/assets\n"
     ]
    },
    {
     "name": "stdout",
     "output_type": "stream",
     "text": [
      ".INFO:tensorflow:Assets written to: /Users/nataliajimenez/Documents/Master_IA/proyecto-grado-miad/app_tool/models/keras_model_monto/assets\n"
     ]
    },
    {
     "name": "stderr",
     "output_type": "stream",
     "text": [
      "INFO:tensorflow:Assets written to: /Users/nataliajimenez/Documents/Master_IA/proyecto-grado-miad/app_tool/models/keras_model_monto/assets\n"
     ]
    },
    {
     "name": "stdout",
     "output_type": "stream",
     "text": [
      ".INFO:tensorflow:Assets written to: /Users/nataliajimenez/Documents/Master_IA/proyecto-grado-miad/app_tool/models/keras_model_monto/assets\n"
     ]
    },
    {
     "name": "stderr",
     "output_type": "stream",
     "text": [
      "INFO:tensorflow:Assets written to: /Users/nataliajimenez/Documents/Master_IA/proyecto-grado-miad/app_tool/models/keras_model_monto/assets\n"
     ]
    },
    {
     "name": "stdout",
     "output_type": "stream",
     "text": [
      ".INFO:tensorflow:Assets written to: /Users/nataliajimenez/Documents/Master_IA/proyecto-grado-miad/app_tool/models/keras_model_monto/assets\n"
     ]
    },
    {
     "name": "stderr",
     "output_type": "stream",
     "text": [
      "INFO:tensorflow:Assets written to: /Users/nataliajimenez/Documents/Master_IA/proyecto-grado-miad/app_tool/models/keras_model_monto/assets\n"
     ]
    },
    {
     "name": "stdout",
     "output_type": "stream",
     "text": [
      ".INFO:tensorflow:Assets written to: /Users/nataliajimenez/Documents/Master_IA/proyecto-grado-miad/app_tool/models/keras_model_monto/assets\n"
     ]
    },
    {
     "name": "stderr",
     "output_type": "stream",
     "text": [
      "INFO:tensorflow:Assets written to: /Users/nataliajimenez/Documents/Master_IA/proyecto-grado-miad/app_tool/models/keras_model_monto/assets\n"
     ]
    },
    {
     "name": "stdout",
     "output_type": "stream",
     "text": [
      ".INFO:tensorflow:Assets written to: /Users/nataliajimenez/Documents/Master_IA/proyecto-grado-miad/app_tool/models/keras_model_monto/assets\n"
     ]
    },
    {
     "name": "stderr",
     "output_type": "stream",
     "text": [
      "INFO:tensorflow:Assets written to: /Users/nataliajimenez/Documents/Master_IA/proyecto-grado-miad/app_tool/models/keras_model_monto/assets\n"
     ]
    },
    {
     "name": "stdout",
     "output_type": "stream",
     "text": [
      ".INFO:tensorflow:Assets written to: /Users/nataliajimenez/Documents/Master_IA/proyecto-grado-miad/app_tool/models/keras_model_monto/assets\n"
     ]
    },
    {
     "name": "stderr",
     "output_type": "stream",
     "text": [
      "INFO:tensorflow:Assets written to: /Users/nataliajimenez/Documents/Master_IA/proyecto-grado-miad/app_tool/models/keras_model_monto/assets\n"
     ]
    },
    {
     "name": "stdout",
     "output_type": "stream",
     "text": [
      ".INFO:tensorflow:Assets written to: /Users/nataliajimenez/Documents/Master_IA/proyecto-grado-miad/app_tool/models/keras_model_monto/assets\n"
     ]
    },
    {
     "name": "stderr",
     "output_type": "stream",
     "text": [
      "INFO:tensorflow:Assets written to: /Users/nataliajimenez/Documents/Master_IA/proyecto-grado-miad/app_tool/models/keras_model_monto/assets\n"
     ]
    },
    {
     "name": "stdout",
     "output_type": "stream",
     "text": [
      ".INFO:tensorflow:Assets written to: /Users/nataliajimenez/Documents/Master_IA/proyecto-grado-miad/app_tool/models/keras_model_monto/assets\n"
     ]
    },
    {
     "name": "stderr",
     "output_type": "stream",
     "text": [
      "INFO:tensorflow:Assets written to: /Users/nataliajimenez/Documents/Master_IA/proyecto-grado-miad/app_tool/models/keras_model_monto/assets\n"
     ]
    },
    {
     "name": "stdout",
     "output_type": "stream",
     "text": [
      ".INFO:tensorflow:Assets written to: /Users/nataliajimenez/Documents/Master_IA/proyecto-grado-miad/app_tool/models/keras_model_monto/assets\n"
     ]
    },
    {
     "name": "stderr",
     "output_type": "stream",
     "text": [
      "INFO:tensorflow:Assets written to: /Users/nataliajimenez/Documents/Master_IA/proyecto-grado-miad/app_tool/models/keras_model_monto/assets\n"
     ]
    },
    {
     "name": "stdout",
     "output_type": "stream",
     "text": [
      ".INFO:tensorflow:Assets written to: /Users/nataliajimenez/Documents/Master_IA/proyecto-grado-miad/app_tool/models/keras_model_monto/assets\n"
     ]
    },
    {
     "name": "stderr",
     "output_type": "stream",
     "text": [
      "INFO:tensorflow:Assets written to: /Users/nataliajimenez/Documents/Master_IA/proyecto-grado-miad/app_tool/models/keras_model_monto/assets\n"
     ]
    },
    {
     "name": "stdout",
     "output_type": "stream",
     "text": [
      ".INFO:tensorflow:Assets written to: /Users/nataliajimenez/Documents/Master_IA/proyecto-grado-miad/app_tool/models/keras_model_monto/assets\n"
     ]
    },
    {
     "name": "stderr",
     "output_type": "stream",
     "text": [
      "INFO:tensorflow:Assets written to: /Users/nataliajimenez/Documents/Master_IA/proyecto-grado-miad/app_tool/models/keras_model_monto/assets\n"
     ]
    },
    {
     "name": "stdout",
     "output_type": "stream",
     "text": [
      ".INFO:tensorflow:Assets written to: /Users/nataliajimenez/Documents/Master_IA/proyecto-grado-miad/app_tool/models/keras_model_monto/assets\n"
     ]
    },
    {
     "name": "stderr",
     "output_type": "stream",
     "text": [
      "INFO:tensorflow:Assets written to: /Users/nataliajimenez/Documents/Master_IA/proyecto-grado-miad/app_tool/models/keras_model_monto/assets\n"
     ]
    },
    {
     "name": "stdout",
     "output_type": "stream",
     "text": [
      ".INFO:tensorflow:Assets written to: /Users/nataliajimenez/Documents/Master_IA/proyecto-grado-miad/app_tool/models/keras_model_monto/assets\n"
     ]
    },
    {
     "name": "stderr",
     "output_type": "stream",
     "text": [
      "INFO:tensorflow:Assets written to: /Users/nataliajimenez/Documents/Master_IA/proyecto-grado-miad/app_tool/models/keras_model_monto/assets\n"
     ]
    },
    {
     "name": "stdout",
     "output_type": "stream",
     "text": [
      ".INFO:tensorflow:Assets written to: /Users/nataliajimenez/Documents/Master_IA/proyecto-grado-miad/app_tool/models/keras_model_monto/assets\n"
     ]
    },
    {
     "name": "stderr",
     "output_type": "stream",
     "text": [
      "INFO:tensorflow:Assets written to: /Users/nataliajimenez/Documents/Master_IA/proyecto-grado-miad/app_tool/models/keras_model_monto/assets\n"
     ]
    },
    {
     "name": "stdout",
     "output_type": "stream",
     "text": [
      ".INFO:tensorflow:Assets written to: /Users/nataliajimenez/Documents/Master_IA/proyecto-grado-miad/app_tool/models/keras_model_monto/assets\n"
     ]
    },
    {
     "name": "stderr",
     "output_type": "stream",
     "text": [
      "INFO:tensorflow:Assets written to: /Users/nataliajimenez/Documents/Master_IA/proyecto-grado-miad/app_tool/models/keras_model_monto/assets\n"
     ]
    },
    {
     "name": "stdout",
     "output_type": "stream",
     "text": [
      ".INFO:tensorflow:Assets written to: /Users/nataliajimenez/Documents/Master_IA/proyecto-grado-miad/app_tool/models/keras_model_monto/assets\n"
     ]
    },
    {
     "name": "stderr",
     "output_type": "stream",
     "text": [
      "INFO:tensorflow:Assets written to: /Users/nataliajimenez/Documents/Master_IA/proyecto-grado-miad/app_tool/models/keras_model_monto/assets\n"
     ]
    },
    {
     "name": "stdout",
     "output_type": "stream",
     "text": [
      ".INFO:tensorflow:Assets written to: /Users/nataliajimenez/Documents/Master_IA/proyecto-grado-miad/app_tool/models/keras_model_monto/assets\n"
     ]
    },
    {
     "name": "stderr",
     "output_type": "stream",
     "text": [
      "INFO:tensorflow:Assets written to: /Users/nataliajimenez/Documents/Master_IA/proyecto-grado-miad/app_tool/models/keras_model_monto/assets\n"
     ]
    },
    {
     "name": "stdout",
     "output_type": "stream",
     "text": [
      ".INFO:tensorflow:Assets written to: /Users/nataliajimenez/Documents/Master_IA/proyecto-grado-miad/app_tool/models/keras_model_monto/assets\n"
     ]
    },
    {
     "name": "stderr",
     "output_type": "stream",
     "text": [
      "INFO:tensorflow:Assets written to: /Users/nataliajimenez/Documents/Master_IA/proyecto-grado-miad/app_tool/models/keras_model_monto/assets\n"
     ]
    },
    {
     "name": "stdout",
     "output_type": "stream",
     "text": [
      ".INFO:tensorflow:Assets written to: /Users/nataliajimenez/Documents/Master_IA/proyecto-grado-miad/app_tool/models/keras_model_monto/assets\n"
     ]
    },
    {
     "name": "stderr",
     "output_type": "stream",
     "text": [
      "INFO:tensorflow:Assets written to: /Users/nataliajimenez/Documents/Master_IA/proyecto-grado-miad/app_tool/models/keras_model_monto/assets\n"
     ]
    },
    {
     "name": "stdout",
     "output_type": "stream",
     "text": [
      ".INFO:tensorflow:Assets written to: /Users/nataliajimenez/Documents/Master_IA/proyecto-grado-miad/app_tool/models/keras_model_monto/assets\n"
     ]
    },
    {
     "name": "stderr",
     "output_type": "stream",
     "text": [
      "INFO:tensorflow:Assets written to: /Users/nataliajimenez/Documents/Master_IA/proyecto-grado-miad/app_tool/models/keras_model_monto/assets\n"
     ]
    },
    {
     "name": "stdout",
     "output_type": "stream",
     "text": [
      ".INFO:tensorflow:Assets written to: /Users/nataliajimenez/Documents/Master_IA/proyecto-grado-miad/app_tool/models/keras_model_monto/assets\n"
     ]
    },
    {
     "name": "stderr",
     "output_type": "stream",
     "text": [
      "INFO:tensorflow:Assets written to: /Users/nataliajimenez/Documents/Master_IA/proyecto-grado-miad/app_tool/models/keras_model_monto/assets\n"
     ]
    },
    {
     "name": "stdout",
     "output_type": "stream",
     "text": [
      ".INFO:tensorflow:Assets written to: /Users/nataliajimenez/Documents/Master_IA/proyecto-grado-miad/app_tool/models/keras_model_monto/assets\n"
     ]
    },
    {
     "name": "stderr",
     "output_type": "stream",
     "text": [
      "INFO:tensorflow:Assets written to: /Users/nataliajimenez/Documents/Master_IA/proyecto-grado-miad/app_tool/models/keras_model_monto/assets\n"
     ]
    },
    {
     "name": "stdout",
     "output_type": "stream",
     "text": [
      ".INFO:tensorflow:Assets written to: /Users/nataliajimenez/Documents/Master_IA/proyecto-grado-miad/app_tool/models/keras_model_monto/assets\n"
     ]
    },
    {
     "name": "stderr",
     "output_type": "stream",
     "text": [
      "INFO:tensorflow:Assets written to: /Users/nataliajimenez/Documents/Master_IA/proyecto-grado-miad/app_tool/models/keras_model_monto/assets\n"
     ]
    },
    {
     "name": "stdout",
     "output_type": "stream",
     "text": [
      ".INFO:tensorflow:Assets written to: /Users/nataliajimenez/Documents/Master_IA/proyecto-grado-miad/app_tool/models/keras_model_monto/assets\n"
     ]
    },
    {
     "name": "stderr",
     "output_type": "stream",
     "text": [
      "INFO:tensorflow:Assets written to: /Users/nataliajimenez/Documents/Master_IA/proyecto-grado-miad/app_tool/models/keras_model_monto/assets\n"
     ]
    },
    {
     "name": "stdout",
     "output_type": "stream",
     "text": [
      ".INFO:tensorflow:Assets written to: /Users/nataliajimenez/Documents/Master_IA/proyecto-grado-miad/app_tool/models/keras_model_monto/assets\n"
     ]
    },
    {
     "name": "stderr",
     "output_type": "stream",
     "text": [
      "INFO:tensorflow:Assets written to: /Users/nataliajimenez/Documents/Master_IA/proyecto-grado-miad/app_tool/models/keras_model_monto/assets\n"
     ]
    },
    {
     "name": "stdout",
     "output_type": "stream",
     "text": [
      ".INFO:tensorflow:Assets written to: /Users/nataliajimenez/Documents/Master_IA/proyecto-grado-miad/app_tool/models/keras_model_monto/assets\n"
     ]
    },
    {
     "name": "stderr",
     "output_type": "stream",
     "text": [
      "INFO:tensorflow:Assets written to: /Users/nataliajimenez/Documents/Master_IA/proyecto-grado-miad/app_tool/models/keras_model_monto/assets\n"
     ]
    },
    {
     "name": "stdout",
     "output_type": "stream",
     "text": [
      ".INFO:tensorflow:Assets written to: /Users/nataliajimenez/Documents/Master_IA/proyecto-grado-miad/app_tool/models/keras_model_monto/assets\n"
     ]
    },
    {
     "name": "stderr",
     "output_type": "stream",
     "text": [
      "INFO:tensorflow:Assets written to: /Users/nataliajimenez/Documents/Master_IA/proyecto-grado-miad/app_tool/models/keras_model_monto/assets\n"
     ]
    },
    {
     "name": "stdout",
     "output_type": "stream",
     "text": [
      ".INFO:tensorflow:Assets written to: /Users/nataliajimenez/Documents/Master_IA/proyecto-grado-miad/app_tool/models/keras_model_monto/assets\n"
     ]
    },
    {
     "name": "stderr",
     "output_type": "stream",
     "text": [
      "INFO:tensorflow:Assets written to: /Users/nataliajimenez/Documents/Master_IA/proyecto-grado-miad/app_tool/models/keras_model_monto/assets\n"
     ]
    },
    {
     "name": "stdout",
     "output_type": "stream",
     "text": [
      ".INFO:tensorflow:Assets written to: /Users/nataliajimenez/Documents/Master_IA/proyecto-grado-miad/app_tool/models/keras_model_monto/assets\n"
     ]
    },
    {
     "name": "stderr",
     "output_type": "stream",
     "text": [
      "INFO:tensorflow:Assets written to: /Users/nataliajimenez/Documents/Master_IA/proyecto-grado-miad/app_tool/models/keras_model_monto/assets\n"
     ]
    },
    {
     "name": "stdout",
     "output_type": "stream",
     "text": [
      ".INFO:tensorflow:Assets written to: /Users/nataliajimenez/Documents/Master_IA/proyecto-grado-miad/app_tool/models/keras_model_monto/assets\n"
     ]
    },
    {
     "name": "stderr",
     "output_type": "stream",
     "text": [
      "INFO:tensorflow:Assets written to: /Users/nataliajimenez/Documents/Master_IA/proyecto-grado-miad/app_tool/models/keras_model_monto/assets\n"
     ]
    },
    {
     "name": "stdout",
     "output_type": "stream",
     "text": [
      ".INFO:tensorflow:Assets written to: /Users/nataliajimenez/Documents/Master_IA/proyecto-grado-miad/app_tool/models/keras_model_monto/assets\n"
     ]
    },
    {
     "name": "stderr",
     "output_type": "stream",
     "text": [
      "INFO:tensorflow:Assets written to: /Users/nataliajimenez/Documents/Master_IA/proyecto-grado-miad/app_tool/models/keras_model_monto/assets\n"
     ]
    },
    {
     "name": "stdout",
     "output_type": "stream",
     "text": [
      ".INFO:tensorflow:Assets written to: /Users/nataliajimenez/Documents/Master_IA/proyecto-grado-miad/app_tool/models/keras_model_monto/assets\n"
     ]
    },
    {
     "name": "stderr",
     "output_type": "stream",
     "text": [
      "INFO:tensorflow:Assets written to: /Users/nataliajimenez/Documents/Master_IA/proyecto-grado-miad/app_tool/models/keras_model_monto/assets\n"
     ]
    },
    {
     "name": "stdout",
     "output_type": "stream",
     "text": [
      ".INFO:tensorflow:Assets written to: /Users/nataliajimenez/Documents/Master_IA/proyecto-grado-miad/app_tool/models/keras_model_monto/assets\n"
     ]
    },
    {
     "name": "stderr",
     "output_type": "stream",
     "text": [
      "INFO:tensorflow:Assets written to: /Users/nataliajimenez/Documents/Master_IA/proyecto-grado-miad/app_tool/models/keras_model_monto/assets\n"
     ]
    },
    {
     "name": "stdout",
     "output_type": "stream",
     "text": [
      ".INFO:tensorflow:Assets written to: /Users/nataliajimenez/Documents/Master_IA/proyecto-grado-miad/app_tool/models/keras_model_monto/assets\n"
     ]
    },
    {
     "name": "stderr",
     "output_type": "stream",
     "text": [
      "INFO:tensorflow:Assets written to: /Users/nataliajimenez/Documents/Master_IA/proyecto-grado-miad/app_tool/models/keras_model_monto/assets\n"
     ]
    },
    {
     "name": "stdout",
     "output_type": "stream",
     "text": [
      ".INFO:tensorflow:Assets written to: /Users/nataliajimenez/Documents/Master_IA/proyecto-grado-miad/app_tool/models/keras_model_monto/assets\n"
     ]
    },
    {
     "name": "stderr",
     "output_type": "stream",
     "text": [
      "INFO:tensorflow:Assets written to: /Users/nataliajimenez/Documents/Master_IA/proyecto-grado-miad/app_tool/models/keras_model_monto/assets\n"
     ]
    },
    {
     "name": "stdout",
     "output_type": "stream",
     "text": [
      ".INFO:tensorflow:Assets written to: /Users/nataliajimenez/Documents/Master_IA/proyecto-grado-miad/app_tool/models/keras_model_monto/assets\n"
     ]
    },
    {
     "name": "stderr",
     "output_type": "stream",
     "text": [
      "INFO:tensorflow:Assets written to: /Users/nataliajimenez/Documents/Master_IA/proyecto-grado-miad/app_tool/models/keras_model_monto/assets\n"
     ]
    },
    {
     "name": "stdout",
     "output_type": "stream",
     "text": [
      ".INFO:tensorflow:Assets written to: /Users/nataliajimenez/Documents/Master_IA/proyecto-grado-miad/app_tool/models/keras_model_monto/assets\n"
     ]
    },
    {
     "name": "stderr",
     "output_type": "stream",
     "text": [
      "INFO:tensorflow:Assets written to: /Users/nataliajimenez/Documents/Master_IA/proyecto-grado-miad/app_tool/models/keras_model_monto/assets\n"
     ]
    },
    {
     "name": "stdout",
     "output_type": "stream",
     "text": [
      ".INFO:tensorflow:Assets written to: /Users/nataliajimenez/Documents/Master_IA/proyecto-grado-miad/app_tool/models/keras_model_monto/assets\n"
     ]
    },
    {
     "name": "stderr",
     "output_type": "stream",
     "text": [
      "INFO:tensorflow:Assets written to: /Users/nataliajimenez/Documents/Master_IA/proyecto-grado-miad/app_tool/models/keras_model_monto/assets\n"
     ]
    },
    {
     "name": "stdout",
     "output_type": "stream",
     "text": [
      ".INFO:tensorflow:Assets written to: /Users/nataliajimenez/Documents/Master_IA/proyecto-grado-miad/app_tool/models/keras_model_monto/assets\n"
     ]
    },
    {
     "name": "stderr",
     "output_type": "stream",
     "text": [
      "INFO:tensorflow:Assets written to: /Users/nataliajimenez/Documents/Master_IA/proyecto-grado-miad/app_tool/models/keras_model_monto/assets\n"
     ]
    },
    {
     "name": "stdout",
     "output_type": "stream",
     "text": [
      ".INFO:tensorflow:Assets written to: /Users/nataliajimenez/Documents/Master_IA/proyecto-grado-miad/app_tool/models/keras_model_monto/assets\n"
     ]
    },
    {
     "name": "stderr",
     "output_type": "stream",
     "text": [
      "INFO:tensorflow:Assets written to: /Users/nataliajimenez/Documents/Master_IA/proyecto-grado-miad/app_tool/models/keras_model_monto/assets\n"
     ]
    },
    {
     "name": "stdout",
     "output_type": "stream",
     "text": [
      ".INFO:tensorflow:Assets written to: /Users/nataliajimenez/Documents/Master_IA/proyecto-grado-miad/app_tool/models/keras_model_monto/assets\n"
     ]
    },
    {
     "name": "stderr",
     "output_type": "stream",
     "text": [
      "INFO:tensorflow:Assets written to: /Users/nataliajimenez/Documents/Master_IA/proyecto-grado-miad/app_tool/models/keras_model_monto/assets\n"
     ]
    },
    {
     "name": "stdout",
     "output_type": "stream",
     "text": [
      ".INFO:tensorflow:Assets written to: /Users/nataliajimenez/Documents/Master_IA/proyecto-grado-miad/app_tool/models/keras_model_monto/assets\n"
     ]
    },
    {
     "name": "stderr",
     "output_type": "stream",
     "text": [
      "INFO:tensorflow:Assets written to: /Users/nataliajimenez/Documents/Master_IA/proyecto-grado-miad/app_tool/models/keras_model_monto/assets\n"
     ]
    },
    {
     "name": "stdout",
     "output_type": "stream",
     "text": [
      ".INFO:tensorflow:Assets written to: /Users/nataliajimenez/Documents/Master_IA/proyecto-grado-miad/app_tool/models/keras_model_monto/assets\n"
     ]
    },
    {
     "name": "stderr",
     "output_type": "stream",
     "text": [
      "INFO:tensorflow:Assets written to: /Users/nataliajimenez/Documents/Master_IA/proyecto-grado-miad/app_tool/models/keras_model_monto/assets\n"
     ]
    },
    {
     "name": "stdout",
     "output_type": "stream",
     "text": [
      ".INFO:tensorflow:Assets written to: /Users/nataliajimenez/Documents/Master_IA/proyecto-grado-miad/app_tool/models/keras_model_monto/assets\n"
     ]
    },
    {
     "name": "stderr",
     "output_type": "stream",
     "text": [
      "INFO:tensorflow:Assets written to: /Users/nataliajimenez/Documents/Master_IA/proyecto-grado-miad/app_tool/models/keras_model_monto/assets\n"
     ]
    },
    {
     "name": "stdout",
     "output_type": "stream",
     "text": [
      ".INFO:tensorflow:Assets written to: /Users/nataliajimenez/Documents/Master_IA/proyecto-grado-miad/app_tool/models/keras_model_monto/assets\n"
     ]
    },
    {
     "name": "stderr",
     "output_type": "stream",
     "text": [
      "INFO:tensorflow:Assets written to: /Users/nataliajimenez/Documents/Master_IA/proyecto-grado-miad/app_tool/models/keras_model_monto/assets\n"
     ]
    },
    {
     "name": "stdout",
     "output_type": "stream",
     "text": [
      ".INFO:tensorflow:Assets written to: /Users/nataliajimenez/Documents/Master_IA/proyecto-grado-miad/app_tool/models/keras_model_monto/assets\n"
     ]
    },
    {
     "name": "stderr",
     "output_type": "stream",
     "text": [
      "INFO:tensorflow:Assets written to: /Users/nataliajimenez/Documents/Master_IA/proyecto-grado-miad/app_tool/models/keras_model_monto/assets\n"
     ]
    },
    {
     "name": "stdout",
     "output_type": "stream",
     "text": [
      ".INFO:tensorflow:Assets written to: /Users/nataliajimenez/Documents/Master_IA/proyecto-grado-miad/app_tool/models/keras_model_monto/assets\n"
     ]
    },
    {
     "name": "stderr",
     "output_type": "stream",
     "text": [
      "INFO:tensorflow:Assets written to: /Users/nataliajimenez/Documents/Master_IA/proyecto-grado-miad/app_tool/models/keras_model_monto/assets\n"
     ]
    },
    {
     "name": "stdout",
     "output_type": "stream",
     "text": [
      ".INFO:tensorflow:Assets written to: /Users/nataliajimenez/Documents/Master_IA/proyecto-grado-miad/app_tool/models/keras_model_monto/assets\n"
     ]
    },
    {
     "name": "stderr",
     "output_type": "stream",
     "text": [
      "INFO:tensorflow:Assets written to: /Users/nataliajimenez/Documents/Master_IA/proyecto-grado-miad/app_tool/models/keras_model_monto/assets\n"
     ]
    },
    {
     "name": "stdout",
     "output_type": "stream",
     "text": [
      ".INFO:tensorflow:Assets written to: /Users/nataliajimenez/Documents/Master_IA/proyecto-grado-miad/app_tool/models/keras_model_monto/assets\n"
     ]
    },
    {
     "name": "stderr",
     "output_type": "stream",
     "text": [
      "INFO:tensorflow:Assets written to: /Users/nataliajimenez/Documents/Master_IA/proyecto-grado-miad/app_tool/models/keras_model_monto/assets\n"
     ]
    },
    {
     "name": "stdout",
     "output_type": "stream",
     "text": [
      ".INFO:tensorflow:Assets written to: /Users/nataliajimenez/Documents/Master_IA/proyecto-grado-miad/app_tool/models/keras_model_monto/assets\n"
     ]
    },
    {
     "name": "stderr",
     "output_type": "stream",
     "text": [
      "INFO:tensorflow:Assets written to: /Users/nataliajimenez/Documents/Master_IA/proyecto-grado-miad/app_tool/models/keras_model_monto/assets\n"
     ]
    },
    {
     "name": "stdout",
     "output_type": "stream",
     "text": [
      ".INFO:tensorflow:Assets written to: /Users/nataliajimenez/Documents/Master_IA/proyecto-grado-miad/app_tool/models/keras_model_monto/assets\n"
     ]
    },
    {
     "name": "stderr",
     "output_type": "stream",
     "text": [
      "INFO:tensorflow:Assets written to: /Users/nataliajimenez/Documents/Master_IA/proyecto-grado-miad/app_tool/models/keras_model_monto/assets\n"
     ]
    },
    {
     "name": "stdout",
     "output_type": "stream",
     "text": [
      ".INFO:tensorflow:Assets written to: /Users/nataliajimenez/Documents/Master_IA/proyecto-grado-miad/app_tool/models/keras_model_monto/assets\n"
     ]
    },
    {
     "name": "stderr",
     "output_type": "stream",
     "text": [
      "INFO:tensorflow:Assets written to: /Users/nataliajimenez/Documents/Master_IA/proyecto-grado-miad/app_tool/models/keras_model_monto/assets\n"
     ]
    },
    {
     "name": "stdout",
     "output_type": "stream",
     "text": [
      ".INFO:tensorflow:Assets written to: /Users/nataliajimenez/Documents/Master_IA/proyecto-grado-miad/app_tool/models/keras_model_monto/assets\n"
     ]
    },
    {
     "name": "stderr",
     "output_type": "stream",
     "text": [
      "INFO:tensorflow:Assets written to: /Users/nataliajimenez/Documents/Master_IA/proyecto-grado-miad/app_tool/models/keras_model_monto/assets\n"
     ]
    },
    {
     "name": "stdout",
     "output_type": "stream",
     "text": [
      ".INFO:tensorflow:Assets written to: /Users/nataliajimenez/Documents/Master_IA/proyecto-grado-miad/app_tool/models/keras_model_monto/assets\n"
     ]
    },
    {
     "name": "stderr",
     "output_type": "stream",
     "text": [
      "INFO:tensorflow:Assets written to: /Users/nataliajimenez/Documents/Master_IA/proyecto-grado-miad/app_tool/models/keras_model_monto/assets\n"
     ]
    },
    {
     "name": "stdout",
     "output_type": "stream",
     "text": [
      ".INFO:tensorflow:Assets written to: /Users/nataliajimenez/Documents/Master_IA/proyecto-grado-miad/app_tool/models/keras_model_monto/assets\n"
     ]
    },
    {
     "name": "stderr",
     "output_type": "stream",
     "text": [
      "INFO:tensorflow:Assets written to: /Users/nataliajimenez/Documents/Master_IA/proyecto-grado-miad/app_tool/models/keras_model_monto/assets\n"
     ]
    },
    {
     "name": "stdout",
     "output_type": "stream",
     "text": [
      ".INFO:tensorflow:Assets written to: /Users/nataliajimenez/Documents/Master_IA/proyecto-grado-miad/app_tool/models/keras_model_monto/assets\n"
     ]
    },
    {
     "name": "stderr",
     "output_type": "stream",
     "text": [
      "INFO:tensorflow:Assets written to: /Users/nataliajimenez/Documents/Master_IA/proyecto-grado-miad/app_tool/models/keras_model_monto/assets\n"
     ]
    },
    {
     "name": "stdout",
     "output_type": "stream",
     "text": [
      ".INFO:tensorflow:Assets written to: /Users/nataliajimenez/Documents/Master_IA/proyecto-grado-miad/app_tool/models/keras_model_monto/assets\n"
     ]
    },
    {
     "name": "stderr",
     "output_type": "stream",
     "text": [
      "INFO:tensorflow:Assets written to: /Users/nataliajimenez/Documents/Master_IA/proyecto-grado-miad/app_tool/models/keras_model_monto/assets\n"
     ]
    },
    {
     "name": "stdout",
     "output_type": "stream",
     "text": [
      ".INFO:tensorflow:Assets written to: /Users/nataliajimenez/Documents/Master_IA/proyecto-grado-miad/app_tool/models/keras_model_monto/assets\n"
     ]
    },
    {
     "name": "stderr",
     "output_type": "stream",
     "text": [
      "INFO:tensorflow:Assets written to: /Users/nataliajimenez/Documents/Master_IA/proyecto-grado-miad/app_tool/models/keras_model_monto/assets\n"
     ]
    },
    {
     "name": "stdout",
     "output_type": "stream",
     "text": [
      ".INFO:tensorflow:Assets written to: /Users/nataliajimenez/Documents/Master_IA/proyecto-grado-miad/app_tool/models/keras_model_monto/assets\n"
     ]
    },
    {
     "name": "stderr",
     "output_type": "stream",
     "text": [
      "INFO:tensorflow:Assets written to: /Users/nataliajimenez/Documents/Master_IA/proyecto-grado-miad/app_tool/models/keras_model_monto/assets\n"
     ]
    },
    {
     "name": "stdout",
     "output_type": "stream",
     "text": [
      ".INFO:tensorflow:Assets written to: /Users/nataliajimenez/Documents/Master_IA/proyecto-grado-miad/app_tool/models/keras_model_monto/assets\n"
     ]
    },
    {
     "name": "stderr",
     "output_type": "stream",
     "text": [
      "INFO:tensorflow:Assets written to: /Users/nataliajimenez/Documents/Master_IA/proyecto-grado-miad/app_tool/models/keras_model_monto/assets\n"
     ]
    },
    {
     "name": "stdout",
     "output_type": "stream",
     "text": [
      ".INFO:tensorflow:Assets written to: /Users/nataliajimenez/Documents/Master_IA/proyecto-grado-miad/app_tool/models/keras_model_monto/assets\n"
     ]
    },
    {
     "name": "stderr",
     "output_type": "stream",
     "text": [
      "INFO:tensorflow:Assets written to: /Users/nataliajimenez/Documents/Master_IA/proyecto-grado-miad/app_tool/models/keras_model_monto/assets\n"
     ]
    },
    {
     "name": "stdout",
     "output_type": "stream",
     "text": [
      ".INFO:tensorflow:Assets written to: /Users/nataliajimenez/Documents/Master_IA/proyecto-grado-miad/app_tool/models/keras_model_monto/assets\n"
     ]
    },
    {
     "name": "stderr",
     "output_type": "stream",
     "text": [
      "INFO:tensorflow:Assets written to: /Users/nataliajimenez/Documents/Master_IA/proyecto-grado-miad/app_tool/models/keras_model_monto/assets\n"
     ]
    },
    {
     "name": "stdout",
     "output_type": "stream",
     "text": [
      ".INFO:tensorflow:Assets written to: /Users/nataliajimenez/Documents/Master_IA/proyecto-grado-miad/app_tool/models/keras_model_monto/assets\n"
     ]
    },
    {
     "name": "stderr",
     "output_type": "stream",
     "text": [
      "INFO:tensorflow:Assets written to: /Users/nataliajimenez/Documents/Master_IA/proyecto-grado-miad/app_tool/models/keras_model_monto/assets\n"
     ]
    },
    {
     "name": "stdout",
     "output_type": "stream",
     "text": [
      ".INFO:tensorflow:Assets written to: /Users/nataliajimenez/Documents/Master_IA/proyecto-grado-miad/app_tool/models/keras_model_monto/assets\n"
     ]
    },
    {
     "name": "stderr",
     "output_type": "stream",
     "text": [
      "INFO:tensorflow:Assets written to: /Users/nataliajimenez/Documents/Master_IA/proyecto-grado-miad/app_tool/models/keras_model_monto/assets\n"
     ]
    },
    {
     "name": "stdout",
     "output_type": "stream",
     "text": [
      ".INFO:tensorflow:Assets written to: /Users/nataliajimenez/Documents/Master_IA/proyecto-grado-miad/app_tool/models/keras_model_monto/assets\n"
     ]
    },
    {
     "name": "stderr",
     "output_type": "stream",
     "text": [
      "INFO:tensorflow:Assets written to: /Users/nataliajimenez/Documents/Master_IA/proyecto-grado-miad/app_tool/models/keras_model_monto/assets\n"
     ]
    },
    {
     "name": "stdout",
     "output_type": "stream",
     "text": [
      ".INFO:tensorflow:Assets written to: /Users/nataliajimenez/Documents/Master_IA/proyecto-grado-miad/app_tool/models/keras_model_monto/assets\n"
     ]
    },
    {
     "name": "stderr",
     "output_type": "stream",
     "text": [
      "INFO:tensorflow:Assets written to: /Users/nataliajimenez/Documents/Master_IA/proyecto-grado-miad/app_tool/models/keras_model_monto/assets\n"
     ]
    },
    {
     "name": "stdout",
     "output_type": "stream",
     "text": [
      ".INFO:tensorflow:Assets written to: /Users/nataliajimenez/Documents/Master_IA/proyecto-grado-miad/app_tool/models/keras_model_monto/assets\n"
     ]
    },
    {
     "name": "stderr",
     "output_type": "stream",
     "text": [
      "INFO:tensorflow:Assets written to: /Users/nataliajimenez/Documents/Master_IA/proyecto-grado-miad/app_tool/models/keras_model_monto/assets\n"
     ]
    },
    {
     "name": "stdout",
     "output_type": "stream",
     "text": [
      ".INFO:tensorflow:Assets written to: /Users/nataliajimenez/Documents/Master_IA/proyecto-grado-miad/app_tool/models/keras_model_monto/assets\n"
     ]
    },
    {
     "name": "stderr",
     "output_type": "stream",
     "text": [
      "INFO:tensorflow:Assets written to: /Users/nataliajimenez/Documents/Master_IA/proyecto-grado-miad/app_tool/models/keras_model_monto/assets\n"
     ]
    },
    {
     "name": "stdout",
     "output_type": "stream",
     "text": [
      ".INFO:tensorflow:Assets written to: /Users/nataliajimenez/Documents/Master_IA/proyecto-grado-miad/app_tool/models/keras_model_monto/assets\n"
     ]
    },
    {
     "name": "stderr",
     "output_type": "stream",
     "text": [
      "INFO:tensorflow:Assets written to: /Users/nataliajimenez/Documents/Master_IA/proyecto-grado-miad/app_tool/models/keras_model_monto/assets\n"
     ]
    },
    {
     "name": "stdout",
     "output_type": "stream",
     "text": [
      ".INFO:tensorflow:Assets written to: /Users/nataliajimenez/Documents/Master_IA/proyecto-grado-miad/app_tool/models/keras_model_monto/assets\n"
     ]
    },
    {
     "name": "stderr",
     "output_type": "stream",
     "text": [
      "INFO:tensorflow:Assets written to: /Users/nataliajimenez/Documents/Master_IA/proyecto-grado-miad/app_tool/models/keras_model_monto/assets\n"
     ]
    },
    {
     "name": "stdout",
     "output_type": "stream",
     "text": [
      ".INFO:tensorflow:Assets written to: /Users/nataliajimenez/Documents/Master_IA/proyecto-grado-miad/app_tool/models/keras_model_monto/assets\n"
     ]
    },
    {
     "name": "stderr",
     "output_type": "stream",
     "text": [
      "INFO:tensorflow:Assets written to: /Users/nataliajimenez/Documents/Master_IA/proyecto-grado-miad/app_tool/models/keras_model_monto/assets\n"
     ]
    },
    {
     "name": "stdout",
     "output_type": "stream",
     "text": [
      ".INFO:tensorflow:Assets written to: /Users/nataliajimenez/Documents/Master_IA/proyecto-grado-miad/app_tool/models/keras_model_monto/assets\n"
     ]
    },
    {
     "name": "stderr",
     "output_type": "stream",
     "text": [
      "INFO:tensorflow:Assets written to: /Users/nataliajimenez/Documents/Master_IA/proyecto-grado-miad/app_tool/models/keras_model_monto/assets\n"
     ]
    },
    {
     "name": "stdout",
     "output_type": "stream",
     "text": [
      ".INFO:tensorflow:Assets written to: /Users/nataliajimenez/Documents/Master_IA/proyecto-grado-miad/app_tool/models/keras_model_monto/assets\n"
     ]
    },
    {
     "name": "stderr",
     "output_type": "stream",
     "text": [
      "INFO:tensorflow:Assets written to: /Users/nataliajimenez/Documents/Master_IA/proyecto-grado-miad/app_tool/models/keras_model_monto/assets\n"
     ]
    },
    {
     "name": "stdout",
     "output_type": "stream",
     "text": [
      ".INFO:tensorflow:Assets written to: /Users/nataliajimenez/Documents/Master_IA/proyecto-grado-miad/app_tool/models/keras_model_monto/assets\n"
     ]
    },
    {
     "name": "stderr",
     "output_type": "stream",
     "text": [
      "INFO:tensorflow:Assets written to: /Users/nataliajimenez/Documents/Master_IA/proyecto-grado-miad/app_tool/models/keras_model_monto/assets\n"
     ]
    },
    {
     "name": "stdout",
     "output_type": "stream",
     "text": [
      ".INFO:tensorflow:Assets written to: /Users/nataliajimenez/Documents/Master_IA/proyecto-grado-miad/app_tool/models/keras_model_monto/assets\n"
     ]
    },
    {
     "name": "stderr",
     "output_type": "stream",
     "text": [
      "INFO:tensorflow:Assets written to: /Users/nataliajimenez/Documents/Master_IA/proyecto-grado-miad/app_tool/models/keras_model_monto/assets\n"
     ]
    },
    {
     "name": "stdout",
     "output_type": "stream",
     "text": [
      ".INFO:tensorflow:Assets written to: /Users/nataliajimenez/Documents/Master_IA/proyecto-grado-miad/app_tool/models/keras_model_monto/assets\n"
     ]
    },
    {
     "name": "stderr",
     "output_type": "stream",
     "text": [
      "INFO:tensorflow:Assets written to: /Users/nataliajimenez/Documents/Master_IA/proyecto-grado-miad/app_tool/models/keras_model_monto/assets\n"
     ]
    },
    {
     "name": "stdout",
     "output_type": "stream",
     "text": [
      ".INFO:tensorflow:Assets written to: /Users/nataliajimenez/Documents/Master_IA/proyecto-grado-miad/app_tool/models/keras_model_monto/assets\n"
     ]
    },
    {
     "name": "stderr",
     "output_type": "stream",
     "text": [
      "INFO:tensorflow:Assets written to: /Users/nataliajimenez/Documents/Master_IA/proyecto-grado-miad/app_tool/models/keras_model_monto/assets\n"
     ]
    },
    {
     "name": "stdout",
     "output_type": "stream",
     "text": [
      ".INFO:tensorflow:Assets written to: /Users/nataliajimenez/Documents/Master_IA/proyecto-grado-miad/app_tool/models/keras_model_monto/assets\n"
     ]
    },
    {
     "name": "stderr",
     "output_type": "stream",
     "text": [
      "INFO:tensorflow:Assets written to: /Users/nataliajimenez/Documents/Master_IA/proyecto-grado-miad/app_tool/models/keras_model_monto/assets\n"
     ]
    },
    {
     "name": "stdout",
     "output_type": "stream",
     "text": [
      ".INFO:tensorflow:Assets written to: /Users/nataliajimenez/Documents/Master_IA/proyecto-grado-miad/app_tool/models/keras_model_monto/assets\n"
     ]
    },
    {
     "name": "stderr",
     "output_type": "stream",
     "text": [
      "INFO:tensorflow:Assets written to: /Users/nataliajimenez/Documents/Master_IA/proyecto-grado-miad/app_tool/models/keras_model_monto/assets\n"
     ]
    },
    {
     "name": "stdout",
     "output_type": "stream",
     "text": [
      ".INFO:tensorflow:Assets written to: /Users/nataliajimenez/Documents/Master_IA/proyecto-grado-miad/app_tool/models/keras_model_monto/assets\n"
     ]
    },
    {
     "name": "stderr",
     "output_type": "stream",
     "text": [
      "INFO:tensorflow:Assets written to: /Users/nataliajimenez/Documents/Master_IA/proyecto-grado-miad/app_tool/models/keras_model_monto/assets\n"
     ]
    },
    {
     "name": "stdout",
     "output_type": "stream",
     "text": [
      ".INFO:tensorflow:Assets written to: /Users/nataliajimenez/Documents/Master_IA/proyecto-grado-miad/app_tool/models/keras_model_monto/assets\n"
     ]
    },
    {
     "name": "stderr",
     "output_type": "stream",
     "text": [
      "INFO:tensorflow:Assets written to: /Users/nataliajimenez/Documents/Master_IA/proyecto-grado-miad/app_tool/models/keras_model_monto/assets\n"
     ]
    },
    {
     "name": "stdout",
     "output_type": "stream",
     "text": [
      ".INFO:tensorflow:Assets written to: /Users/nataliajimenez/Documents/Master_IA/proyecto-grado-miad/app_tool/models/keras_model_monto/assets\n"
     ]
    },
    {
     "name": "stderr",
     "output_type": "stream",
     "text": [
      "INFO:tensorflow:Assets written to: /Users/nataliajimenez/Documents/Master_IA/proyecto-grado-miad/app_tool/models/keras_model_monto/assets\n"
     ]
    },
    {
     "name": "stdout",
     "output_type": "stream",
     "text": [
      ".INFO:tensorflow:Assets written to: /Users/nataliajimenez/Documents/Master_IA/proyecto-grado-miad/app_tool/models/keras_model_monto/assets\n"
     ]
    },
    {
     "name": "stderr",
     "output_type": "stream",
     "text": [
      "INFO:tensorflow:Assets written to: /Users/nataliajimenez/Documents/Master_IA/proyecto-grado-miad/app_tool/models/keras_model_monto/assets\n"
     ]
    },
    {
     "name": "stdout",
     "output_type": "stream",
     "text": [
      ".INFO:tensorflow:Assets written to: /Users/nataliajimenez/Documents/Master_IA/proyecto-grado-miad/app_tool/models/keras_model_monto/assets\n"
     ]
    },
    {
     "name": "stderr",
     "output_type": "stream",
     "text": [
      "INFO:tensorflow:Assets written to: /Users/nataliajimenez/Documents/Master_IA/proyecto-grado-miad/app_tool/models/keras_model_monto/assets\n"
     ]
    },
    {
     "name": "stdout",
     "output_type": "stream",
     "text": [
      ".INFO:tensorflow:Assets written to: /Users/nataliajimenez/Documents/Master_IA/proyecto-grado-miad/app_tool/models/keras_model_monto/assets\n"
     ]
    },
    {
     "name": "stderr",
     "output_type": "stream",
     "text": [
      "INFO:tensorflow:Assets written to: /Users/nataliajimenez/Documents/Master_IA/proyecto-grado-miad/app_tool/models/keras_model_monto/assets\n"
     ]
    },
    {
     "name": "stdout",
     "output_type": "stream",
     "text": [
      ".INFO:tensorflow:Assets written to: /Users/nataliajimenez/Documents/Master_IA/proyecto-grado-miad/app_tool/models/keras_model_monto/assets\n"
     ]
    },
    {
     "name": "stderr",
     "output_type": "stream",
     "text": [
      "INFO:tensorflow:Assets written to: /Users/nataliajimenez/Documents/Master_IA/proyecto-grado-miad/app_tool/models/keras_model_monto/assets\n"
     ]
    },
    {
     "name": "stdout",
     "output_type": "stream",
     "text": [
      ".INFO:tensorflow:Assets written to: /Users/nataliajimenez/Documents/Master_IA/proyecto-grado-miad/app_tool/models/keras_model_monto/assets\n"
     ]
    },
    {
     "name": "stderr",
     "output_type": "stream",
     "text": [
      "INFO:tensorflow:Assets written to: /Users/nataliajimenez/Documents/Master_IA/proyecto-grado-miad/app_tool/models/keras_model_monto/assets\n"
     ]
    },
    {
     "name": "stdout",
     "output_type": "stream",
     "text": [
      ".INFO:tensorflow:Assets written to: /Users/nataliajimenez/Documents/Master_IA/proyecto-grado-miad/app_tool/models/keras_model_monto/assets\n"
     ]
    },
    {
     "name": "stderr",
     "output_type": "stream",
     "text": [
      "INFO:tensorflow:Assets written to: /Users/nataliajimenez/Documents/Master_IA/proyecto-grado-miad/app_tool/models/keras_model_monto/assets\n"
     ]
    }
   ],
   "source": [
    "class PrintDot(keras.callbacks.Callback):\n",
    "  def on_epoch_end(self, epoch, logs):\n",
    "    if epoch % 100 == 0: print('')\n",
    "    print('.', end='')\n",
    "\n",
    "EPOCHS = 200\n",
    "\n",
    "from keras import backend as K\n",
    "train_data = K.cast_to_floatx(train_data)\n",
    "train_labels = K.cast_to_floatx(train_labels)\n",
    "\n",
    "history = model.fit(\n",
    "  train_data, train_labels,\n",
    "  epochs=EPOCHS, validation_split = 0.2, verbose=0,\n",
    "  callbacks=[PrintDot(), mc])"
   ]
  },
  {
   "cell_type": "code",
   "execution_count": 19,
   "metadata": {},
   "outputs": [
    {
     "name": "stdout",
     "output_type": "stream",
     "text": [
      "             loss           mae           mse      val_loss       val_mae  \\\n",
      "0    4.661429e+13  7.436680e+05  4.661429e+13  2.207416e+14  9.247009e+05   \n",
      "1    4.661426e+13  7.436731e+05  4.661426e+13  2.207416e+14  9.247082e+05   \n",
      "2    4.661423e+13  7.436841e+05  4.661423e+13  2.207415e+14  9.247216e+05   \n",
      "3    4.661419e+13  7.437028e+05  4.661419e+13  2.207415e+14  9.247439e+05   \n",
      "4    4.661412e+13  7.437302e+05  4.661412e+13  2.207413e+14  9.247781e+05   \n",
      "..            ...           ...           ...           ...           ...   \n",
      "195  4.492643e+13  1.175520e+06  4.492643e+13  2.185298e+14  1.338129e+06   \n",
      "196  4.492102e+13  1.175078e+06  4.492102e+13  2.185214e+14  1.337817e+06   \n",
      "197  4.491487e+13  1.175164e+06  4.491487e+13  2.185127e+14  1.337594e+06   \n",
      "198  4.490829e+13  1.175102e+06  4.490829e+13  2.185033e+14  1.337591e+06   \n",
      "199  4.490235e+13  1.175081e+06  4.490235e+13  2.184947e+14  1.337444e+06   \n",
      "\n",
      "          val_mse  epoch  \n",
      "0    2.207416e+14      0  \n",
      "1    2.207416e+14      1  \n",
      "2    2.207415e+14      2  \n",
      "3    2.207415e+14      3  \n",
      "4    2.207413e+14      4  \n",
      "..            ...    ...  \n",
      "195  2.185298e+14    195  \n",
      "196  2.185214e+14    196  \n",
      "197  2.185127e+14    197  \n",
      "198  2.185033e+14    198  \n",
      "199  2.184947e+14    199  \n",
      "\n",
      "[200 rows x 7 columns]\n"
     ]
    }
   ],
   "source": [
    "hist = pd.DataFrame(history.history)\n",
    "hist['epoch'] = history.epoch\n",
    "print(hist)"
   ]
  },
  {
   "cell_type": "code",
   "execution_count": 20,
   "metadata": {
    "ExecuteTime": {
     "end_time": "2023-05-21T14:38:17.468126Z",
     "start_time": "2023-05-21T14:38:15.997407Z"
    }
   },
   "outputs": [
    {
     "data": {
      "image/png": "[encoded data removed]",
      "text/plain": [
       "<Figure size 640x480 with 1 Axes>"
      ]
     },
     "metadata": {},
     "output_type": "display_data"
    },
    {
     "data": {
      "image/png": "[encoded data removed]",
      "text/plain": [
       "<Figure size 640x480 with 1 Axes>"
      ]
     },
     "metadata": {},
     "output_type": "display_data"
    }
   ],
   "source": [
    "def plot_history(history):\n",
    "  hist = pd.DataFrame(history.history)\n",
    "  hist['epoch'] = history.epoch\n",
    "\n",
    "  plt.figure()\n",
    "  plt.xlabel('Epoch')\n",
    "  plt.ylabel('Mean Abs Error [valor_total_de_adiciones]')\n",
    "  plt.plot(hist['epoch'], hist['mae'],\n",
    "           label='Train Error')\n",
    "  plt.plot(hist['epoch'], hist['val_mae'],\n",
    "           label = 'Val Error')\n",
    "  plt.legend()\n",
    "\n",
    "  plt.figure()\n",
    "  plt.xlabel('Epoch')\n",
    "  plt.ylabel('Mean Square Error [$valor_total_de_adiciones^2$]')\n",
    "  plt.plot(hist['epoch'], hist['mse'],\n",
    "           label='Train Error')\n",
    "  plt.plot(hist['epoch'], hist['val_mse'],\n",
    "           label = 'Val Error')\n",
    "  plt.legend()\n",
    "  plt.show()\n",
    "\n",
    "\n",
    "plot_history(history)"
   ]
  },
  {
   "cell_type": "code",
   "execution_count": 40,
   "metadata": {
    "ExecuteTime": {
     "end_time": "2023-05-21T14:38:18.085056Z",
     "start_time": "2023-05-21T14:38:17.539673Z"
    }
   },
   "outputs": [
    {
     "name": "stdout",
     "output_type": "stream",
     "text": [
      "42/42 [==============================] - 0s 348us/step\n"
     ]
    },
    {
     "data": {
      "text/html": [
       "<div>\n",
       "<style scoped>\n",
       "    .dataframe tbody tr th:only-of-type {\n",
       "        vertical-align: middle;\n",
       "    }\n",
       "\n",
       "    .dataframe tbody tr th {\n",
       "        vertical-align: top;\n",
       "    }\n",
       "\n",
       "    .dataframe thead th {\n",
       "        text-align: right;\n",
       "    }\n",
       "</style>\n",
       "<table border=\"1\" class=\"dataframe\">\n",
       "  <thead>\n",
       "    <tr style=\"text-align: right;\">\n",
       "      <th></th>\n",
       "      <th>resultados</th>\n",
       "    </tr>\n",
       "  </thead>\n",
       "  <tbody>\n",
       "    <tr>\n",
       "      <th>0</th>\n",
       "      <td>6839354.0</td>\n",
       "    </tr>\n",
       "    <tr>\n",
       "      <th>1</th>\n",
       "      <td>6847374.5</td>\n",
       "    </tr>\n",
       "    <tr>\n",
       "      <th>2</th>\n",
       "      <td>7167595.5</td>\n",
       "    </tr>\n",
       "    <tr>\n",
       "      <th>3</th>\n",
       "      <td>6015085.5</td>\n",
       "    </tr>\n",
       "    <tr>\n",
       "      <th>4</th>\n",
       "      <td>7477883.0</td>\n",
       "    </tr>\n",
       "    <tr>\n",
       "      <th>...</th>\n",
       "      <td>...</td>\n",
       "    </tr>\n",
       "    <tr>\n",
       "      <th>1323</th>\n",
       "      <td>6936737.0</td>\n",
       "    </tr>\n",
       "    <tr>\n",
       "      <th>1324</th>\n",
       "      <td>5569015.0</td>\n",
       "    </tr>\n",
       "    <tr>\n",
       "      <th>1325</th>\n",
       "      <td>5929912.0</td>\n",
       "    </tr>\n",
       "    <tr>\n",
       "      <th>1326</th>\n",
       "      <td>5891836.5</td>\n",
       "    </tr>\n",
       "    <tr>\n",
       "      <th>1327</th>\n",
       "      <td>6424813.5</td>\n",
       "    </tr>\n",
       "  </tbody>\n",
       "</table>\n",
       "<p>1328 rows × 1 columns</p>\n",
       "</div>"
      ],
      "text/plain": [
       "      resultados\n",
       "0      6839354.0\n",
       "1      6847374.5\n",
       "2      7167595.5\n",
       "3      6015085.5\n",
       "4      7477883.0\n",
       "...          ...\n",
       "1323   6936737.0\n",
       "1324   5569015.0\n",
       "1325   5929912.0\n",
       "1326   5891836.5\n",
       "1327   6424813.5\n",
       "\n",
       "[1328 rows x 1 columns]"
      ]
     },
     "execution_count": 40,
     "metadata": {},
     "output_type": "execute_result"
    }
   ],
   "source": [
    "example_result = model.predict(np.array(test_data[:]))\n",
    "resultados = pd.DataFrame(example_result)\n",
    "resultados.columns = ['resultados']\n",
    "resultados"
   ]
  },
  {
   "cell_type": "code",
   "execution_count": 43,
   "metadata": {
    "ExecuteTime": {
     "end_time": "2023-05-21T14:38:18.092269Z",
     "start_time": "2023-05-21T14:38:18.090913Z"
    }
   },
   "outputs": [],
   "source": [
    "test_labels = pd.DataFrame(test_labels)\n",
    "compare = pd.concat([resultados, test_labels], axis=1)\n",
    "compare = compare.fillna(0)"
   ]
  },
  {
   "cell_type": "code",
   "execution_count": 45,
   "metadata": {},
   "outputs": [
    {
     "data": {
      "text/html": [
       "<div>\n",
       "<style scoped>\n",
       "    .dataframe tbody tr th:only-of-type {\n",
       "        vertical-align: middle;\n",
       "    }\n",
       "\n",
       "    .dataframe tbody tr th {\n",
       "        vertical-align: top;\n",
       "    }\n",
       "\n",
       "    .dataframe thead th {\n",
       "        text-align: right;\n",
       "    }\n",
       "</style>\n",
       "<table border=\"1\" class=\"dataframe\">\n",
       "  <thead>\n",
       "    <tr style=\"text-align: right;\">\n",
       "      <th></th>\n",
       "      <th>valor_contrato_con_adiciones</th>\n",
       "    </tr>\n",
       "  </thead>\n",
       "  <tbody>\n",
       "    <tr>\n",
       "      <th>62</th>\n",
       "      <td>2987670</td>\n",
       "    </tr>\n",
       "    <tr>\n",
       "      <th>63</th>\n",
       "      <td>4413200</td>\n",
       "    </tr>\n",
       "    <tr>\n",
       "      <th>79</th>\n",
       "      <td>3971880</td>\n",
       "    </tr>\n",
       "    <tr>\n",
       "      <th>93</th>\n",
       "      <td>3530560</td>\n",
       "    </tr>\n",
       "    <tr>\n",
       "      <th>99</th>\n",
       "      <td>1765280</td>\n",
       "    </tr>\n",
       "    <tr>\n",
       "      <th>...</th>\n",
       "      <td>...</td>\n",
       "    </tr>\n",
       "    <tr>\n",
       "      <th>26414</th>\n",
       "      <td>350000</td>\n",
       "    </tr>\n",
       "    <tr>\n",
       "      <th>26447</th>\n",
       "      <td>4743120</td>\n",
       "    </tr>\n",
       "    <tr>\n",
       "      <th>26472</th>\n",
       "      <td>300632</td>\n",
       "    </tr>\n",
       "    <tr>\n",
       "      <th>26478</th>\n",
       "      <td>0</td>\n",
       "    </tr>\n",
       "    <tr>\n",
       "      <th>26480</th>\n",
       "      <td>2228210</td>\n",
       "    </tr>\n",
       "  </tbody>\n",
       "</table>\n",
       "<p>1328 rows × 1 columns</p>\n",
       "</div>"
      ],
      "text/plain": [
       "       valor_contrato_con_adiciones\n",
       "62                          2987670\n",
       "63                          4413200\n",
       "79                          3971880\n",
       "93                          3530560\n",
       "99                          1765280\n",
       "...                             ...\n",
       "26414                        350000\n",
       "26447                       4743120\n",
       "26472                        300632\n",
       "26478                             0\n",
       "26480                       2228210\n",
       "\n",
       "[1328 rows x 1 columns]"
      ]
     },
     "execution_count": 45,
     "metadata": {},
     "output_type": "execute_result"
    }
   ],
   "source": [
    "test_labels"
   ]
  },
  {
   "cell_type": "code",
   "execution_count": 47,
   "metadata": {
    "ExecuteTime": {
     "end_time": "2023-05-21T14:38:18.127894Z",
     "start_time": "2023-05-21T14:38:18.093695Z"
    }
   },
   "outputs": [
    {
     "name": "stdout",
     "output_type": "stream",
     "text": [
      "El MSE test: 5.684695949979628e+16\n",
      "El MAE test: 15817450.541103821\n"
     ]
    }
   ],
   "source": [
    "from sklearn.metrics import mean_squared_error, mean_absolute_error\n",
    "\n",
    "mse_t = mean_squared_error(compare['resultados'], compare['valor_contrato_con_adiciones'])\n",
    "mae_t = mean_absolute_error(compare['resultados'], compare['valor_contrato_con_adiciones'])\n",
    "print(\"El MSE test:\", mse_t)\n",
    "print(\"El MAE test:\", mae_t)\n"
   ]
  },
  {
   "cell_type": "code",
   "execution_count": 53,
   "metadata": {
    "ExecuteTime": {
     "end_time": "2023-05-21T14:22:55.467814Z",
     "start_time": "2023-05-21T14:22:55.402406Z"
    }
   },
   "outputs": [
    {
     "name": "stdout",
     "output_type": "stream",
     "text": [
      "Coeficientes (m):\n",
      "m1: -5.521910190582275\n",
      "m2: -4.73265266418457\n",
      "m3: -3.624376058578491\n",
      "m4: -1.7713463306427002\n",
      "m5: -7.766342639923096\n",
      "m6: 2.1537187099456787\n",
      "m7: 1.6838548183441162\n",
      "m8: 12.38211727142334\n",
      "\n",
      "Sesgo (B):\n",
      "9.865838\n"
     ]
    }
   ],
   "source": [
    "weights = model.get_weights()[0]\n",
    "biases = model.get_weights()[1]\n",
    "\n",
    "# Imprimir los coeficientes\n",
    "print(\"Coeficientes (m):\")\n",
    "for i, w in enumerate(weights):\n",
    "    print(f\"m{i+1}: {w[0]}\")\n",
    "\n",
    "print(\"\")\n",
    "\n",
    "# Imprimir el sesgo (intercepto) (B)\n",
    "print(\"Sesgo (B):\")\n",
    "print(biases[0])"
   ]
  }
 ],
 "metadata": {
  "kernelspec": {
   "display_name": "Python 3 (ipykernel)",
   "language": "python",
   "name": "python3"
  },
  "language_info": {
   "codemirror_mode": {
    "name": "ipython",
    "version": 3
   },
   "file_extension": ".py",
   "mimetype": "text/x-python",
   "name": "python",
   "nbconvert_exporter": "python",
   "pygments_lexer": "ipython3",
   "version": "3.10.10"
  }
 },
 "nbformat": 4,
 "nbformat_minor": 1
}
