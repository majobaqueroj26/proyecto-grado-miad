{
 "cells": [
  {
   "cell_type": "code",
   "execution_count": 1,
   "outputs": [],
   "source": [
    "import tensorflow as tf\n",
    "from tensorflow import keras\n",
    "from tensorflow.keras import layers\n",
    "from sklearn.preprocessing import normalize\n",
    "\n",
    "\n",
    "import os\n",
    "import pathlib\n",
    "import sys\n",
    "import matplotlib.pyplot as plt\n",
    "from scipy import linalg\n",
    "\n",
    "\n",
    "sys.path.append(os.path.join(pathlib.Path(os.getcwd()).parent))\n",
    "import pandas as pd\n",
    "import numpy as np\n",
    "import matplotlib.pyplot as plt\n",
    "from datetime import datetime\n",
    "\n",
    "from utils.bq_conn import bq_conn_file\n",
    "# %%\n",
    "bq_client = bq_conn_file(project_id=\"dsa-miad-365616\")"
   ],
   "metadata": {
    "collapsed": false,
    "ExecuteTime": {
     "end_time": "2023-05-21T05:41:37.046904Z",
     "start_time": "2023-05-21T05:41:33.160113Z"
    }
   }
  },
  {
   "cell_type": "code",
   "execution_count": 2,
   "outputs": [
    {
     "data": {
      "text/plain": "Index(['uid', 'anno_cargue_secop', 'id_modalidad', 'modalidad_de_contratacion',\n       'estado_del_proceso', 'id_objeto_a_contratar',\n       'detalle_del_objeto_a_contratar', 'tipo_de_contrato',\n       'municipio_de_obtencion', 'municipios_ejecucion_',\n       'departamento_ejecucion', 'numero_de_proceso', 'numero_de_contrato',\n       'cuantia_proceso', 'id_grupo', 'nombre_grupo', 'id_familia',\n       'nombre_familia', 'id_clase', 'nombre_clase', 'id_adjudicacion',\n       'tipo_identifi_del_contratista', 'identificacion_del_contratista',\n       'nom_razon_social_contratista', 'tipo_doc_representante_legal',\n       'identific_representante_legal', 'plazo_de_ejec_del_contrato_',\n       'dias_ejec_final_contrato', 'rango_de_ejec_del_contrato', 'prorrogado',\n       'tiempo_adiciones_en_dias', 'cuantia_contrato', 'con_adicion_pptal',\n       'valor_total_de_adiciones', 'valor_contrato_con_adiciones', 'moneda',\n       'objeto_del_contrato_a_la', 'ruta_proceso_en_secop_i'],\n      dtype='object')"
     },
     "execution_count": 2,
     "metadata": {},
     "output_type": "execute_result"
    }
   ],
   "source": [
    "pd.options.display.max_columns = None\n",
    "\n",
    "query = '''\n",
    "SELECT\n",
    "    *\n",
    "FROM `Proyecto.DatosSecopI`\n",
    "ORDER BY anno_cargue_secop DESC\n",
    "'''\n",
    "bq_client = bq_conn_file(project_id=\"dsa-miad-365616\")\n",
    "secop_I = bq_client.execute_query(query=query)\n",
    "#print(f\"El número de filas del dataset: {secop_I.shape[0]}\\nEl número de columnas del dataset: {secop_I.shape[1]}\")\n",
    "secop_I.head(5)\n",
    "secop_I.columns\n",
    "\n",
    "\n"
   ],
   "metadata": {
    "collapsed": false,
    "ExecuteTime": {
     "end_time": "2023-05-21T05:41:41.214625Z",
     "start_time": "2023-05-21T05:41:37.047665Z"
    }
   }
  },
  {
   "cell_type": "code",
   "execution_count": 54,
   "outputs": [
    {
     "name": "stdout",
     "output_type": "stream",
     "text": [
      "<class 'pandas.core.frame.DataFrame'>\n",
      "RangeIndex: 26553 entries, 0 to 26552\n",
      "Data columns (total 7 columns):\n",
      " #   Column                    Non-Null Count  Dtype \n",
      "---  ------                    --------------  ----- \n",
      " 0   tipo_de_contrato          26553 non-null  object\n",
      " 1   departamento_ejecucion    26553 non-null  object\n",
      " 2   id_grupo                  26553 non-null  object\n",
      " 3   cuantia_proceso           26553 non-null  Int64 \n",
      " 4   id_objeto_a_contratar     26553 non-null  Int64 \n",
      " 5   dias_ejec_final_contrato  26553 non-null  Int64 \n",
      " 6   valor_total_de_adiciones  26553 non-null  Int64 \n",
      "dtypes: Int64(4), object(3)\n",
      "memory usage: 1.5+ MB\n",
      "                    tipo_de_contrato departamento_ejecucion id_grupo   \n",
      "0                         suministro           cundinamarca        E  \\\n",
      "1            prestacion de servicios                 bogota        E   \n",
      "2            prestacion de servicios                 bogota        E   \n",
      "3            prestacion de servicios                 bogota        F   \n",
      "4      no encontrado en hoja proceso                 bogota        F   \n",
      "...                              ...                    ...      ...   \n",
      "26548        prestacion de servicios                cordoba        F   \n",
      "26549        prestacion de servicios              antioquia        F   \n",
      "26550        prestacion de servicios                 boyaca        F   \n",
      "26551                           obra                  cauca        G   \n",
      "26552                           obra                  cauca        G   \n",
      "\n",
      "       cuantia_proceso  id_objeto_a_contratar  dias_ejec_final_contrato   \n",
      "0             50000000               50000000                       330  \\\n",
      "1          22980096902               53000000                       690   \n",
      "2             35998452               55000000                        71   \n",
      "3             16767536               72000000                       170   \n",
      "4                    0               73000000                       360   \n",
      "...                ...                    ...                       ...   \n",
      "26548          1220210               94000000                         2   \n",
      "26549          2581895               94000000                        30   \n",
      "26550           866525               94000000                        30   \n",
      "26551         25538052               95000000                        30   \n",
      "26552         29576536               95000000                        30   \n",
      "\n",
      "       valor_total_de_adiciones  \n",
      "0                             0  \n",
      "1                             0  \n",
      "2                             0  \n",
      "3                             0  \n",
      "4                             0  \n",
      "...                         ...  \n",
      "26548                         0  \n",
      "26549                         0  \n",
      "26550                         0  \n",
      "26551                         0  \n",
      "26552                         0  \n",
      "\n",
      "[26553 rows x 7 columns]\n"
     ]
    }
   ],
   "source": [
    "secopI_filter = secop_I[\n",
    "    [  'tipo_de_contrato', 'departamento_ejecucion', 'id_grupo',\"cuantia_proceso\",'id_objeto_a_contratar',\n",
    "     'dias_ejec_final_contrato', 'valor_total_de_adiciones']] #'tiempo_adiciones_en_dias',\n",
    "\n",
    "secopI_filter\n",
    "secopI_filter.columns\n",
    "base = secopI_filter\n",
    "n = base.isna() == True\n",
    "base = base.fillna(0)\n",
    "base.info()\n",
    "print(base)\n"
   ],
   "metadata": {
    "collapsed": false,
    "ExecuteTime": {
     "end_time": "2023-05-21T14:36:22.472061Z",
     "start_time": "2023-05-21T14:36:22.400168Z"
    }
   }
  },
  {
   "cell_type": "code",
   "execution_count": 57,
   "outputs": [],
   "source": [
    "# Codificación de las variables categoricas\n",
    "base['tipo_de_contrato'] = pd.factorize(base.tipo_de_contrato)[0]\n",
    "base['departamento_ejecucion'] = pd.factorize(base.departamento_ejecucion)[0]\n",
    "#base['detalle_del_objeto_a_contratar'] = pd.factorize(base.detalle_del_objeto_a_contratar)[0]\n",
    "base['id_grupo'] = pd.factorize(base.id_grupo)[0]"
   ],
   "metadata": {
    "collapsed": false,
    "ExecuteTime": {
     "end_time": "2023-05-21T14:36:52.175439Z",
     "start_time": "2023-05-21T14:36:52.164224Z"
    }
   }
  },
  {
   "cell_type": "code",
   "execution_count": 58,
   "outputs": [
    {
     "data": {
      "text/plain": "Index(['tipo_de_contrato', 'departamento_ejecucion', 'id_grupo',\n       'cuantia_proceso', 'id_objeto_a_contratar', 'dias_ejec_final_contrato',\n       'valor_total_de_adiciones'],\n      dtype='object')"
     },
     "execution_count": 58,
     "metadata": {},
     "output_type": "execute_result"
    }
   ],
   "source": [
    "df = base\n",
    "df.columns"
   ],
   "metadata": {
    "collapsed": false,
    "ExecuteTime": {
     "end_time": "2023-05-21T14:36:52.660597Z",
     "start_time": "2023-05-21T14:36:52.649460Z"
    }
   }
  },
  {
   "cell_type": "code",
   "execution_count": 59,
   "outputs": [
    {
     "data": {
      "text/plain": "<Axes: >"
     },
     "execution_count": 59,
     "metadata": {},
     "output_type": "execute_result"
    },
    {
     "data": {
      "text/plain": "<Figure size 640x480 with 2 Axes>",
      "image/png": "[encoded data removed]"
     },
     "metadata": {},
     "output_type": "display_data"
    }
   ],
   "source": [
    "import seaborn as sns\n",
    "sns.heatmap(df.corr(), vmin=-1, vmax=1, annot=False)\n"
   ],
   "metadata": {
    "collapsed": false,
    "ExecuteTime": {
     "end_time": "2023-05-21T14:36:53.505852Z",
     "start_time": "2023-05-21T14:36:53.174571Z"
    }
   }
  },
  {
   "cell_type": "code",
   "execution_count": 60,
   "outputs": [],
   "source": [
    "train_dataset = df.sample(frac=0.8,random_state=0)\n",
    "test_dataset = df.drop(train_dataset.index)\n",
    "\n",
    "\n",
    "train_X = train_dataset.drop(['valor_total_de_adiciones'], axis=1)\n",
    "test_X = test_dataset.drop(['valor_total_de_adiciones'], axis=1)"
   ],
   "metadata": {
    "collapsed": false,
    "ExecuteTime": {
     "end_time": "2023-05-21T14:36:53.826561Z",
     "start_time": "2023-05-21T14:36:53.806560Z"
    }
   }
  },
  {
   "cell_type": "code",
   "execution_count": 61,
   "outputs": [
    {
     "data": {
      "text/plain": "                            count             mean               std   \ntipo_de_contrato          21242.0         2.136098          2.327779  \\\ndepartamento_ejecucion    21242.0         8.671924          6.699319   \nid_grupo                  21242.0         1.139488          1.814365   \ncuantia_proceso           21242.0  19836893.112607  178561205.183926   \nid_objeto_a_contratar     21242.0  47790603.521326   19854229.145802   \ndias_ejec_final_contrato  21242.0        80.745645        144.756015   \n\n                                 min         25%         50%         75%   \ntipo_de_contrato                 0.0         0.0         1.0         5.0  \\\ndepartamento_ejecucion           0.0         3.0         8.0        12.0   \nid_grupo                         0.0         0.0         0.0         1.0   \ncuantia_proceso                  0.0   1500000.0   4522639.0  16000000.0   \nid_objeto_a_contratar     10000000.0  44000000.0  50000000.0  53000000.0   \ndias_ejec_final_contrato         0.0        15.0        30.0       100.0   \n\n                                    max  \ntipo_de_contrato                    9.0  \ndepartamento_ejecucion             30.0  \nid_grupo                            6.0  \ncuantia_proceso           22980096902.0  \nid_objeto_a_contratar        95000000.0  \ndias_ejec_final_contrato         7500.0  ",
      "text/html": "<div>\n<style scoped>\n    .dataframe tbody tr th:only-of-type {\n        vertical-align: middle;\n    }\n\n    .dataframe tbody tr th {\n        vertical-align: top;\n    }\n\n    .dataframe thead th {\n        text-align: right;\n    }\n</style>\n<table border=\"1\" class=\"dataframe\">\n  <thead>\n    <tr style=\"text-align: right;\">\n      <th></th>\n      <th>count</th>\n      <th>mean</th>\n      <th>std</th>\n      <th>min</th>\n      <th>25%</th>\n      <th>50%</th>\n      <th>75%</th>\n      <th>max</th>\n    </tr>\n  </thead>\n  <tbody>\n    <tr>\n      <th>tipo_de_contrato</th>\n      <td>21242.0</td>\n      <td>2.136098</td>\n      <td>2.327779</td>\n      <td>0.0</td>\n      <td>0.0</td>\n      <td>1.0</td>\n      <td>5.0</td>\n      <td>9.0</td>\n    </tr>\n    <tr>\n      <th>departamento_ejecucion</th>\n      <td>21242.0</td>\n      <td>8.671924</td>\n      <td>6.699319</td>\n      <td>0.0</td>\n      <td>3.0</td>\n      <td>8.0</td>\n      <td>12.0</td>\n      <td>30.0</td>\n    </tr>\n    <tr>\n      <th>id_grupo</th>\n      <td>21242.0</td>\n      <td>1.139488</td>\n      <td>1.814365</td>\n      <td>0.0</td>\n      <td>0.0</td>\n      <td>0.0</td>\n      <td>1.0</td>\n      <td>6.0</td>\n    </tr>\n    <tr>\n      <th>cuantia_proceso</th>\n      <td>21242.0</td>\n      <td>19836893.112607</td>\n      <td>178561205.183926</td>\n      <td>0.0</td>\n      <td>1500000.0</td>\n      <td>4522639.0</td>\n      <td>16000000.0</td>\n      <td>22980096902.0</td>\n    </tr>\n    <tr>\n      <th>id_objeto_a_contratar</th>\n      <td>21242.0</td>\n      <td>47790603.521326</td>\n      <td>19854229.145802</td>\n      <td>10000000.0</td>\n      <td>44000000.0</td>\n      <td>50000000.0</td>\n      <td>53000000.0</td>\n      <td>95000000.0</td>\n    </tr>\n    <tr>\n      <th>dias_ejec_final_contrato</th>\n      <td>21242.0</td>\n      <td>80.745645</td>\n      <td>144.756015</td>\n      <td>0.0</td>\n      <td>15.0</td>\n      <td>30.0</td>\n      <td>100.0</td>\n      <td>7500.0</td>\n    </tr>\n  </tbody>\n</table>\n</div>"
     },
     "execution_count": 61,
     "metadata": {},
     "output_type": "execute_result"
    }
   ],
   "source": [
    "train_stats = train_X.describe()\n",
    "train_stats = train_stats.transpose()\n",
    "train_stats\n"
   ],
   "metadata": {
    "collapsed": false,
    "ExecuteTime": {
     "end_time": "2023-05-21T14:36:54.414210Z",
     "start_time": "2023-05-21T14:36:54.352526Z"
    }
   }
  },
  {
   "cell_type": "code",
   "execution_count": 62,
   "outputs": [],
   "source": [
    "train_labels = train_dataset.pop('valor_total_de_adiciones')\n",
    "test_labels = test_dataset.pop('valor_total_de_adiciones')"
   ],
   "metadata": {
    "collapsed": false,
    "ExecuteTime": {
     "end_time": "2023-05-21T14:36:55.266075Z",
     "start_time": "2023-05-21T14:36:55.261465Z"
    }
   }
  },
  {
   "cell_type": "code",
   "execution_count": 63,
   "outputs": [],
   "source": [
    "def norm(x):\n",
    "  return (x - train_stats['mean']) / train_stats['std']\n",
    "normed_train_data = norm(train_dataset)\n",
    "normed_test_data = norm(test_dataset)"
   ],
   "metadata": {
    "collapsed": false,
    "ExecuteTime": {
     "end_time": "2023-05-21T14:36:56.011941Z",
     "start_time": "2023-05-21T14:36:55.988170Z"
    }
   }
  },
  {
   "cell_type": "code",
   "execution_count": 64,
   "outputs": [
    {
     "data": {
      "text/plain": "[6]"
     },
     "execution_count": 64,
     "metadata": {},
     "output_type": "execute_result"
    }
   ],
   "source": [
    "[len(train_dataset.keys())]"
   ],
   "metadata": {
    "collapsed": false,
    "ExecuteTime": {
     "end_time": "2023-05-21T14:36:57.028444Z",
     "start_time": "2023-05-21T14:36:57.018009Z"
    }
   }
  },
  {
   "cell_type": "code",
   "execution_count": 65,
   "outputs": [],
   "source": [
    "def build_model ():\n",
    "  model = keras.Sequential([\n",
    "    layers.Dense(6, activation='relu', input_shape=[len(train_dataset.keys())]),\n",
    "    layers.Dense(3, activation='relu'),\n",
    "    layers.Dense(1)\n",
    "  ])\n",
    "  optimizer = tf.keras.optimizers.RMSprop(0.001)\n",
    "\n",
    "  model.compile(loss='mse',\n",
    "                optimizer=optimizer,\n",
    "                metrics=['mae', 'mse'])\n",
    "  return model"
   ],
   "metadata": {
    "collapsed": false,
    "ExecuteTime": {
     "end_time": "2023-05-21T14:37:12.023286Z",
     "start_time": "2023-05-21T14:37:12.019289Z"
    }
   }
  },
  {
   "cell_type": "code",
   "execution_count": 66,
   "outputs": [
    {
     "name": "stderr",
     "output_type": "stream",
     "text": [
      "WARNING:absl:At this time, the v2.11+ optimizer `tf.keras.optimizers.RMSprop` runs slowly on M1/M2 Macs, please use the legacy Keras optimizer instead, located at `tf.keras.optimizers.legacy.RMSprop`.\n",
      "WARNING:absl:There is a known slowdown when using v2.11+ Keras optimizers on M1/M2 Macs. Falling back to the legacy Keras optimizer, i.e., `tf.keras.optimizers.legacy.RMSprop`.\n"
     ]
    }
   ],
   "source": [
    "model = build_model()"
   ],
   "metadata": {
    "collapsed": false,
    "ExecuteTime": {
     "end_time": "2023-05-21T14:37:12.672524Z",
     "start_time": "2023-05-21T14:37:12.608975Z"
    }
   }
  },
  {
   "cell_type": "code",
   "execution_count": 67,
   "outputs": [
    {
     "name": "stdout",
     "output_type": "stream",
     "text": [
      "Model: \"sequential_5\"\n",
      "_________________________________________________________________\n",
      " Layer (type)                Output Shape              Param #   \n",
      "=================================================================\n",
      " dense_20 (Dense)            (None, 6)                 42        \n",
      "                                                                 \n",
      " dense_21 (Dense)            (None, 3)                 21        \n",
      "                                                                 \n",
      " dense_22 (Dense)            (None, 1)                 4         \n",
      "                                                                 \n",
      "=================================================================\n",
      "Total params: 67 (268.00 Byte)\n",
      "Trainable params: 67 (268.00 Byte)\n",
      "Non-trainable params: 0 (0.00 Byte)\n",
      "_________________________________________________________________\n"
     ]
    }
   ],
   "source": [
    "model.summary()"
   ],
   "metadata": {
    "collapsed": false,
    "ExecuteTime": {
     "end_time": "2023-05-21T14:37:13.192941Z",
     "start_time": "2023-05-21T14:37:13.148229Z"
    }
   }
  },
  {
   "cell_type": "code",
   "execution_count": 68,
   "outputs": [],
   "source": [
    "train_data = np.asarray(normed_train_data).astype(np.float32)\n",
    "test_data = np.asarray(normed_test_data).astype(np.float32)\n"
   ],
   "metadata": {
    "collapsed": false,
    "ExecuteTime": {
     "end_time": "2023-05-21T14:37:13.798605Z",
     "start_time": "2023-05-21T14:37:13.781174Z"
    }
   }
  },
  {
   "cell_type": "code",
   "execution_count": 69,
   "outputs": [
    {
     "name": "stdout",
     "output_type": "stream",
     "text": [
      "664/664 [==============================] - 0s 386us/step\n"
     ]
    },
    {
     "data": {
      "text/plain": "array([[ 0.4834007 ],\n       [ 0.        ],\n       [ 0.        ],\n       ...,\n       [ 0.18540102],\n       [ 0.2932168 ],\n       [-0.01180213]], dtype=float32)"
     },
     "execution_count": 69,
     "metadata": {},
     "output_type": "execute_result"
    }
   ],
   "source": [
    "example_batch = train_data[:]\n",
    "example_result = model.predict(example_batch)\n",
    "example_result"
   ],
   "metadata": {
    "collapsed": false,
    "ExecuteTime": {
     "end_time": "2023-05-21T14:37:14.668896Z",
     "start_time": "2023-05-21T14:37:14.173571Z"
    }
   }
  },
  {
   "cell_type": "code",
   "execution_count": 70,
   "outputs": [
    {
     "name": "stdout",
     "output_type": "stream",
     "text": [
      "\n",
      "....................................................................................................\n",
      "...................................................................................................."
     ]
    }
   ],
   "source": [
    "class PrintDot(keras.callbacks.Callback):\n",
    "  def on_epoch_end(self, epoch, logs):\n",
    "    if epoch % 100 == 0: print('')\n",
    "    print('.', end='')\n",
    "\n",
    "EPOCHS = 200\n",
    "\n",
    "from keras import backend as K\n",
    "train_data = K.cast_to_floatx(train_data)\n",
    "train_labels = K.cast_to_floatx(train_labels)\n",
    "\n",
    "history = model.fit(\n",
    "  train_data, train_labels,\n",
    "  epochs=EPOCHS, validation_split = 0.2, verbose=0,\n",
    "  callbacks=[PrintDot()])"
   ],
   "metadata": {
    "collapsed": false,
    "ExecuteTime": {
     "end_time": "2023-05-21T14:38:15.881971Z",
     "start_time": "2023-05-21T14:37:14.655511Z"
    }
   }
  },
  {
   "cell_type": "code",
   "execution_count": 71,
   "outputs": [
    {
     "name": "stdout",
     "output_type": "stream",
     "text": [
      "             loss           mae           mse      val_loss      val_mae   \n",
      "0    3.970694e+13  7.060653e+05  3.970694e+13  2.710808e+14  1139866.750  \\\n",
      "1    3.970694e+13  7.060665e+05  3.970694e+13  2.710808e+14  1139868.750   \n",
      "2    3.970693e+13  7.060704e+05  3.970693e+13  2.710807e+14  1139873.250   \n",
      "3    3.970693e+13  7.060774e+05  3.970693e+13  2.710807e+14  1139881.000   \n",
      "4    3.970688e+13  7.060875e+05  3.970688e+13  2.710806e+14  1139893.375   \n",
      "..            ...           ...           ...           ...          ...   \n",
      "195  3.859013e+13  1.045021e+06  3.859013e+13  2.683548e+14  1464233.875   \n",
      "196  3.858520e+13  1.046068e+06  3.858520e+13  2.683383e+14  1465253.000   \n",
      "197  3.858016e+13  1.047348e+06  3.858016e+13  2.683241e+14  1465962.500   \n",
      "198  3.857620e+13  1.048572e+06  3.857620e+13  2.683103e+14  1466522.625   \n",
      "199  3.857095e+13  1.049168e+06  3.857095e+13  2.682944e+14  1467337.375   \n",
      "\n",
      "          val_mse  epoch  \n",
      "0    2.710808e+14      0  \n",
      "1    2.710808e+14      1  \n",
      "2    2.710807e+14      2  \n",
      "3    2.710807e+14      3  \n",
      "4    2.710806e+14      4  \n",
      "..            ...    ...  \n",
      "195  2.683548e+14    195  \n",
      "196  2.683383e+14    196  \n",
      "197  2.683241e+14    197  \n",
      "198  2.683103e+14    198  \n",
      "199  2.682944e+14    199  \n",
      "\n",
      "[200 rows x 7 columns]\n"
     ]
    }
   ],
   "source": [
    "hist = pd.DataFrame(history.history)\n",
    "hist['epoch'] = history.epoch\n",
    "print(hist)"
   ],
   "metadata": {
    "collapsed": false,
    "ExecuteTime": {
     "end_time": "2023-05-21T14:38:15.939918Z",
     "start_time": "2023-05-21T14:38:15.890644Z"
    }
   }
  },
  {
   "cell_type": "code",
   "execution_count": 72,
   "outputs": [
    {
     "data": {
      "text/plain": "<Figure size 640x480 with 1 Axes>",
      "image/png": "[encoded data removed]"
     },
     "metadata": {},
     "output_type": "display_data"
    },
    {
     "data": {
      "text/plain": "<Figure size 640x480 with 1 Axes>",
      "image/png": "[encoded data removed]"
     },
     "metadata": {},
     "output_type": "display_data"
    }
   ],
   "source": [
    "def plot_history(history):\n",
    "  hist = pd.DataFrame(history.history)\n",
    "  hist['epoch'] = history.epoch\n",
    "\n",
    "  plt.figure()\n",
    "  plt.xlabel('Epoch')\n",
    "  plt.ylabel('Mean Abs Error [valor_total_de_adiciones]')\n",
    "  plt.plot(hist['epoch'], hist['mae'],\n",
    "           label='Train Error')\n",
    "  plt.plot(hist['epoch'], hist['val_mae'],\n",
    "           label = 'Val Error')\n",
    "  plt.legend()\n",
    "\n",
    "  plt.figure()\n",
    "  plt.xlabel('Epoch')\n",
    "  plt.ylabel('Mean Square Error [$valor_total_de_adiciones^2$]')\n",
    "  plt.plot(hist['epoch'], hist['mse'],\n",
    "           label='Train Error')\n",
    "  plt.plot(hist['epoch'], hist['val_mse'],\n",
    "           label = 'Val Error')\n",
    "  plt.legend()\n",
    "  plt.show()\n",
    "\n",
    "\n",
    "plot_history(history)"
   ],
   "metadata": {
    "collapsed": false,
    "ExecuteTime": {
     "end_time": "2023-05-21T14:38:17.468126Z",
     "start_time": "2023-05-21T14:38:15.997407Z"
    }
   }
  },
  {
   "cell_type": "code",
   "execution_count": 73,
   "outputs": [
    {
     "name": "stderr",
     "output_type": "stream",
     "text": [
      "WARNING:absl:At this time, the v2.11+ optimizer `tf.keras.optimizers.RMSprop` runs slowly on M1/M2 Macs, please use the legacy Keras optimizer instead, located at `tf.keras.optimizers.legacy.RMSprop`.\n",
      "WARNING:absl:There is a known slowdown when using v2.11+ Keras optimizers on M1/M2 Macs. Falling back to the legacy Keras optimizer, i.e., `tf.keras.optimizers.legacy.RMSprop`.\n"
     ]
    }
   ],
   "source": [
    "model_imp = build_model()"
   ],
   "metadata": {
    "collapsed": false,
    "ExecuteTime": {
     "end_time": "2023-05-21T14:38:17.535110Z",
     "start_time": "2023-05-21T14:38:17.476307Z"
    }
   }
  },
  {
   "cell_type": "code",
   "execution_count": 73,
   "outputs": [],
   "source": [],
   "metadata": {
    "collapsed": false,
    "ExecuteTime": {
     "end_time": "2023-05-21T14:38:17.536365Z",
     "start_time": "2023-05-21T14:38:17.520568Z"
    }
   }
  },
  {
   "cell_type": "code",
   "execution_count": 74,
   "outputs": [
    {
     "name": "stdout",
     "output_type": "stream",
     "text": [
      "166/166 [==============================] - 0s 716us/step\n"
     ]
    },
    {
     "data": {
      "text/plain": "      resultados\n0       0.000000\n1       0.009447\n2       0.012810\n3       0.013283\n4       0.013283\n...          ...\n5306    0.001604\n5307    0.036534\n5308   -0.008942\n5309   -0.113415\n5310   -0.121286\n\n[5311 rows x 1 columns]",
      "text/html": "<div>\n<style scoped>\n    .dataframe tbody tr th:only-of-type {\n        vertical-align: middle;\n    }\n\n    .dataframe tbody tr th {\n        vertical-align: top;\n    }\n\n    .dataframe thead th {\n        text-align: right;\n    }\n</style>\n<table border=\"1\" class=\"dataframe\">\n  <thead>\n    <tr style=\"text-align: right;\">\n      <th></th>\n      <th>resultados</th>\n    </tr>\n  </thead>\n  <tbody>\n    <tr>\n      <th>0</th>\n      <td>0.000000</td>\n    </tr>\n    <tr>\n      <th>1</th>\n      <td>0.009447</td>\n    </tr>\n    <tr>\n      <th>2</th>\n      <td>0.012810</td>\n    </tr>\n    <tr>\n      <th>3</th>\n      <td>0.013283</td>\n    </tr>\n    <tr>\n      <th>4</th>\n      <td>0.013283</td>\n    </tr>\n    <tr>\n      <th>...</th>\n      <td>...</td>\n    </tr>\n    <tr>\n      <th>5306</th>\n      <td>0.001604</td>\n    </tr>\n    <tr>\n      <th>5307</th>\n      <td>0.036534</td>\n    </tr>\n    <tr>\n      <th>5308</th>\n      <td>-0.008942</td>\n    </tr>\n    <tr>\n      <th>5309</th>\n      <td>-0.113415</td>\n    </tr>\n    <tr>\n      <th>5310</th>\n      <td>-0.121286</td>\n    </tr>\n  </tbody>\n</table>\n<p>5311 rows × 1 columns</p>\n</div>"
     },
     "execution_count": 74,
     "metadata": {},
     "output_type": "execute_result"
    }
   ],
   "source": [
    "test_data = np.asarray(normed_test_data).astype(np.float32)\n",
    "example_result = model_imp.predict(np.array(test_data[:]))\n",
    "resultados = pd.DataFrame(example_result)\n",
    "resultados.columns = ['resultados']\n",
    "resultados"
   ],
   "metadata": {
    "collapsed": false,
    "ExecuteTime": {
     "end_time": "2023-05-21T14:38:18.085056Z",
     "start_time": "2023-05-21T14:38:17.539673Z"
    }
   }
  },
  {
   "cell_type": "code",
   "execution_count": 75,
   "outputs": [],
   "source": [
    "test_data = np.asarray(normed_test_data).astype(np.float32)"
   ],
   "metadata": {
    "collapsed": false,
    "ExecuteTime": {
     "end_time": "2023-05-21T14:38:18.089520Z",
     "start_time": "2023-05-21T14:38:18.087918Z"
    }
   }
  },
  {
   "cell_type": "code",
   "execution_count": 76,
   "outputs": [],
   "source": [
    "test_labels = pd.DataFrame(test_labels)\n",
    "compare = pd.concat([resultados, test_labels], axis=1)\n",
    "compare = compare.fillna(0)"
   ],
   "metadata": {
    "collapsed": false,
    "ExecuteTime": {
     "end_time": "2023-05-21T14:38:18.092269Z",
     "start_time": "2023-05-21T14:38:18.090913Z"
    }
   }
  },
  {
   "cell_type": "code",
   "execution_count": 77,
   "outputs": [
    {
     "name": "stdout",
     "output_type": "stream",
     "text": [
      "El MSE entre las columnas 'Modelo' y 'Dato' es: 29993952696120.254\n",
      "El MAE entre las columnas 'Modelo' y 'Dato' es: 398013.357967523\n"
     ]
    }
   ],
   "source": [
    "from sklearn.metrics import mean_squared_error, mean_absolute_error\n",
    "\n",
    "mse_t = mean_squared_error(compare['resultados'], compare['valor_total_de_adiciones'])\n",
    "mae_t = mean_absolute_error(compare['resultados'], compare['valor_total_de_adiciones'])\n",
    "print(\"El MSE entre las columnas 'Modelo' y 'Dato' es:\", mse_t)\n",
    "print(\"El MAE entre las columnas 'Modelo' y 'Dato' es:\", mae_t)\n"
   ],
   "metadata": {
    "collapsed": false,
    "ExecuteTime": {
     "end_time": "2023-05-21T14:38:18.127894Z",
     "start_time": "2023-05-21T14:38:18.093695Z"
    }
   }
  },
  {
   "cell_type": "code",
   "execution_count": 53,
   "outputs": [
    {
     "name": "stdout",
     "output_type": "stream",
     "text": [
      "Coeficientes (m):\n",
      "m1: -5.521910190582275\n",
      "m2: -4.73265266418457\n",
      "m3: -3.624376058578491\n",
      "m4: -1.7713463306427002\n",
      "m5: -7.766342639923096\n",
      "m6: 2.1537187099456787\n",
      "m7: 1.6838548183441162\n",
      "m8: 12.38211727142334\n",
      "\n",
      "Sesgo (B):\n",
      "9.865838\n"
     ]
    }
   ],
   "source": [
    "weights = model.get_weights()[0]\n",
    "biases = model.get_weights()[1]\n",
    "\n",
    "# Imprimir los coeficientes\n",
    "print(\"Coeficientes (m):\")\n",
    "for i, w in enumerate(weights):\n",
    "    print(f\"m{i+1}: {w[0]}\")\n",
    "\n",
    "print(\"\")\n",
    "\n",
    "# Imprimir el sesgo (intercepto) (B)\n",
    "print(\"Sesgo (B):\")\n",
    "print(biases[0])"
   ],
   "metadata": {
    "collapsed": false,
    "ExecuteTime": {
     "end_time": "2023-05-21T14:22:55.467814Z",
     "start_time": "2023-05-21T14:22:55.402406Z"
    }
   }
  },
  {
   "cell_type": "code",
   "execution_count": null,
   "outputs": [],
   "source": [],
   "metadata": {
    "collapsed": false
   }
  }
 ],
 "metadata": {
  "kernelspec": {
   "display_name": "Python 3",
   "language": "python",
   "name": "python3"
  },
  "language_info": {
   "codemirror_mode": {
    "name": "ipython",
    "version": 2
   },
   "file_extension": ".py",
   "mimetype": "text/x-python",
   "name": "python",
   "nbconvert_exporter": "python",
   "pygments_lexer": "ipython2",
   "version": "2.7.6"
  }
 },
 "nbformat": 4,
 "nbformat_minor": 0
}
